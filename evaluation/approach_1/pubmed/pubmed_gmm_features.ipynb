{
 "cells": [
  {
   "cell_type": "code",
   "execution_count": 1,
   "id": "1f4fefde",
   "metadata": {},
   "outputs": [],
   "source": [
    "# This code works in Python 3.10.6\n",
    "import seaborn as sns\n",
    "import matplotlib.pyplot as plt\n",
    "import numpy as np\n",
    "import pandas as pd\n",
    "from sklearn.mixture import GaussianMixture\n",
    "import torch_geometric.transforms as T\n",
    "import networkx as nx\n",
    "import torch\n",
    "import warnings\n",
    "warnings.filterwarnings('ignore')"
   ]
  },
  {
   "cell_type": "code",
   "execution_count": 2,
   "id": "2ba86047",
   "metadata": {},
   "outputs": [],
   "source": [
    "import csv\n",
    "import os\n",
    "import os.path as osp"
   ]
  },
  {
   "cell_type": "markdown",
   "id": "aef469b1",
   "metadata": {},
   "source": [
    "Read DBLP dataset"
   ]
  },
  {
   "cell_type": "code",
   "execution_count": 3,
   "id": "4a87f324",
   "metadata": {},
   "outputs": [
    {
     "data": {
      "text/html": [
       "<div>\n",
       "<style scoped>\n",
       "    .dataframe tbody tr th:only-of-type {\n",
       "        vertical-align: middle;\n",
       "    }\n",
       "\n",
       "    .dataframe tbody tr th {\n",
       "        vertical-align: top;\n",
       "    }\n",
       "\n",
       "    .dataframe thead th {\n",
       "        text-align: right;\n",
       "    }\n",
       "</style>\n",
       "<table border=\"1\" class=\"dataframe\">\n",
       "  <thead>\n",
       "    <tr style=\"text-align: right;\">\n",
       "      <th></th>\n",
       "      <th>node_id</th>\n",
       "      <th>node_name</th>\n",
       "      <th>node_type</th>\n",
       "      <th>node_attributes</th>\n",
       "    </tr>\n",
       "  </thead>\n",
       "  <tbody>\n",
       "    <tr>\n",
       "      <th>0</th>\n",
       "      <td>0</td>\n",
       "      <td>ITCC</td>\n",
       "      <td>2</td>\n",
       "      <td>0.02508,-0.036716,0.091492,-0.074665,0.022286,...</td>\n",
       "    </tr>\n",
       "    <tr>\n",
       "      <th>1</th>\n",
       "      <td>1</td>\n",
       "      <td>gamma-Butyrolactone</td>\n",
       "      <td>2</td>\n",
       "      <td>-0.072251,-0.1242,0.027377,-0.049692,0.022852,...</td>\n",
       "    </tr>\n",
       "    <tr>\n",
       "      <th>2</th>\n",
       "      <td>2</td>\n",
       "      <td>eIF4E</td>\n",
       "      <td>0</td>\n",
       "      <td>-0.85981,-1.632455,-0.238721,-0.527147,1.09448...</td>\n",
       "    </tr>\n",
       "    <tr>\n",
       "      <th>3</th>\n",
       "      <td>3</td>\n",
       "      <td>abietane</td>\n",
       "      <td>2</td>\n",
       "      <td>-0.100137,-0.295236,0.204746,-0.043928,0.09525...</td>\n",
       "    </tr>\n",
       "    <tr>\n",
       "      <th>4</th>\n",
       "      <td>4</td>\n",
       "      <td>DOGMATISM</td>\n",
       "      <td>2</td>\n",
       "      <td>0.005788,-0.080936,-0.038131,0.039531,-0.00082...</td>\n",
       "    </tr>\n",
       "    <tr>\n",
       "      <th>...</th>\n",
       "      <td>...</td>\n",
       "      <td>...</td>\n",
       "      <td>...</td>\n",
       "      <td>...</td>\n",
       "    </tr>\n",
       "    <tr>\n",
       "      <th>63104</th>\n",
       "      <td>63104</td>\n",
       "      <td>archival_tumor</td>\n",
       "      <td>1</td>\n",
       "      <td>0.066291,0.020142,0.146529,-0.058354,0.11038,0...</td>\n",
       "    </tr>\n",
       "    <tr>\n",
       "      <th>63105</th>\n",
       "      <td>63105</td>\n",
       "      <td>diflucortolone</td>\n",
       "      <td>2</td>\n",
       "      <td>0.027386,-0.231205,0.110102,0.058394,-0.052956...</td>\n",
       "    </tr>\n",
       "    <tr>\n",
       "      <th>63106</th>\n",
       "      <td>63106</td>\n",
       "      <td>A2BP1</td>\n",
       "      <td>0</td>\n",
       "      <td>0.038467,-0.022038,0.046468,-0.087253,0.157027...</td>\n",
       "    </tr>\n",
       "    <tr>\n",
       "      <th>63107</th>\n",
       "      <td>63107</td>\n",
       "      <td>Digital_Health_Literacy</td>\n",
       "      <td>1</td>\n",
       "      <td>-0.01894,-0.061136,0.097672,-0.102349,0.078652...</td>\n",
       "    </tr>\n",
       "    <tr>\n",
       "      <th>63108</th>\n",
       "      <td>63108</td>\n",
       "      <td>T+</td>\n",
       "      <td>2</td>\n",
       "      <td>0.108149,-0.390668,0.012945,-0.145729,-0.07213...</td>\n",
       "    </tr>\n",
       "  </tbody>\n",
       "</table>\n",
       "<p>63109 rows × 4 columns</p>\n",
       "</div>"
      ],
      "text/plain": [
       "       node_id                node_name  node_type  \\\n",
       "0            0                     ITCC          2   \n",
       "1            1      gamma-Butyrolactone          2   \n",
       "2            2                    eIF4E          0   \n",
       "3            3                 abietane          2   \n",
       "4            4                DOGMATISM          2   \n",
       "...        ...                      ...        ...   \n",
       "63104    63104           archival_tumor          1   \n",
       "63105    63105           diflucortolone          2   \n",
       "63106    63106                    A2BP1          0   \n",
       "63107    63107  Digital_Health_Literacy          1   \n",
       "63108    63108                       T+          2   \n",
       "\n",
       "                                         node_attributes  \n",
       "0      0.02508,-0.036716,0.091492,-0.074665,0.022286,...  \n",
       "1      -0.072251,-0.1242,0.027377,-0.049692,0.022852,...  \n",
       "2      -0.85981,-1.632455,-0.238721,-0.527147,1.09448...  \n",
       "3      -0.100137,-0.295236,0.204746,-0.043928,0.09525...  \n",
       "4      0.005788,-0.080936,-0.038131,0.039531,-0.00082...  \n",
       "...                                                  ...  \n",
       "63104  0.066291,0.020142,0.146529,-0.058354,0.11038,0...  \n",
       "63105  0.027386,-0.231205,0.110102,0.058394,-0.052956...  \n",
       "63106  0.038467,-0.022038,0.046468,-0.087253,0.157027...  \n",
       "63107  -0.01894,-0.061136,0.097672,-0.102349,0.078652...  \n",
       "63108  0.108149,-0.390668,0.012945,-0.145729,-0.07213...  \n",
       "\n",
       "[63109 rows x 4 columns]"
      ]
     },
     "execution_count": 3,
     "metadata": {},
     "output_type": "execute_result"
    }
   ],
   "source": [
    "df_nodes = pd.read_table(('node_pubmed.dat'),names=['node_id', 'node_name', 'node_type', 'node_attributes'],quoting=csv.QUOTE_NONE)\n",
    "df_nodes"
   ]
  },
  {
   "cell_type": "code",
   "execution_count": 4,
   "id": "d0e3d294",
   "metadata": {},
   "outputs": [
    {
     "data": {
      "text/html": [
       "<div>\n",
       "<style scoped>\n",
       "    .dataframe tbody tr th:only-of-type {\n",
       "        vertical-align: middle;\n",
       "    }\n",
       "\n",
       "    .dataframe tbody tr th {\n",
       "        vertical-align: top;\n",
       "    }\n",
       "\n",
       "    .dataframe thead th {\n",
       "        text-align: right;\n",
       "    }\n",
       "</style>\n",
       "<table border=\"1\" class=\"dataframe\">\n",
       "  <thead>\n",
       "    <tr style=\"text-align: right;\">\n",
       "      <th></th>\n",
       "      <th>node_id</th>\n",
       "      <th>node_name</th>\n",
       "      <th>node_type</th>\n",
       "      <th>node_label</th>\n",
       "    </tr>\n",
       "  </thead>\n",
       "  <tbody>\n",
       "    <tr>\n",
       "      <th>0</th>\n",
       "      <td>46178</td>\n",
       "      <td>psoriasis</td>\n",
       "      <td>1</td>\n",
       "      <td>6</td>\n",
       "    </tr>\n",
       "    <tr>\n",
       "      <th>1</th>\n",
       "      <td>60275</td>\n",
       "      <td>Skin_disease</td>\n",
       "      <td>1</td>\n",
       "      <td>6</td>\n",
       "    </tr>\n",
       "    <tr>\n",
       "      <th>2</th>\n",
       "      <td>16406</td>\n",
       "      <td>Nevus</td>\n",
       "      <td>1</td>\n",
       "      <td>6</td>\n",
       "    </tr>\n",
       "    <tr>\n",
       "      <th>3</th>\n",
       "      <td>52160</td>\n",
       "      <td>frambesia</td>\n",
       "      <td>1</td>\n",
       "      <td>6</td>\n",
       "    </tr>\n",
       "    <tr>\n",
       "      <th>4</th>\n",
       "      <td>46120</td>\n",
       "      <td>Erythroderma</td>\n",
       "      <td>1</td>\n",
       "      <td>6</td>\n",
       "    </tr>\n",
       "    <tr>\n",
       "      <th>...</th>\n",
       "      <td>...</td>\n",
       "      <td>...</td>\n",
       "      <td>...</td>\n",
       "      <td>...</td>\n",
       "    </tr>\n",
       "    <tr>\n",
       "      <th>363</th>\n",
       "      <td>55492</td>\n",
       "      <td>Trematode</td>\n",
       "      <td>1</td>\n",
       "      <td>1</td>\n",
       "    </tr>\n",
       "    <tr>\n",
       "      <th>364</th>\n",
       "      <td>33145</td>\n",
       "      <td>malformation</td>\n",
       "      <td>1</td>\n",
       "      <td>1</td>\n",
       "    </tr>\n",
       "    <tr>\n",
       "      <th>365</th>\n",
       "      <td>30135</td>\n",
       "      <td>hypoparathyroidism</td>\n",
       "      <td>1</td>\n",
       "      <td>1</td>\n",
       "    </tr>\n",
       "    <tr>\n",
       "      <th>366</th>\n",
       "      <td>719</td>\n",
       "      <td>Hyperparathyroidism</td>\n",
       "      <td>1</td>\n",
       "      <td>1</td>\n",
       "    </tr>\n",
       "    <tr>\n",
       "      <th>367</th>\n",
       "      <td>34817</td>\n",
       "      <td>Cushing's_Disease</td>\n",
       "      <td>1</td>\n",
       "      <td>1</td>\n",
       "    </tr>\n",
       "  </tbody>\n",
       "</table>\n",
       "<p>368 rows × 4 columns</p>\n",
       "</div>"
      ],
      "text/plain": [
       "     node_id            node_name  node_type  node_label\n",
       "0      46178            psoriasis          1           6\n",
       "1      60275         Skin_disease          1           6\n",
       "2      16406                Nevus          1           6\n",
       "3      52160            frambesia          1           6\n",
       "4      46120         Erythroderma          1           6\n",
       "..       ...                  ...        ...         ...\n",
       "363    55492            Trematode          1           1\n",
       "364    33145         malformation          1           1\n",
       "365    30135   hypoparathyroidism          1           1\n",
       "366      719  Hyperparathyroidism          1           1\n",
       "367    34817    Cushing's_Disease          1           1\n",
       "\n",
       "[368 rows x 4 columns]"
      ]
     },
     "execution_count": 4,
     "metadata": {},
     "output_type": "execute_result"
    }
   ],
   "source": [
    "df_labels_train = pd.read_table(('label_pubmed.dat'),names=['node_id', 'node_name', 'node_type', 'node_label'])\n",
    "df_labels_train"
   ]
  },
  {
   "cell_type": "code",
   "execution_count": 5,
   "id": "7ff3819a",
   "metadata": {},
   "outputs": [
    {
     "data": {
      "text/html": [
       "<div>\n",
       "<style scoped>\n",
       "    .dataframe tbody tr th:only-of-type {\n",
       "        vertical-align: middle;\n",
       "    }\n",
       "\n",
       "    .dataframe tbody tr th {\n",
       "        vertical-align: top;\n",
       "    }\n",
       "\n",
       "    .dataframe thead th {\n",
       "        text-align: right;\n",
       "    }\n",
       "</style>\n",
       "<table border=\"1\" class=\"dataframe\">\n",
       "  <thead>\n",
       "    <tr style=\"text-align: right;\">\n",
       "      <th></th>\n",
       "      <th>node_id</th>\n",
       "      <th>node_name</th>\n",
       "      <th>node_type</th>\n",
       "      <th>node_label</th>\n",
       "    </tr>\n",
       "  </thead>\n",
       "  <tbody>\n",
       "    <tr>\n",
       "      <th>0</th>\n",
       "      <td>60572</td>\n",
       "      <td>Keratosis</td>\n",
       "      <td>1</td>\n",
       "      <td>6</td>\n",
       "    </tr>\n",
       "    <tr>\n",
       "      <th>1</th>\n",
       "      <td>15604</td>\n",
       "      <td>comedones</td>\n",
       "      <td>1</td>\n",
       "      <td>6</td>\n",
       "    </tr>\n",
       "    <tr>\n",
       "      <th>2</th>\n",
       "      <td>58988</td>\n",
       "      <td>scleredema</td>\n",
       "      <td>1</td>\n",
       "      <td>6</td>\n",
       "    </tr>\n",
       "    <tr>\n",
       "      <th>3</th>\n",
       "      <td>46537</td>\n",
       "      <td>erythroderma</td>\n",
       "      <td>1</td>\n",
       "      <td>6</td>\n",
       "    </tr>\n",
       "    <tr>\n",
       "      <th>4</th>\n",
       "      <td>33425</td>\n",
       "      <td>Seborrheic_dermatitis</td>\n",
       "      <td>1</td>\n",
       "      <td>6</td>\n",
       "    </tr>\n",
       "    <tr>\n",
       "      <th>...</th>\n",
       "      <td>...</td>\n",
       "      <td>...</td>\n",
       "      <td>...</td>\n",
       "      <td>...</td>\n",
       "    </tr>\n",
       "    <tr>\n",
       "      <th>81</th>\n",
       "      <td>18593</td>\n",
       "      <td>Thyrotoxicosis</td>\n",
       "      <td>1</td>\n",
       "      <td>1</td>\n",
       "    </tr>\n",
       "    <tr>\n",
       "      <th>82</th>\n",
       "      <td>8604</td>\n",
       "      <td>Adenopathy</td>\n",
       "      <td>1</td>\n",
       "      <td>1</td>\n",
       "    </tr>\n",
       "    <tr>\n",
       "      <th>83</th>\n",
       "      <td>61782</td>\n",
       "      <td>hip</td>\n",
       "      <td>1</td>\n",
       "      <td>1</td>\n",
       "    </tr>\n",
       "    <tr>\n",
       "      <th>84</th>\n",
       "      <td>46434</td>\n",
       "      <td>tearing</td>\n",
       "      <td>1</td>\n",
       "      <td>1</td>\n",
       "    </tr>\n",
       "    <tr>\n",
       "      <th>85</th>\n",
       "      <td>62954</td>\n",
       "      <td>decubitus</td>\n",
       "      <td>1</td>\n",
       "      <td>1</td>\n",
       "    </tr>\n",
       "  </tbody>\n",
       "</table>\n",
       "<p>86 rows × 4 columns</p>\n",
       "</div>"
      ],
      "text/plain": [
       "    node_id              node_name  node_type  node_label\n",
       "0     60572              Keratosis          1           6\n",
       "1     15604              comedones          1           6\n",
       "2     58988             scleredema          1           6\n",
       "3     46537           erythroderma          1           6\n",
       "4     33425  Seborrheic_dermatitis          1           6\n",
       "..      ...                    ...        ...         ...\n",
       "81    18593         Thyrotoxicosis          1           1\n",
       "82     8604             Adenopathy          1           1\n",
       "83    61782                    hip          1           1\n",
       "84    46434                tearing          1           1\n",
       "85    62954              decubitus          1           1\n",
       "\n",
       "[86 rows x 4 columns]"
      ]
     },
     "execution_count": 5,
     "metadata": {},
     "output_type": "execute_result"
    }
   ],
   "source": [
    "df_labels_test = pd.read_table(('label_pubmed.dat.test'),names=['node_id', 'node_name', 'node_type', 'node_label'])\n",
    "df_labels_test"
   ]
  },
  {
   "cell_type": "code",
   "execution_count": 6,
   "id": "43b21b0b",
   "metadata": {},
   "outputs": [
    {
     "data": {
      "text/html": [
       "<div>\n",
       "<style scoped>\n",
       "    .dataframe tbody tr th:only-of-type {\n",
       "        vertical-align: middle;\n",
       "    }\n",
       "\n",
       "    .dataframe tbody tr th {\n",
       "        vertical-align: top;\n",
       "    }\n",
       "\n",
       "    .dataframe thead th {\n",
       "        text-align: right;\n",
       "    }\n",
       "</style>\n",
       "<table border=\"1\" class=\"dataframe\">\n",
       "  <thead>\n",
       "    <tr style=\"text-align: right;\">\n",
       "      <th></th>\n",
       "      <th>node_id</th>\n",
       "      <th>node_name</th>\n",
       "      <th>node_type</th>\n",
       "      <th>node_label</th>\n",
       "    </tr>\n",
       "  </thead>\n",
       "  <tbody>\n",
       "    <tr>\n",
       "      <th>0</th>\n",
       "      <td>46178</td>\n",
       "      <td>psoriasis</td>\n",
       "      <td>1</td>\n",
       "      <td>6</td>\n",
       "    </tr>\n",
       "    <tr>\n",
       "      <th>1</th>\n",
       "      <td>60275</td>\n",
       "      <td>Skin_disease</td>\n",
       "      <td>1</td>\n",
       "      <td>6</td>\n",
       "    </tr>\n",
       "    <tr>\n",
       "      <th>2</th>\n",
       "      <td>16406</td>\n",
       "      <td>Nevus</td>\n",
       "      <td>1</td>\n",
       "      <td>6</td>\n",
       "    </tr>\n",
       "    <tr>\n",
       "      <th>3</th>\n",
       "      <td>52160</td>\n",
       "      <td>frambesia</td>\n",
       "      <td>1</td>\n",
       "      <td>6</td>\n",
       "    </tr>\n",
       "    <tr>\n",
       "      <th>4</th>\n",
       "      <td>46120</td>\n",
       "      <td>Erythroderma</td>\n",
       "      <td>1</td>\n",
       "      <td>6</td>\n",
       "    </tr>\n",
       "    <tr>\n",
       "      <th>...</th>\n",
       "      <td>...</td>\n",
       "      <td>...</td>\n",
       "      <td>...</td>\n",
       "      <td>...</td>\n",
       "    </tr>\n",
       "    <tr>\n",
       "      <th>449</th>\n",
       "      <td>18593</td>\n",
       "      <td>Thyrotoxicosis</td>\n",
       "      <td>1</td>\n",
       "      <td>1</td>\n",
       "    </tr>\n",
       "    <tr>\n",
       "      <th>450</th>\n",
       "      <td>8604</td>\n",
       "      <td>Adenopathy</td>\n",
       "      <td>1</td>\n",
       "      <td>1</td>\n",
       "    </tr>\n",
       "    <tr>\n",
       "      <th>451</th>\n",
       "      <td>61782</td>\n",
       "      <td>hip</td>\n",
       "      <td>1</td>\n",
       "      <td>1</td>\n",
       "    </tr>\n",
       "    <tr>\n",
       "      <th>452</th>\n",
       "      <td>46434</td>\n",
       "      <td>tearing</td>\n",
       "      <td>1</td>\n",
       "      <td>1</td>\n",
       "    </tr>\n",
       "    <tr>\n",
       "      <th>453</th>\n",
       "      <td>62954</td>\n",
       "      <td>decubitus</td>\n",
       "      <td>1</td>\n",
       "      <td>1</td>\n",
       "    </tr>\n",
       "  </tbody>\n",
       "</table>\n",
       "<p>454 rows × 4 columns</p>\n",
       "</div>"
      ],
      "text/plain": [
       "     node_id       node_name  node_type  node_label\n",
       "0      46178       psoriasis          1           6\n",
       "1      60275    Skin_disease          1           6\n",
       "2      16406           Nevus          1           6\n",
       "3      52160       frambesia          1           6\n",
       "4      46120    Erythroderma          1           6\n",
       "..       ...             ...        ...         ...\n",
       "449    18593  Thyrotoxicosis          1           1\n",
       "450     8604      Adenopathy          1           1\n",
       "451    61782             hip          1           1\n",
       "452    46434         tearing          1           1\n",
       "453    62954       decubitus          1           1\n",
       "\n",
       "[454 rows x 4 columns]"
      ]
     },
     "execution_count": 6,
     "metadata": {},
     "output_type": "execute_result"
    }
   ],
   "source": [
    "df_labels = pd.concat([df_labels_train, df_labels_test],ignore_index=True)\n",
    "df_labels"
   ]
  },
  {
   "cell_type": "code",
   "execution_count": 7,
   "id": "b7bf65a4",
   "metadata": {},
   "outputs": [
    {
     "data": {
      "text/html": [
       "<div>\n",
       "<style scoped>\n",
       "    .dataframe tbody tr th:only-of-type {\n",
       "        vertical-align: middle;\n",
       "    }\n",
       "\n",
       "    .dataframe tbody tr th {\n",
       "        vertical-align: top;\n",
       "    }\n",
       "\n",
       "    .dataframe thead th {\n",
       "        text-align: right;\n",
       "    }\n",
       "</style>\n",
       "<table border=\"1\" class=\"dataframe\">\n",
       "  <thead>\n",
       "    <tr style=\"text-align: right;\">\n",
       "      <th></th>\n",
       "      <th>index</th>\n",
       "      <th>node_id</th>\n",
       "      <th>node_name</th>\n",
       "      <th>node_type</th>\n",
       "      <th>node_attributes</th>\n",
       "    </tr>\n",
       "  </thead>\n",
       "  <tbody>\n",
       "    <tr>\n",
       "      <th>0</th>\n",
       "      <td>2</td>\n",
       "      <td>2</td>\n",
       "      <td>eIF4E</td>\n",
       "      <td>0</td>\n",
       "      <td>-0.85981,-1.632455,-0.238721,-0.527147,1.09448...</td>\n",
       "    </tr>\n",
       "    <tr>\n",
       "      <th>1</th>\n",
       "      <td>5</td>\n",
       "      <td>5</td>\n",
       "      <td>UBLCP1</td>\n",
       "      <td>0</td>\n",
       "      <td>-0.116854,-0.120575,0.07072,-0.166677,0.106602...</td>\n",
       "    </tr>\n",
       "    <tr>\n",
       "      <th>2</th>\n",
       "      <td>6</td>\n",
       "      <td>6</td>\n",
       "      <td>nodZ</td>\n",
       "      <td>0</td>\n",
       "      <td>-0.042955,-0.014979,0.023987,0.025399,0.013668...</td>\n",
       "    </tr>\n",
       "    <tr>\n",
       "      <th>3</th>\n",
       "      <td>11</td>\n",
       "      <td>11</td>\n",
       "      <td>grp170</td>\n",
       "      <td>0</td>\n",
       "      <td>-0.106744,-0.079176,-0.107495,0.049958,-0.0039...</td>\n",
       "    </tr>\n",
       "    <tr>\n",
       "      <th>4</th>\n",
       "      <td>12</td>\n",
       "      <td>12</td>\n",
       "      <td>B6_and_D2</td>\n",
       "      <td>0</td>\n",
       "      <td>-0.097067,-0.050246,0.000982,0.024265,0.025848...</td>\n",
       "    </tr>\n",
       "    <tr>\n",
       "      <th>...</th>\n",
       "      <td>...</td>\n",
       "      <td>...</td>\n",
       "      <td>...</td>\n",
       "      <td>...</td>\n",
       "      <td>...</td>\n",
       "    </tr>\n",
       "    <tr>\n",
       "      <th>13556</th>\n",
       "      <td>63090</td>\n",
       "      <td>63090</td>\n",
       "      <td>hCGalpha</td>\n",
       "      <td>0</td>\n",
       "      <td>-0.189161,-0.110873,0.018683,0.030247,0.08659,...</td>\n",
       "    </tr>\n",
       "    <tr>\n",
       "      <th>13557</th>\n",
       "      <td>63093</td>\n",
       "      <td>63093</td>\n",
       "      <td>HSD2</td>\n",
       "      <td>0</td>\n",
       "      <td>-0.03078,-0.16347,0.081172,0.023949,0.05953,-0...</td>\n",
       "    </tr>\n",
       "    <tr>\n",
       "      <th>13558</th>\n",
       "      <td>63099</td>\n",
       "      <td>63099</td>\n",
       "      <td>pgi1</td>\n",
       "      <td>0</td>\n",
       "      <td>-0.021245,-0.040226,0.059328,-0.154712,-0.0274...</td>\n",
       "    </tr>\n",
       "    <tr>\n",
       "      <th>13559</th>\n",
       "      <td>63103</td>\n",
       "      <td>63103</td>\n",
       "      <td>cytotoxic_T-lymphocyte_antigen-4</td>\n",
       "      <td>0</td>\n",
       "      <td>-0.027838,-0.221384,0.031655,0.041904,0.094765...</td>\n",
       "    </tr>\n",
       "    <tr>\n",
       "      <th>13560</th>\n",
       "      <td>63106</td>\n",
       "      <td>63106</td>\n",
       "      <td>A2BP1</td>\n",
       "      <td>0</td>\n",
       "      <td>0.038467,-0.022038,0.046468,-0.087253,0.157027...</td>\n",
       "    </tr>\n",
       "  </tbody>\n",
       "</table>\n",
       "<p>13561 rows × 5 columns</p>\n",
       "</div>"
      ],
      "text/plain": [
       "       index  node_id                         node_name  node_type  \\\n",
       "0          2        2                             eIF4E          0   \n",
       "1          5        5                            UBLCP1          0   \n",
       "2          6        6                              nodZ          0   \n",
       "3         11       11                            grp170          0   \n",
       "4         12       12                         B6_and_D2          0   \n",
       "...      ...      ...                               ...        ...   \n",
       "13556  63090    63090                          hCGalpha          0   \n",
       "13557  63093    63093                              HSD2          0   \n",
       "13558  63099    63099                              pgi1          0   \n",
       "13559  63103    63103  cytotoxic_T-lymphocyte_antigen-4          0   \n",
       "13560  63106    63106                             A2BP1          0   \n",
       "\n",
       "                                         node_attributes  \n",
       "0      -0.85981,-1.632455,-0.238721,-0.527147,1.09448...  \n",
       "1      -0.116854,-0.120575,0.07072,-0.166677,0.106602...  \n",
       "2      -0.042955,-0.014979,0.023987,0.025399,0.013668...  \n",
       "3      -0.106744,-0.079176,-0.107495,0.049958,-0.0039...  \n",
       "4      -0.097067,-0.050246,0.000982,0.024265,0.025848...  \n",
       "...                                                  ...  \n",
       "13556  -0.189161,-0.110873,0.018683,0.030247,0.08659,...  \n",
       "13557  -0.03078,-0.16347,0.081172,0.023949,0.05953,-0...  \n",
       "13558  -0.021245,-0.040226,0.059328,-0.154712,-0.0274...  \n",
       "13559  -0.027838,-0.221384,0.031655,0.041904,0.094765...  \n",
       "13560  0.038467,-0.022038,0.046468,-0.087253,0.157027...  \n",
       "\n",
       "[13561 rows x 5 columns]"
      ]
     },
     "execution_count": 7,
     "metadata": {},
     "output_type": "execute_result"
    }
   ],
   "source": [
    "df_gene = df_nodes[df_nodes['node_type'] == 0]\n",
    "df_gene.reset_index()"
   ]
  },
  {
   "cell_type": "code",
   "execution_count": 8,
   "id": "ffb6bb8e",
   "metadata": {},
   "outputs": [
    {
     "data": {
      "text/html": [
       "<div>\n",
       "<style scoped>\n",
       "    .dataframe tbody tr th:only-of-type {\n",
       "        vertical-align: middle;\n",
       "    }\n",
       "\n",
       "    .dataframe tbody tr th {\n",
       "        vertical-align: top;\n",
       "    }\n",
       "\n",
       "    .dataframe thead th {\n",
       "        text-align: right;\n",
       "    }\n",
       "</style>\n",
       "<table border=\"1\" class=\"dataframe\">\n",
       "  <thead>\n",
       "    <tr style=\"text-align: right;\">\n",
       "      <th></th>\n",
       "      <th>index</th>\n",
       "      <th>node_id</th>\n",
       "      <th>node_name</th>\n",
       "      <th>node_type</th>\n",
       "      <th>node_attributes</th>\n",
       "    </tr>\n",
       "  </thead>\n",
       "  <tbody>\n",
       "    <tr>\n",
       "      <th>0</th>\n",
       "      <td>0</td>\n",
       "      <td>0</td>\n",
       "      <td>ITCC</td>\n",
       "      <td>2</td>\n",
       "      <td>0.02508,-0.036716,0.091492,-0.074665,0.022286,...</td>\n",
       "    </tr>\n",
       "    <tr>\n",
       "      <th>1</th>\n",
       "      <td>1</td>\n",
       "      <td>1</td>\n",
       "      <td>gamma-Butyrolactone</td>\n",
       "      <td>2</td>\n",
       "      <td>-0.072251,-0.1242,0.027377,-0.049692,0.022852,...</td>\n",
       "    </tr>\n",
       "    <tr>\n",
       "      <th>2</th>\n",
       "      <td>3</td>\n",
       "      <td>3</td>\n",
       "      <td>abietane</td>\n",
       "      <td>2</td>\n",
       "      <td>-0.100137,-0.295236,0.204746,-0.043928,0.09525...</td>\n",
       "    </tr>\n",
       "    <tr>\n",
       "      <th>3</th>\n",
       "      <td>4</td>\n",
       "      <td>4</td>\n",
       "      <td>DOGMATISM</td>\n",
       "      <td>2</td>\n",
       "      <td>0.005788,-0.080936,-0.038131,0.039531,-0.00082...</td>\n",
       "    </tr>\n",
       "    <tr>\n",
       "      <th>4</th>\n",
       "      <td>7</td>\n",
       "      <td>7</td>\n",
       "      <td>TZDs</td>\n",
       "      <td>2</td>\n",
       "      <td>-0.383792,-0.101718,-0.271882,-0.411151,0.1531...</td>\n",
       "    </tr>\n",
       "    <tr>\n",
       "      <th>...</th>\n",
       "      <td>...</td>\n",
       "      <td>...</td>\n",
       "      <td>...</td>\n",
       "      <td>...</td>\n",
       "      <td>...</td>\n",
       "    </tr>\n",
       "    <tr>\n",
       "      <th>26517</th>\n",
       "      <td>63100</td>\n",
       "      <td>63100</td>\n",
       "      <td>Dibutyryl_cyclic_AMP</td>\n",
       "      <td>2</td>\n",
       "      <td>-0.01441,-0.2465,-0.061486,-0.11033,-0.050258,...</td>\n",
       "    </tr>\n",
       "    <tr>\n",
       "      <th>26518</th>\n",
       "      <td>63101</td>\n",
       "      <td>63101</td>\n",
       "      <td>Ag3Sn</td>\n",
       "      <td>2</td>\n",
       "      <td>0.062272,0.027182,-0.130906,-0.13105,-0.049692...</td>\n",
       "    </tr>\n",
       "    <tr>\n",
       "      <th>26519</th>\n",
       "      <td>63102</td>\n",
       "      <td>63102</td>\n",
       "      <td>PAL-LPC</td>\n",
       "      <td>2</td>\n",
       "      <td>-0.017939,0.004023,0.050958,-0.115518,-0.12366...</td>\n",
       "    </tr>\n",
       "    <tr>\n",
       "      <th>26520</th>\n",
       "      <td>63105</td>\n",
       "      <td>63105</td>\n",
       "      <td>diflucortolone</td>\n",
       "      <td>2</td>\n",
       "      <td>0.027386,-0.231205,0.110102,0.058394,-0.052956...</td>\n",
       "    </tr>\n",
       "    <tr>\n",
       "      <th>26521</th>\n",
       "      <td>63108</td>\n",
       "      <td>63108</td>\n",
       "      <td>T+</td>\n",
       "      <td>2</td>\n",
       "      <td>0.108149,-0.390668,0.012945,-0.145729,-0.07213...</td>\n",
       "    </tr>\n",
       "  </tbody>\n",
       "</table>\n",
       "<p>26522 rows × 5 columns</p>\n",
       "</div>"
      ],
      "text/plain": [
       "       index  node_id             node_name  node_type  \\\n",
       "0          0        0                  ITCC          2   \n",
       "1          1        1   gamma-Butyrolactone          2   \n",
       "2          3        3              abietane          2   \n",
       "3          4        4             DOGMATISM          2   \n",
       "4          7        7                  TZDs          2   \n",
       "...      ...      ...                   ...        ...   \n",
       "26517  63100    63100  Dibutyryl_cyclic_AMP          2   \n",
       "26518  63101    63101                 Ag3Sn          2   \n",
       "26519  63102    63102               PAL-LPC          2   \n",
       "26520  63105    63105        diflucortolone          2   \n",
       "26521  63108    63108                    T+          2   \n",
       "\n",
       "                                         node_attributes  \n",
       "0      0.02508,-0.036716,0.091492,-0.074665,0.022286,...  \n",
       "1      -0.072251,-0.1242,0.027377,-0.049692,0.022852,...  \n",
       "2      -0.100137,-0.295236,0.204746,-0.043928,0.09525...  \n",
       "3      0.005788,-0.080936,-0.038131,0.039531,-0.00082...  \n",
       "4      -0.383792,-0.101718,-0.271882,-0.411151,0.1531...  \n",
       "...                                                  ...  \n",
       "26517  -0.01441,-0.2465,-0.061486,-0.11033,-0.050258,...  \n",
       "26518  0.062272,0.027182,-0.130906,-0.13105,-0.049692...  \n",
       "26519  -0.017939,0.004023,0.050958,-0.115518,-0.12366...  \n",
       "26520  0.027386,-0.231205,0.110102,0.058394,-0.052956...  \n",
       "26521  0.108149,-0.390668,0.012945,-0.145729,-0.07213...  \n",
       "\n",
       "[26522 rows x 5 columns]"
      ]
     },
     "execution_count": 8,
     "metadata": {},
     "output_type": "execute_result"
    }
   ],
   "source": [
    "df_chemical = df_nodes[df_nodes['node_type'] == 2]\n",
    "df_chemical.reset_index()"
   ]
  },
  {
   "cell_type": "code",
   "execution_count": 9,
   "id": "a6361870",
   "metadata": {},
   "outputs": [
    {
     "data": {
      "text/html": [
       "<div>\n",
       "<style scoped>\n",
       "    .dataframe tbody tr th:only-of-type {\n",
       "        vertical-align: middle;\n",
       "    }\n",
       "\n",
       "    .dataframe tbody tr th {\n",
       "        vertical-align: top;\n",
       "    }\n",
       "\n",
       "    .dataframe thead th {\n",
       "        text-align: right;\n",
       "    }\n",
       "</style>\n",
       "<table border=\"1\" class=\"dataframe\">\n",
       "  <thead>\n",
       "    <tr style=\"text-align: right;\">\n",
       "      <th></th>\n",
       "      <th>index</th>\n",
       "      <th>node_id</th>\n",
       "      <th>node_name</th>\n",
       "      <th>node_type</th>\n",
       "      <th>node_attributes</th>\n",
       "    </tr>\n",
       "  </thead>\n",
       "  <tbody>\n",
       "    <tr>\n",
       "      <th>0</th>\n",
       "      <td>16</td>\n",
       "      <td>16</td>\n",
       "      <td>painted_turtles</td>\n",
       "      <td>3</td>\n",
       "      <td>-0.095541,-0.209068,-0.167771,0.081688,0.23290...</td>\n",
       "    </tr>\n",
       "    <tr>\n",
       "      <th>1</th>\n",
       "      <td>30</td>\n",
       "      <td>30</td>\n",
       "      <td>Rickettsia_rickettsii</td>\n",
       "      <td>3</td>\n",
       "      <td>0.030015,-0.184471,0.088601,-0.097601,-0.07233...</td>\n",
       "    </tr>\n",
       "    <tr>\n",
       "      <th>2</th>\n",
       "      <td>52</td>\n",
       "      <td>52</td>\n",
       "      <td>Ictalurus_punctatus</td>\n",
       "      <td>3</td>\n",
       "      <td>-0.093925,-0.211232,0.173214,0.096446,-0.06752...</td>\n",
       "    </tr>\n",
       "    <tr>\n",
       "      <th>3</th>\n",
       "      <td>128</td>\n",
       "      <td>128</td>\n",
       "      <td>N._GONORRHOEAE</td>\n",
       "      <td>3</td>\n",
       "      <td>-0.014923,-0.060145,0.014826,-0.00509,0.009751...</td>\n",
       "    </tr>\n",
       "    <tr>\n",
       "      <th>4</th>\n",
       "      <td>140</td>\n",
       "      <td>140</td>\n",
       "      <td>giraffes</td>\n",
       "      <td>3</td>\n",
       "      <td>-0.174262,0.005391,0.191771,0.075813,0.00924,-...</td>\n",
       "    </tr>\n",
       "    <tr>\n",
       "      <th>...</th>\n",
       "      <td>...</td>\n",
       "      <td>...</td>\n",
       "      <td>...</td>\n",
       "      <td>...</td>\n",
       "      <td>...</td>\n",
       "    </tr>\n",
       "    <tr>\n",
       "      <th>2858</th>\n",
       "      <td>62965</td>\n",
       "      <td>62965</td>\n",
       "      <td>Methanospirillum_hungatei</td>\n",
       "      <td>3</td>\n",
       "      <td>0.019382,-0.09156,0.09262,-0.020885,-0.007555,...</td>\n",
       "    </tr>\n",
       "    <tr>\n",
       "      <th>2859</th>\n",
       "      <td>62977</td>\n",
       "      <td>62977</td>\n",
       "      <td>H._pylori</td>\n",
       "      <td>3</td>\n",
       "      <td>2.070796,-0.284317,2.720454,-0.739623,-1.43600...</td>\n",
       "    </tr>\n",
       "    <tr>\n",
       "      <th>2860</th>\n",
       "      <td>62998</td>\n",
       "      <td>62998</td>\n",
       "      <td>F_nucleatum</td>\n",
       "      <td>3</td>\n",
       "      <td>-0.026027,-0.116689,0.046049,-0.065215,-0.0877...</td>\n",
       "    </tr>\n",
       "    <tr>\n",
       "      <th>2861</th>\n",
       "      <td>63031</td>\n",
       "      <td>63031</td>\n",
       "      <td>H._pylori_strain</td>\n",
       "      <td>3</td>\n",
       "      <td>-0.024642,-0.024474,0.113648,-0.044572,-0.1329...</td>\n",
       "    </tr>\n",
       "    <tr>\n",
       "      <th>2862</th>\n",
       "      <td>63069</td>\n",
       "      <td>63069</td>\n",
       "      <td>L._reuteri</td>\n",
       "      <td>3</td>\n",
       "      <td>0.19531,-0.647608,0.240585,-0.120975,0.000274,...</td>\n",
       "    </tr>\n",
       "  </tbody>\n",
       "</table>\n",
       "<p>2863 rows × 5 columns</p>\n",
       "</div>"
      ],
      "text/plain": [
       "      index  node_id                  node_name  node_type  \\\n",
       "0        16       16            painted_turtles          3   \n",
       "1        30       30      Rickettsia_rickettsii          3   \n",
       "2        52       52        Ictalurus_punctatus          3   \n",
       "3       128      128             N._GONORRHOEAE          3   \n",
       "4       140      140                   giraffes          3   \n",
       "...     ...      ...                        ...        ...   \n",
       "2858  62965    62965  Methanospirillum_hungatei          3   \n",
       "2859  62977    62977                  H._pylori          3   \n",
       "2860  62998    62998                F_nucleatum          3   \n",
       "2861  63031    63031           H._pylori_strain          3   \n",
       "2862  63069    63069                 L._reuteri          3   \n",
       "\n",
       "                                        node_attributes  \n",
       "0     -0.095541,-0.209068,-0.167771,0.081688,0.23290...  \n",
       "1     0.030015,-0.184471,0.088601,-0.097601,-0.07233...  \n",
       "2     -0.093925,-0.211232,0.173214,0.096446,-0.06752...  \n",
       "3     -0.014923,-0.060145,0.014826,-0.00509,0.009751...  \n",
       "4     -0.174262,0.005391,0.191771,0.075813,0.00924,-...  \n",
       "...                                                 ...  \n",
       "2858  0.019382,-0.09156,0.09262,-0.020885,-0.007555,...  \n",
       "2859  2.070796,-0.284317,2.720454,-0.739623,-1.43600...  \n",
       "2860  -0.026027,-0.116689,0.046049,-0.065215,-0.0877...  \n",
       "2861  -0.024642,-0.024474,0.113648,-0.044572,-0.1329...  \n",
       "2862  0.19531,-0.647608,0.240585,-0.120975,0.000274,...  \n",
       "\n",
       "[2863 rows x 5 columns]"
      ]
     },
     "execution_count": 9,
     "metadata": {},
     "output_type": "execute_result"
    }
   ],
   "source": [
    "df_species = df_nodes[df_nodes['node_type'] == 3]\n",
    "df_species.reset_index()"
   ]
  },
  {
   "cell_type": "markdown",
   "id": "717954f2",
   "metadata": {},
   "source": [
    "Training data for GMM "
   ]
  },
  {
   "cell_type": "code",
   "execution_count": 10,
   "id": "235b91b8",
   "metadata": {
    "scrolled": true
   },
   "outputs": [
    {
     "data": {
      "text/html": [
       "<div>\n",
       "<style scoped>\n",
       "    .dataframe tbody tr th:only-of-type {\n",
       "        vertical-align: middle;\n",
       "    }\n",
       "\n",
       "    .dataframe tbody tr th {\n",
       "        vertical-align: top;\n",
       "    }\n",
       "\n",
       "    .dataframe thead th {\n",
       "        text-align: right;\n",
       "    }\n",
       "</style>\n",
       "<table border=\"1\" class=\"dataframe\">\n",
       "  <thead>\n",
       "    <tr style=\"text-align: right;\">\n",
       "      <th></th>\n",
       "      <th>index</th>\n",
       "      <th>node_id</th>\n",
       "      <th>node_attributes</th>\n",
       "      <th>node_label</th>\n",
       "    </tr>\n",
       "  </thead>\n",
       "  <tbody>\n",
       "    <tr>\n",
       "      <th>0</th>\n",
       "      <td>0</td>\n",
       "      <td>81</td>\n",
       "      <td>0.293945,-1.118894,0.365789,0.826958,-1.024909...</td>\n",
       "      <td>2</td>\n",
       "    </tr>\n",
       "    <tr>\n",
       "      <th>1</th>\n",
       "      <td>1</td>\n",
       "      <td>382</td>\n",
       "      <td>-0.076263,-0.1012,0.205599,-0.010939,0.011885,...</td>\n",
       "      <td>0</td>\n",
       "    </tr>\n",
       "    <tr>\n",
       "      <th>2</th>\n",
       "      <td>2</td>\n",
       "      <td>719</td>\n",
       "      <td>-0.00509,-0.093002,0.155948,-1.041911,-0.11497...</td>\n",
       "      <td>1</td>\n",
       "    </tr>\n",
       "    <tr>\n",
       "      <th>3</th>\n",
       "      <td>3</td>\n",
       "      <td>1168</td>\n",
       "      <td>-1.590567,-1.421712,1.546614,2.070439,-1.26965...</td>\n",
       "      <td>5</td>\n",
       "    </tr>\n",
       "    <tr>\n",
       "      <th>4</th>\n",
       "      <td>4</td>\n",
       "      <td>1183</td>\n",
       "      <td>-0.047317,-0.141594,0.075213,-0.12674,-0.05318...</td>\n",
       "      <td>4</td>\n",
       "    </tr>\n",
       "    <tr>\n",
       "      <th>...</th>\n",
       "      <td>...</td>\n",
       "      <td>...</td>\n",
       "      <td>...</td>\n",
       "      <td>...</td>\n",
       "    </tr>\n",
       "    <tr>\n",
       "      <th>449</th>\n",
       "      <td>449</td>\n",
       "      <td>62712</td>\n",
       "      <td>0.167095,-0.445305,0.003027,-0.286198,0.293009...</td>\n",
       "      <td>0</td>\n",
       "    </tr>\n",
       "    <tr>\n",
       "      <th>450</th>\n",
       "      <td>450</td>\n",
       "      <td>62883</td>\n",
       "      <td>-0.8007,0.467567,-0.670862,-0.588446,-0.42748,...</td>\n",
       "      <td>0</td>\n",
       "    </tr>\n",
       "    <tr>\n",
       "      <th>451</th>\n",
       "      <td>451</td>\n",
       "      <td>62907</td>\n",
       "      <td>0.02855,-0.412978,0.205488,-0.129589,-0.13769,...</td>\n",
       "      <td>4</td>\n",
       "    </tr>\n",
       "    <tr>\n",
       "      <th>452</th>\n",
       "      <td>452</td>\n",
       "      <td>62954</td>\n",
       "      <td>0.865129,-0.039594,-0.652221,0.421712,-0.16300...</td>\n",
       "      <td>1</td>\n",
       "    </tr>\n",
       "    <tr>\n",
       "      <th>453</th>\n",
       "      <td>453</td>\n",
       "      <td>62996</td>\n",
       "      <td>0.009147,-0.216109,0.09272,-0.283599,0.006904,...</td>\n",
       "      <td>4</td>\n",
       "    </tr>\n",
       "  </tbody>\n",
       "</table>\n",
       "<p>454 rows × 4 columns</p>\n",
       "</div>"
      ],
      "text/plain": [
       "     index  node_id                                    node_attributes  \\\n",
       "0        0       81  0.293945,-1.118894,0.365789,0.826958,-1.024909...   \n",
       "1        1      382  -0.076263,-0.1012,0.205599,-0.010939,0.011885,...   \n",
       "2        2      719  -0.00509,-0.093002,0.155948,-1.041911,-0.11497...   \n",
       "3        3     1168  -1.590567,-1.421712,1.546614,2.070439,-1.26965...   \n",
       "4        4     1183  -0.047317,-0.141594,0.075213,-0.12674,-0.05318...   \n",
       "..     ...      ...                                                ...   \n",
       "449    449    62712  0.167095,-0.445305,0.003027,-0.286198,0.293009...   \n",
       "450    450    62883  -0.8007,0.467567,-0.670862,-0.588446,-0.42748,...   \n",
       "451    451    62907  0.02855,-0.412978,0.205488,-0.129589,-0.13769,...   \n",
       "452    452    62954  0.865129,-0.039594,-0.652221,0.421712,-0.16300...   \n",
       "453    453    62996  0.009147,-0.216109,0.09272,-0.283599,0.006904,...   \n",
       "\n",
       "     node_label  \n",
       "0             2  \n",
       "1             0  \n",
       "2             1  \n",
       "3             5  \n",
       "4             4  \n",
       "..          ...  \n",
       "449           0  \n",
       "450           0  \n",
       "451           4  \n",
       "452           1  \n",
       "453           4  \n",
       "\n",
       "[454 rows x 4 columns]"
      ]
     },
     "execution_count": 10,
     "metadata": {},
     "output_type": "execute_result"
    }
   ],
   "source": [
    "#Original disease node features\n",
    "#Select the nodes of type 1 which are labeled\n",
    "df_disease=pd.merge(df_nodes, df_labels, on=\"node_id\")[['node_id','node_attributes','node_label']]\n",
    "df_disease = df_disease.reset_index()\n",
    "df_disease"
   ]
  },
  {
   "cell_type": "markdown",
   "id": "18ab6d7e",
   "metadata": {},
   "source": [
    "Fit GMM to 8 disease types"
   ]
  },
  {
   "cell_type": "code",
   "execution_count": 11,
   "id": "e6707a85",
   "metadata": {},
   "outputs": [],
   "source": [
    "def convert_string_to_float(df):\n",
    "    return df['node_attributes'].apply(lambda x: np.fromstring(x, dtype=float, sep=',' ))"
   ]
  },
  {
   "cell_type": "code",
   "execution_count": 12,
   "id": "153158db",
   "metadata": {},
   "outputs": [],
   "source": [
    "def preprocess_class(df_class):\n",
    "    df_class = df_class.reset_index()\n",
    "    df_class = convert_string_to_float(df_class)\n",
    "\n",
    "    x = torch.tensor(df_class).float()\n",
    "    disease_class = pd.DataFrame(x.numpy())\n",
    "    return disease_class"
   ]
  },
  {
   "cell_type": "code",
   "execution_count": 13,
   "id": "cf56d685",
   "metadata": {},
   "outputs": [
    {
     "data": {
      "text/plain": [
       "(69, 200)"
      ]
     },
     "execution_count": 13,
     "metadata": {},
     "output_type": "execute_result"
    }
   ],
   "source": [
    "class0 = df_disease[df_disease['node_label'] == 0].drop(['node_label','node_id'], axis = 1)\n",
    "disease_class0 = preprocess_class(class0)\n",
    "disease_class0.shape"
   ]
  },
  {
   "cell_type": "code",
   "execution_count": 14,
   "id": "6a85fe34",
   "metadata": {},
   "outputs": [
    {
     "data": {
      "text/plain": [
       "(52, 200)"
      ]
     },
     "execution_count": 14,
     "metadata": {},
     "output_type": "execute_result"
    }
   ],
   "source": [
    "class1 = df_disease[df_disease['node_label'] == 1].drop(['node_label','node_id'], axis = 1)\n",
    "disease_class1 = preprocess_class(class1)\n",
    "disease_class1.shape"
   ]
  },
  {
   "cell_type": "code",
   "execution_count": 15,
   "id": "54084f0f",
   "metadata": {},
   "outputs": [
    {
     "data": {
      "text/plain": [
       "(48, 200)"
      ]
     },
     "execution_count": 15,
     "metadata": {},
     "output_type": "execute_result"
    }
   ],
   "source": [
    "class2 = df_disease[df_disease['node_label'] == 2].drop(['node_label','node_id'], axis = 1)\n",
    "disease_class2 = preprocess_class(class2)\n",
    "disease_class2.shape"
   ]
  },
  {
   "cell_type": "code",
   "execution_count": 16,
   "id": "cf504823",
   "metadata": {},
   "outputs": [
    {
     "data": {
      "text/plain": [
       "(39, 200)"
      ]
     },
     "execution_count": 16,
     "metadata": {},
     "output_type": "execute_result"
    }
   ],
   "source": [
    "class3 = df_disease[df_disease['node_label'] == 3].drop(['node_label','node_id'], axis = 1)\n",
    "disease_class3 = preprocess_class(class3)\n",
    "disease_class3.shape"
   ]
  },
  {
   "cell_type": "code",
   "execution_count": 17,
   "id": "79739788",
   "metadata": {},
   "outputs": [
    {
     "data": {
      "text/plain": [
       "(98, 200)"
      ]
     },
     "execution_count": 17,
     "metadata": {},
     "output_type": "execute_result"
    }
   ],
   "source": [
    "class4 = df_disease[df_disease['node_label'] == 4].drop(['node_label','node_id'], axis = 1)\n",
    "disease_class4 = preprocess_class(class4)\n",
    "disease_class4.shape"
   ]
  },
  {
   "cell_type": "code",
   "execution_count": 18,
   "id": "7f874b60",
   "metadata": {},
   "outputs": [
    {
     "data": {
      "text/plain": [
       "(64, 200)"
      ]
     },
     "execution_count": 18,
     "metadata": {},
     "output_type": "execute_result"
    }
   ],
   "source": [
    "class5 = df_disease[df_disease['node_label'] == 5].drop(['node_label','node_id'], axis = 1)\n",
    "disease_class5 = preprocess_class(class5)\n",
    "disease_class5.shape"
   ]
  },
  {
   "cell_type": "code",
   "execution_count": 19,
   "id": "2d67af42",
   "metadata": {},
   "outputs": [
    {
     "data": {
      "text/plain": [
       "(42, 200)"
      ]
     },
     "execution_count": 19,
     "metadata": {},
     "output_type": "execute_result"
    }
   ],
   "source": [
    "class6 = df_disease[df_disease['node_label'] == 6].drop(['node_label','node_id'], axis = 1)\n",
    "disease_class6 = preprocess_class(class6)\n",
    "disease_class6.shape"
   ]
  },
  {
   "cell_type": "code",
   "execution_count": 20,
   "id": "eb1058e7",
   "metadata": {},
   "outputs": [
    {
     "data": {
      "text/plain": [
       "(42, 200)"
      ]
     },
     "execution_count": 20,
     "metadata": {},
     "output_type": "execute_result"
    }
   ],
   "source": [
    "class7 = df_disease[df_disease['node_label'] == 7].drop(['node_label','node_id'], axis = 1)\n",
    "disease_class7 = preprocess_class(class7)\n",
    "disease_class7.shape"
   ]
  },
  {
   "cell_type": "code",
   "execution_count": 21,
   "id": "b7a80632",
   "metadata": {},
   "outputs": [
    {
     "data": {
      "text/plain": [
       "(13561, 200)"
      ]
     },
     "execution_count": 21,
     "metadata": {},
     "output_type": "execute_result"
    }
   ],
   "source": [
    "gene = preprocess_class(df_gene)\n",
    "gene.shape"
   ]
  },
  {
   "cell_type": "code",
   "execution_count": 22,
   "id": "5ef463bc",
   "metadata": {},
   "outputs": [
    {
     "data": {
      "text/plain": [
       "(26522, 200)"
      ]
     },
     "execution_count": 22,
     "metadata": {},
     "output_type": "execute_result"
    }
   ],
   "source": [
    "chemical = preprocess_class(df_chemical)\n",
    "chemical.shape"
   ]
  },
  {
   "cell_type": "code",
   "execution_count": 23,
   "id": "bec94235",
   "metadata": {},
   "outputs": [
    {
     "data": {
      "text/plain": [
       "(2863, 200)"
      ]
     },
     "execution_count": 23,
     "metadata": {},
     "output_type": "execute_result"
    }
   ],
   "source": [
    "species = preprocess_class(df_species)\n",
    "species.shape"
   ]
  },
  {
   "cell_type": "markdown",
   "id": "949f15ab",
   "metadata": {},
   "source": [
    "Fit and sample GMM"
   ]
  },
  {
   "cell_type": "code",
   "execution_count": 24,
   "id": "967f38b6",
   "metadata": {},
   "outputs": [],
   "source": [
    "new_features_dict = {}"
   ]
  },
  {
   "cell_type": "code",
   "execution_count": 25,
   "id": "3439dbaf",
   "metadata": {},
   "outputs": [],
   "source": [
    "def sample_features(model,node_type, n_samples):\n",
    "\n",
    "    smpls = model.sample(n_samples)\n",
    "    print(\"no of class {} node samples - {}\".format(node_type, n_samples))\n",
    "    return smpls[0]"
   ]
  },
  {
   "cell_type": "code",
   "execution_count": 26,
   "id": "e5ef43b6",
   "metadata": {},
   "outputs": [],
   "source": [
    "def fit_sample_gm(df_class, node_type, n_samples):\n",
    "    #fit\n",
    "    model = GaussianMixture(n_components=1, covariance_type='full', random_state = 0)\n",
    "    model.fit(df_class)\n",
    "    #print(\"Mean for nodetype\", node_type,model.means_)\n",
    "    #sample\n",
    "    smpls = sample_features(model, node_type, n_samples)\n",
    "    new_features_dict[node_type] = smpls"
   ]
  },
  {
   "cell_type": "markdown",
   "id": "24aba7a2",
   "metadata": {},
   "source": [
    "Class 0 - GENE,\n",
    "\n",
    "Class 1 - DISEASE,\n",
    "\n",
    "Class 2  - CHEMICAL,\n",
    "\n",
    "Class 3 - SPECIES"
   ]
  },
  {
   "cell_type": "code",
   "execution_count": 27,
   "id": "0598eb7d",
   "metadata": {},
   "outputs": [],
   "source": [
    "G = nx.read_gexf(\"PubMed_hgen.gexf\")\n",
    "n_samples_disease = len(dict((n,d['class']) for n,d in G.nodes().items() if d['class'] == 1))\n",
    "n_samples_gene = len(dict((n,d['class']) for n,d in G.nodes().items() if d['class'] == 0))\n",
    "n_samples_chemical = len(dict((n,d['class']) for n,d in G.nodes().items() if d['class'] == 2))\n",
    "n_samples_species = len(dict((n,d['class']) for n,d in G.nodes().items() if d['class'] == 3))"
   ]
  },
  {
   "cell_type": "code",
   "execution_count": 28,
   "id": "91c07e81",
   "metadata": {},
   "outputs": [
    {
     "data": {
      "text/plain": [
       "643"
      ]
     },
     "execution_count": 28,
     "metadata": {},
     "output_type": "execute_result"
    }
   ],
   "source": [
    "len(dict((n,d['class']) for n,d in G.nodes().items() if d['class'] == 1))"
   ]
  },
  {
   "cell_type": "code",
   "execution_count": 29,
   "id": "fab359fc",
   "metadata": {},
   "outputs": [
    {
     "data": {
      "text/plain": [
       "313"
      ]
     },
     "execution_count": 29,
     "metadata": {},
     "output_type": "execute_result"
    }
   ],
   "source": [
    "len(dict((n,d['class']) for n,d in G.nodes().items() if d['class'] == 0))"
   ]
  },
  {
   "cell_type": "code",
   "execution_count": 30,
   "id": "a0dc113f",
   "metadata": {},
   "outputs": [
    {
     "data": {
      "text/plain": [
       "564"
      ]
     },
     "execution_count": 30,
     "metadata": {},
     "output_type": "execute_result"
    }
   ],
   "source": [
    "len(dict((n,d['class']) for n,d in G.nodes().items() if d['class'] == 2))"
   ]
  },
  {
   "cell_type": "code",
   "execution_count": 31,
   "id": "177e0ee2",
   "metadata": {},
   "outputs": [
    {
     "data": {
      "text/plain": [
       "45"
      ]
     },
     "execution_count": 31,
     "metadata": {},
     "output_type": "execute_result"
    }
   ],
   "source": [
    "len(dict((n,d['class']) for n,d in G.nodes().items() if d['class'] == 3))"
   ]
  },
  {
   "cell_type": "code",
   "execution_count": 32,
   "id": "27964d81",
   "metadata": {},
   "outputs": [],
   "source": [
    "#sample disease classes"
   ]
  },
  {
   "cell_type": "code",
   "execution_count": 33,
   "id": "ed6f2ac3",
   "metadata": {},
   "outputs": [
    {
     "name": "stdout",
     "output_type": "stream",
     "text": [
      "no of class disease0 node samples - 80\n"
     ]
    }
   ],
   "source": [
    "fit_sample_gm(disease_class0, 'disease0', 80)"
   ]
  },
  {
   "cell_type": "code",
   "execution_count": 34,
   "id": "e2cf34ac",
   "metadata": {},
   "outputs": [
    {
     "name": "stdout",
     "output_type": "stream",
     "text": [
      "no of class disease1 node samples - 80\n"
     ]
    }
   ],
   "source": [
    "fit_sample_gm(disease_class1, 'disease1', 80)"
   ]
  },
  {
   "cell_type": "code",
   "execution_count": 35,
   "id": "92146236",
   "metadata": {},
   "outputs": [
    {
     "name": "stdout",
     "output_type": "stream",
     "text": [
      "no of class disease2 node samples - 80\n"
     ]
    }
   ],
   "source": [
    "fit_sample_gm(disease_class2, 'disease2', 80)"
   ]
  },
  {
   "cell_type": "code",
   "execution_count": 36,
   "id": "20b96884",
   "metadata": {},
   "outputs": [
    {
     "name": "stdout",
     "output_type": "stream",
     "text": [
      "no of class disease3 node samples - 80\n"
     ]
    }
   ],
   "source": [
    "fit_sample_gm(disease_class3, 'disease3', 80)"
   ]
  },
  {
   "cell_type": "code",
   "execution_count": 37,
   "id": "dfab1e55",
   "metadata": {},
   "outputs": [
    {
     "name": "stdout",
     "output_type": "stream",
     "text": [
      "no of class disease4 node samples - 80\n"
     ]
    }
   ],
   "source": [
    "fit_sample_gm(disease_class4, 'disease4', 80)"
   ]
  },
  {
   "cell_type": "code",
   "execution_count": 38,
   "id": "b08809cc",
   "metadata": {},
   "outputs": [
    {
     "name": "stdout",
     "output_type": "stream",
     "text": [
      "no of class disease5 node samples - 81\n"
     ]
    }
   ],
   "source": [
    "fit_sample_gm(disease_class5, 'disease5', 81)"
   ]
  },
  {
   "cell_type": "code",
   "execution_count": 39,
   "id": "32302e54",
   "metadata": {},
   "outputs": [
    {
     "name": "stdout",
     "output_type": "stream",
     "text": [
      "no of class disease6 node samples - 81\n"
     ]
    }
   ],
   "source": [
    "fit_sample_gm(disease_class6, 'disease6', 81)"
   ]
  },
  {
   "cell_type": "code",
   "execution_count": 40,
   "id": "54ce7736",
   "metadata": {},
   "outputs": [
    {
     "name": "stdout",
     "output_type": "stream",
     "text": [
      "no of class disease7 node samples - 81\n"
     ]
    }
   ],
   "source": [
    "fit_sample_gm(disease_class7, 'disease7', 81)"
   ]
  },
  {
   "cell_type": "code",
   "execution_count": 41,
   "id": "ee2f4b63",
   "metadata": {},
   "outputs": [],
   "source": [
    "#sample gene class"
   ]
  },
  {
   "cell_type": "code",
   "execution_count": 42,
   "id": "44e46fb1",
   "metadata": {},
   "outputs": [
    {
     "name": "stdout",
     "output_type": "stream",
     "text": [
      "no of class gene node samples - 313\n"
     ]
    }
   ],
   "source": [
    "fit_sample_gm(gene, 'gene', n_samples_gene)"
   ]
  },
  {
   "cell_type": "code",
   "execution_count": 43,
   "id": "87b852e0",
   "metadata": {},
   "outputs": [],
   "source": [
    "#sample chemical class"
   ]
  },
  {
   "cell_type": "code",
   "execution_count": 44,
   "id": "24aeb6d1",
   "metadata": {},
   "outputs": [
    {
     "name": "stdout",
     "output_type": "stream",
     "text": [
      "no of class chemical node samples - 564\n"
     ]
    }
   ],
   "source": [
    "fit_sample_gm(gene, 'chemical', n_samples_chemical)"
   ]
  },
  {
   "cell_type": "code",
   "execution_count": 45,
   "id": "b43944a0",
   "metadata": {},
   "outputs": [],
   "source": [
    "#sample species class"
   ]
  },
  {
   "cell_type": "code",
   "execution_count": 46,
   "id": "0513c59f",
   "metadata": {},
   "outputs": [
    {
     "name": "stdout",
     "output_type": "stream",
     "text": [
      "no of class species node samples - 45\n"
     ]
    }
   ],
   "source": [
    "fit_sample_gm(gene, 'species', n_samples_species)"
   ]
  },
  {
   "cell_type": "markdown",
   "id": "6fdc5805",
   "metadata": {},
   "source": [
    "Plot node feature distributions"
   ]
  },
  {
   "cell_type": "code",
   "execution_count": 47,
   "id": "dbc98d76",
   "metadata": {},
   "outputs": [
    {
     "data": {
      "text/plain": [
       "{'disease0': array([[ 0.08627073, -0.59319872,  0.48172278, ..., -0.67872658,\n",
       "         -1.00027569,  0.76401648],\n",
       "        [ 0.70725825,  0.13961589,  0.28047035, ..., -0.22698717,\n",
       "         -0.33279937,  0.01892775],\n",
       "        [-0.02457247, -0.15107352, -1.18492558, ...,  0.2353572 ,\n",
       "         -0.13065053,  0.81432058],\n",
       "        ...,\n",
       "        [-0.01852915, -0.44594497, -0.17008841, ...,  0.06580165,\n",
       "         -0.00629215, -0.90806522],\n",
       "        [-0.52182464, -0.57383883,  0.12439287, ..., -0.82863857,\n",
       "         -0.14461336, -0.01780792],\n",
       "        [-0.17381819,  0.13848542, -0.15039488, ..., -0.4089903 ,\n",
       "          0.03979484, -0.39933179]]),\n",
       " 'disease1': array([[-0.95306843, -0.31776091, -0.93878948, ...,  1.2777683 ,\n",
       "         -0.97224789, -0.2152814 ],\n",
       "        [-0.97029081, -0.50659134, -0.63937956, ...,  0.66232629,\n",
       "         -1.05180674, -1.1754348 ],\n",
       "        [-0.74174563, -0.36057994,  0.02495897, ...,  1.60338697,\n",
       "          0.06190127,  0.19066482],\n",
       "        ...,\n",
       "        [-0.57960057, -0.38267987, -1.39766643, ..., -1.19668998,\n",
       "         -0.00350159, -0.40295446],\n",
       "        [ 0.18615832, -0.54796882, -0.97293534, ...,  0.85458777,\n",
       "          0.0738334 ,  0.345313  ],\n",
       "        [ 0.47814434,  0.47245133,  0.54448874, ...,  0.05256245,\n",
       "         -0.02326926, -0.43155272]]),\n",
       " 'disease2': array([[-0.07677994,  0.48212874,  0.15047091, ..., -0.17994474,\n",
       "          0.86590471, -1.30487111],\n",
       "        [-0.63663827, -0.39228835, -0.53729181, ...,  0.90281901,\n",
       "         -0.10280449,  0.29348601],\n",
       "        [ 0.98813057, -0.71299256, -0.119075  , ...,  0.09983241,\n",
       "         -0.6351426 ,  0.60883478],\n",
       "        ...,\n",
       "        [-0.31521969, -0.63237363, -0.27623905, ...,  0.2112064 ,\n",
       "         -0.34382605, -0.36132261],\n",
       "        [-0.29626224,  0.13100407, -0.668368  , ..., -0.27907588,\n",
       "         -0.64732135, -0.28761378],\n",
       "        [-0.20782621, -1.04180624, -0.30443033, ...,  0.40183686,\n",
       "         -0.23165671,  0.05508903]]),\n",
       " 'disease3': array([[ 0.46529524, -1.1139544 ,  0.60715304, ..., -0.37488029,\n",
       "         -0.09046304,  0.03734281],\n",
       "        [-0.19011705,  0.1832293 , -0.51193033, ..., -0.40140534,\n",
       "          0.07166901,  0.17009362],\n",
       "        [-0.27846846,  0.2277993 , -0.54142011, ..., -1.42687605,\n",
       "          0.21751717, -0.53619106],\n",
       "        ...,\n",
       "        [-0.06445228, -0.59743812, -0.3115871 , ..., -0.37459145,\n",
       "         -0.17108623, -0.44289093],\n",
       "        [ 0.2043163 , -0.63836892,  0.19252073, ..., -0.21615643,\n",
       "          0.57837858, -0.71121033],\n",
       "        [-0.11731991,  0.12050288,  0.25163688, ...,  0.44007384,\n",
       "          0.42258664,  0.23080404]]),\n",
       " 'disease4': array([[-0.32833584,  0.5715734 ,  0.3396998 , ...,  0.20156186,\n",
       "          0.21535984, -0.59047438],\n",
       "        [ 0.00231373,  0.06321083,  1.19052574, ...,  0.48920262,\n",
       "         -0.13761832,  0.04607099],\n",
       "        [ 0.4225906 , -0.17173787,  0.45595584, ..., -0.26588298,\n",
       "         -0.07453861,  1.04294098],\n",
       "        ...,\n",
       "        [ 0.58332392, -1.31257299,  0.60979403, ..., -0.50075829,\n",
       "         -0.47209589,  0.46970832],\n",
       "        [-0.02906004, -0.31243962, -0.74184483, ...,  0.23708182,\n",
       "         -0.27125822,  0.92206372],\n",
       "        [-0.29630603, -0.29651853, -0.06771487, ..., -0.4331655 ,\n",
       "         -0.49647544, -0.17940884]]),\n",
       " 'disease5': array([[-0.12401151, -0.26159165, -1.68421616, ..., -2.50235601,\n",
       "          1.81286895, -1.54318669],\n",
       "        [-0.19823398,  0.38310466, -1.27805158, ..., -0.48630356,\n",
       "          1.37011259, -0.76153683],\n",
       "        [-0.22806227,  0.81647479,  0.63281567, ..., -0.79574735,\n",
       "         -1.20224471,  0.75687294],\n",
       "        ...,\n",
       "        [ 0.69200397,  1.24739268,  0.60394725, ..., -0.33924079,\n",
       "          0.2675872 ,  0.87915927],\n",
       "        [ 0.59343292, -0.03063459, -1.14148768, ...,  0.93466976,\n",
       "          0.20059327, -0.816306  ],\n",
       "        [ 0.59872618, -0.83702871,  0.17403713, ..., -0.19296458,\n",
       "         -0.23059932, -0.43240562]]),\n",
       " 'disease6': array([[ 0.03848151, -0.24424138, -0.23487222, ..., -0.20436376,\n",
       "          0.0187247 ,  0.04674866],\n",
       "        [-0.32223912, -0.46021937,  0.27393461, ..., -0.52403718,\n",
       "         -0.42188053,  0.01050843],\n",
       "        [-0.14758542, -0.25282706,  0.44918237, ...,  0.62617949,\n",
       "         -0.81600088,  1.24787478],\n",
       "        ...,\n",
       "        [-0.12001468,  0.05262403, -0.47940489, ..., -0.19558505,\n",
       "         -0.11770419, -0.21783479],\n",
       "        [ 0.08287414,  0.26952234,  0.44853717, ..., -0.45164177,\n",
       "         -0.62724027, -0.07244279],\n",
       "        [-0.74629725, -0.15497561,  0.68328376, ..., -0.53405019,\n",
       "         -1.03054384,  0.50628952]]),\n",
       " 'disease7': array([[ 0.23321307,  1.79608823, -0.76767977, ..., -0.74913262,\n",
       "          0.92296345, -0.595892  ],\n",
       "        [ 0.51411046,  0.19180018,  0.21570488, ..., -0.88036344,\n",
       "         -0.96628205, -0.36462289],\n",
       "        [ 1.19198197, -0.31564861,  0.8970992 , ...,  0.03932506,\n",
       "         -1.78498051,  0.53897364],\n",
       "        ...,\n",
       "        [ 0.96671707,  1.40297941,  0.05088837, ...,  0.14545907,\n",
       "          0.57545514,  0.76492654],\n",
       "        [ 1.04234567, -0.6946223 ,  1.0748955 , ...,  0.38516188,\n",
       "         -0.42104905,  0.244449  ],\n",
       "        [ 1.35358065,  0.32868735,  1.91778595, ..., -0.79977185,\n",
       "         -0.75718459,  0.29385167]]),\n",
       " 'gene': array([[-0.26814346, -0.05640492,  0.38425048, ...,  0.45511104,\n",
       "          0.1393412 ,  0.01363745],\n",
       "        [-0.50861251, -0.36860776, -0.00631741, ..., -0.09265831,\n",
       "          0.14822171, -0.04139371],\n",
       "        [ 0.08334237, -0.27048009, -0.34481381, ..., -0.02801941,\n",
       "          0.00539783, -0.09815335],\n",
       "        ...,\n",
       "        [ 0.11110502, -0.10692418,  0.47791851, ..., -0.16305144,\n",
       "         -0.07124936, -0.23262754],\n",
       "        [-0.16039244,  0.62662856, -0.3032561 , ...,  0.03307151,\n",
       "          0.00417987,  0.03996612],\n",
       "        [-0.40623079, -0.5086159 ,  0.0590247 , ..., -0.16146665,\n",
       "         -0.17788187, -0.16540819]]),\n",
       " 'chemical': array([[-2.68143463e-01, -5.64049163e-02,  3.84250475e-01, ...,\n",
       "          4.55111044e-01,  1.39341197e-01,  1.36374546e-02],\n",
       "        [-5.08612510e-01, -3.68607758e-01, -6.31740674e-03, ...,\n",
       "         -9.26583096e-02,  1.48221710e-01, -4.13937101e-02],\n",
       "        [ 8.33423728e-02, -2.70480088e-01, -3.44813807e-01, ...,\n",
       "         -2.80194118e-02,  5.39782612e-03, -9.81533462e-02],\n",
       "        ...,\n",
       "        [-3.64834849e-01, -6.47688206e-01,  1.27565962e-01, ...,\n",
       "          2.77968349e-01, -4.10585550e-01,  1.78891891e-01],\n",
       "        [-7.08750033e-02,  5.77989798e-01,  2.00331461e-01, ...,\n",
       "         -2.49737397e-01, -2.28404393e-02,  2.64210706e-01],\n",
       "        [ 2.68867072e-01, -1.01305976e-01,  3.29001475e-01, ...,\n",
       "         -6.30967728e-04, -2.23360841e-01, -3.09233131e-01]]),\n",
       " 'species': array([[-0.26814346, -0.05640492,  0.38425048, ...,  0.45511104,\n",
       "          0.1393412 ,  0.01363745],\n",
       "        [-0.50861251, -0.36860776, -0.00631741, ..., -0.09265831,\n",
       "          0.14822171, -0.04139371],\n",
       "        [ 0.08334237, -0.27048009, -0.34481381, ..., -0.02801941,\n",
       "          0.00539783, -0.09815335],\n",
       "        ...,\n",
       "        [-0.39981236, -0.82348779, -0.22424018, ...,  0.20531585,\n",
       "         -0.30906693, -0.31578956],\n",
       "        [ 0.22009686, -0.24788256,  0.54239628, ...,  0.02644778,\n",
       "          0.22877453,  0.49242369],\n",
       "        [-0.30986901,  0.13878317, -0.24991304, ..., -0.520973  ,\n",
       "         -0.05459353, -0.63436981]])}"
      ]
     },
     "execution_count": 47,
     "metadata": {},
     "output_type": "execute_result"
    }
   ],
   "source": [
    "new_features_dict"
   ]
  },
  {
   "cell_type": "code",
   "execution_count": 48,
   "id": "7939320e",
   "metadata": {},
   "outputs": [],
   "source": [
    "def plot_dist(node_list0,node_list1,node_list2,node_list3,node_list4,node_list5,node_list6,node_list7):    \n",
    "\n",
    "    fig, ax = plt.subplots(figsize=(7, 5))\n",
    "\n",
    "    sns.distplot(node_list0, label='disease 0', ax=ax , hist= False)\n",
    "    sns.distplot(node_list1, label='disease 1', ax=ax , hist= False)\n",
    "    sns.distplot(node_list2, label='disease 2', ax=ax , hist= False)\n",
    "    sns.distplot(node_list3, label='disease 3', ax=ax , hist= False)\n",
    "    sns.distplot(node_list4, label='disease 4', ax=ax , hist= False)\n",
    "    sns.distplot(node_list5, label='disease 5', ax=ax , hist= False)\n",
    "    sns.distplot(node_list6, label='disease 6', ax=ax , hist= False)\n",
    "    sns.distplot(node_list7, label='disease 7', ax=ax , hist= False)\n",
    "\n",
    "    ax.set_title('Dist plots')\n",
    "    ax.legend()\n",
    "    plt.show()"
   ]
  },
  {
   "cell_type": "code",
   "execution_count": 49,
   "id": "064c28d5",
   "metadata": {},
   "outputs": [
    {
     "data": {
      "image/png": "[encoded data removed]",
      "text/plain": [
       "<Figure size 700x500 with 1 Axes>"
      ]
     },
     "metadata": {},
     "output_type": "display_data"
    }
   ],
   "source": [
    "#Normal Distributions of 8 node types after fitting Gaussian Mixture Models \n",
    "plot_dist(new_features_dict['disease0'],new_features_dict['disease1'],\n",
    "          new_features_dict['disease2'],new_features_dict['disease3'],\n",
    "         new_features_dict['disease4'],new_features_dict['disease5'],\n",
    "          new_features_dict['disease6'],new_features_dict['disease7'])"
   ]
  },
  {
   "cell_type": "code",
   "execution_count": 51,
   "id": "fa823efa",
   "metadata": {},
   "outputs": [
    {
     "data": {
      "text/plain": [
       "(80, 201)"
      ]
     },
     "execution_count": 51,
     "metadata": {},
     "output_type": "execute_result"
    }
   ],
   "source": [
    "disease0_sampled = pd.DataFrame(new_features_dict['disease0'])\n",
    "disease0_sampled['class'] = 0\n",
    "disease0_sampled.shape"
   ]
  },
  {
   "cell_type": "code",
   "execution_count": 52,
   "id": "e1b51ead",
   "metadata": {},
   "outputs": [
    {
     "data": {
      "text/plain": [
       "(80, 201)"
      ]
     },
     "execution_count": 52,
     "metadata": {},
     "output_type": "execute_result"
    }
   ],
   "source": [
    "disease1_sampled = pd.DataFrame(new_features_dict['disease1'])\n",
    "disease1_sampled['class'] = 1\n",
    "disease1_sampled.shape"
   ]
  },
  {
   "cell_type": "code",
   "execution_count": 53,
   "id": "604d57da",
   "metadata": {},
   "outputs": [
    {
     "data": {
      "text/plain": [
       "(80, 201)"
      ]
     },
     "execution_count": 53,
     "metadata": {},
     "output_type": "execute_result"
    }
   ],
   "source": [
    "disease2_sampled = pd.DataFrame(new_features_dict['disease2'])\n",
    "disease2_sampled['class'] = 2\n",
    "disease2_sampled.shape"
   ]
  },
  {
   "cell_type": "code",
   "execution_count": 54,
   "id": "43beb6c5",
   "metadata": {},
   "outputs": [
    {
     "data": {
      "text/plain": [
       "(80, 201)"
      ]
     },
     "execution_count": 54,
     "metadata": {},
     "output_type": "execute_result"
    }
   ],
   "source": [
    "disease3_sampled = pd.DataFrame(new_features_dict['disease3'])\n",
    "disease3_sampled['class'] = 3\n",
    "disease3_sampled.shape"
   ]
  },
  {
   "cell_type": "code",
   "execution_count": 55,
   "id": "0f6a98a8",
   "metadata": {},
   "outputs": [
    {
     "data": {
      "text/plain": [
       "(80, 201)"
      ]
     },
     "execution_count": 55,
     "metadata": {},
     "output_type": "execute_result"
    }
   ],
   "source": [
    "disease4_sampled = pd.DataFrame(new_features_dict['disease4'])\n",
    "disease4_sampled['class'] = 4\n",
    "disease4_sampled.shape"
   ]
  },
  {
   "cell_type": "code",
   "execution_count": 56,
   "id": "fcd76764",
   "metadata": {},
   "outputs": [
    {
     "data": {
      "text/plain": [
       "(81, 201)"
      ]
     },
     "execution_count": 56,
     "metadata": {},
     "output_type": "execute_result"
    }
   ],
   "source": [
    "disease5_sampled = pd.DataFrame(new_features_dict['disease5'])\n",
    "disease5_sampled['class'] = 5\n",
    "disease5_sampled.shape"
   ]
  },
  {
   "cell_type": "code",
   "execution_count": 57,
   "id": "d6a41890",
   "metadata": {},
   "outputs": [
    {
     "data": {
      "text/plain": [
       "(81, 201)"
      ]
     },
     "execution_count": 57,
     "metadata": {},
     "output_type": "execute_result"
    }
   ],
   "source": [
    "disease6_sampled = pd.DataFrame(new_features_dict['disease6'])\n",
    "disease6_sampled['class'] = 6\n",
    "disease6_sampled.shape"
   ]
  },
  {
   "cell_type": "code",
   "execution_count": 58,
   "id": "08a31b2b",
   "metadata": {},
   "outputs": [
    {
     "data": {
      "text/plain": [
       "(81, 201)"
      ]
     },
     "execution_count": 58,
     "metadata": {},
     "output_type": "execute_result"
    }
   ],
   "source": [
    "disease7_sampled = pd.DataFrame(new_features_dict['disease7'])\n",
    "disease7_sampled['class'] = 7\n",
    "disease7_sampled.shape"
   ]
  },
  {
   "cell_type": "code",
   "execution_count": 59,
   "id": "6e119ce6",
   "metadata": {},
   "outputs": [
    {
     "data": {
      "text/plain": [
       "(313, 200)"
      ]
     },
     "execution_count": 59,
     "metadata": {},
     "output_type": "execute_result"
    }
   ],
   "source": [
    "gene_sampled = pd.DataFrame(new_features_dict['gene'])\n",
    "gene_sampled.shape"
   ]
  },
  {
   "cell_type": "code",
   "execution_count": 60,
   "id": "20952c64",
   "metadata": {},
   "outputs": [
    {
     "data": {
      "text/plain": [
       "(564, 200)"
      ]
     },
     "execution_count": 60,
     "metadata": {},
     "output_type": "execute_result"
    }
   ],
   "source": [
    "chemical_sampled = pd.DataFrame(new_features_dict['chemical'])\n",
    "chemical_sampled.shape"
   ]
  },
  {
   "cell_type": "code",
   "execution_count": 61,
   "id": "94690674",
   "metadata": {},
   "outputs": [
    {
     "data": {
      "text/plain": [
       "(45, 200)"
      ]
     },
     "execution_count": 61,
     "metadata": {},
     "output_type": "execute_result"
    }
   ],
   "source": [
    "species_sampled = pd.DataFrame(new_features_dict['species'])\n",
    "species_sampled.shape"
   ]
  },
  {
   "cell_type": "code",
   "execution_count": 62,
   "id": "21de554e",
   "metadata": {},
   "outputs": [],
   "source": [
    "#Disease"
   ]
  },
  {
   "cell_type": "code",
   "execution_count": 63,
   "id": "dc2b0fec",
   "metadata": {},
   "outputs": [],
   "source": [
    "disease_node_features = pd.concat([disease0_sampled,disease1_sampled,disease2_sampled,\n",
    "                                  disease3_sampled,disease4_sampled,disease5_sampled,\n",
    "                                   disease6_sampled,disease7_sampled],ignore_index=True)"
   ]
  },
  {
   "cell_type": "code",
   "execution_count": 64,
   "id": "079443df",
   "metadata": {},
   "outputs": [
    {
     "data": {
      "text/plain": [
       "(643, 202)"
      ]
     },
     "execution_count": 64,
     "metadata": {},
     "output_type": "execute_result"
    }
   ],
   "source": [
    "class1_node_subset = dict((n,d['class']) for n,d in G.nodes().items() if d['class'] == 1)\n",
    "disease_nodeids = [int(x) for x in list(class1_node_subset.keys())]\n",
    "disease_node_features.insert(0,'nodeId',disease_nodeids)\n",
    "disease_node_features.shape"
   ]
  },
  {
   "cell_type": "code",
   "execution_count": 65,
   "id": "b8350c58",
   "metadata": {},
   "outputs": [],
   "source": [
    "#Gene"
   ]
  },
  {
   "cell_type": "code",
   "execution_count": 66,
   "id": "ff25727a",
   "metadata": {},
   "outputs": [],
   "source": [
    "gene_node_features = pd.DataFrame(new_features_dict['gene'])"
   ]
  },
  {
   "cell_type": "code",
   "execution_count": 67,
   "id": "1e184163",
   "metadata": {},
   "outputs": [
    {
     "data": {
      "text/plain": [
       "(313, 201)"
      ]
     },
     "execution_count": 67,
     "metadata": {},
     "output_type": "execute_result"
    }
   ],
   "source": [
    "class0_node_subset = dict((n,d['class']) for n,d in G.nodes().items() if d['class'] == 0)\n",
    "gene_nodeids = [int(x) for x in list(class0_node_subset.keys())]\n",
    "gene_node_features.insert(0,'nodeId',gene_nodeids)\n",
    "gene_node_features.shape"
   ]
  },
  {
   "cell_type": "code",
   "execution_count": 68,
   "id": "e1d63ed3",
   "metadata": {},
   "outputs": [],
   "source": [
    "#Chemical"
   ]
  },
  {
   "cell_type": "code",
   "execution_count": 69,
   "id": "262d0a3e",
   "metadata": {},
   "outputs": [],
   "source": [
    "chemical_node_features = pd.DataFrame(new_features_dict['chemical'])"
   ]
  },
  {
   "cell_type": "code",
   "execution_count": 70,
   "id": "55ef9c15",
   "metadata": {},
   "outputs": [
    {
     "data": {
      "text/plain": [
       "(564, 201)"
      ]
     },
     "execution_count": 70,
     "metadata": {},
     "output_type": "execute_result"
    }
   ],
   "source": [
    "class2_node_subset = dict((n,d['class']) for n,d in G.nodes().items() if d['class'] == 2)\n",
    "chemical_nodeids = [int(x) for x in list(class2_node_subset.keys())]\n",
    "chemical_node_features.insert(0,'nodeId',chemical_nodeids)\n",
    "chemical_node_features.shape"
   ]
  },
  {
   "cell_type": "code",
   "execution_count": 71,
   "id": "e0f9c93a",
   "metadata": {},
   "outputs": [],
   "source": [
    "#Species"
   ]
  },
  {
   "cell_type": "code",
   "execution_count": 72,
   "id": "26b7f7e8",
   "metadata": {},
   "outputs": [],
   "source": [
    "species_node_features = pd.DataFrame(new_features_dict['species'])"
   ]
  },
  {
   "cell_type": "code",
   "execution_count": 73,
   "id": "9f2083df",
   "metadata": {},
   "outputs": [
    {
     "data": {
      "text/plain": [
       "(45, 201)"
      ]
     },
     "execution_count": 73,
     "metadata": {},
     "output_type": "execute_result"
    }
   ],
   "source": [
    "class3_node_subset = dict((n,d['class']) for n,d in G.nodes().items() if d['class'] == 3)\n",
    "species_nodeids = [int(x) for x in list(class3_node_subset.keys())]\n",
    "species_node_features.insert(0,'nodeId',species_nodeids)\n",
    "species_node_features.shape"
   ]
  },
  {
   "cell_type": "code",
   "execution_count": null,
   "id": "c426716f",
   "metadata": {},
   "outputs": [],
   "source": []
  }
 ],
 "metadata": {
  "kernelspec": {
   "display_name": "Python 3 (ipykernel)",
   "language": "python",
   "name": "python3"
  },
  "language_info": {
   "codemirror_mode": {
    "name": "ipython",
    "version": 3
   },
   "file_extension": ".py",
   "mimetype": "text/x-python",
   "name": "python",
   "nbconvert_exporter": "python",
   "pygments_lexer": "ipython3",
   "version": "3.10.12"
  }
 },
 "nbformat": 4,
 "nbformat_minor": 5
}
