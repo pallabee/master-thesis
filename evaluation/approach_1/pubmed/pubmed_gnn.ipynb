{
 "cells": [
  {
   "cell_type": "markdown",
   "id": "120a7f9a",
   "metadata": {},
   "source": [
    "# PubMed"
   ]
  },
  {
   "cell_type": "code",
   "execution_count": null,
   "id": "4e04e6ca",
   "metadata": {},
   "outputs": [],
   "source": [
    " # This code works in Python 3.10.6\n",
    "import matplotlib.pyplot as plt\n",
    "import numpy as np\n",
    "import pandas as pd\n",
    "import networkx as nx\n",
    "from torch_geometric.datasets.dblp import DBLP\n",
    "import random\n",
    "import torch\n",
    "from torch import optim\n",
    "from torch_geometric.data import HeteroData\n",
    "import torch_geometric.transforms as T\n",
    "import torch.nn.functional as F\n",
    "from torch_geometric.nn import HeteroConv, Linear, SAGEConv\n",
    "import csv\n",
    "\n",
    "import warnings\n",
    "warnings.filterwarnings('ignore')"
   ]
  },
  {
   "cell_type": "markdown",
   "id": "5e592cdc",
   "metadata": {},
   "source": [
    "Load Dataset"
   ]
  },
  {
   "cell_type": "code",
   "execution_count": null,
   "id": "0d53e12a-6c07-49f8-a3ce-801df2d17bbf",
   "metadata": {},
   "outputs": [],
   "source": [
    "df_nodes = pd.read_table(('node_pubmed.dat'),names=['node_id', 'node_name', 'node_type', 'node_attributes'],quoting=csv.QUOTE_NONE)\n",
    "#df_nodes"
   ]
  },
  {
   "cell_type": "code",
   "execution_count": null,
   "id": "7eabd684-3d23-4db8-85e0-16e0b58bb5f5",
   "metadata": {},
   "outputs": [],
   "source": [
    "df_labels_train = pd.read_table(('label_pubmed.dat'),names=['node_id', 'node_name', 'node_type', 'node_label'])\n",
    "#df_labels_train"
   ]
  },
  {
   "cell_type": "code",
   "execution_count": null,
   "id": "7aef2931-2a48-4ab9-8f73-299247a96c66",
   "metadata": {},
   "outputs": [],
   "source": [
    "df_labels_test = pd.read_table(('label_pubmed.dat.test'),names=['node_id', 'node_name', 'node_type', 'node_label'])\n",
    "#df_labels_test"
   ]
  },
  {
   "cell_type": "code",
   "execution_count": null,
   "id": "b2d5c78c-d737-463f-93a0-d4f8c8903220",
   "metadata": {},
   "outputs": [],
   "source": [
    "df_labels = pd.concat([df_labels_train, df_labels_test],ignore_index=True)\n",
    "#df_labels"
   ]
  },
  {
   "cell_type": "markdown",
   "id": "f922b1f2-d651-4830-8dfa-a1b8c340a824",
   "metadata": {},
   "source": [
    "TYPE\tMEANING\n",
    "0\t\tGENE\n",
    "1\t\tDISEASE\n",
    "2\t\tCHEMICAL\n",
    "3\t\tSPECIES"
   ]
  },
  {
   "cell_type": "markdown",
   "id": "b11cb92e",
   "metadata": {},
   "source": [
    "Data Preparation"
   ]
  },
  {
   "cell_type": "code",
   "execution_count": null,
   "id": "1df1472f-078d-4ca5-8049-5d04bdce2d80",
   "metadata": {},
   "outputs": [],
   "source": [
    "#Select the nodes of type 1 which are labeled\n",
    "df_disease=pd.merge(df_nodes, df_labels, on=\"node_id\")[['node_id','node_attributes','node_label']]"
   ]
  },
  {
   "cell_type": "code",
   "execution_count": null,
   "id": "f25b787a-8b11-4692-9857-b55413847254",
   "metadata": {},
   "outputs": [],
   "source": [
    "#df_disease"
   ]
  },
  {
   "cell_type": "code",
   "execution_count": null,
   "id": "918697fd-8848-4291-b748-9f6d9f482aaf",
   "metadata": {},
   "outputs": [],
   "source": [
    "df_gene = df_nodes[df_nodes['node_type'] == 0]\n",
    "#df_gene"
   ]
  },
  {
   "cell_type": "code",
   "execution_count": null,
   "id": "4c8e4237-1f14-4f29-a894-5ecd8b1acb95",
   "metadata": {},
   "outputs": [],
   "source": [
    "df_chemical = df_nodes[df_nodes['node_type'] == 2]\n",
    "#df_chemical"
   ]
  },
  {
   "cell_type": "code",
   "execution_count": null,
   "id": "4e9f7a9b-a1c6-4f19-a394-accda5826333",
   "metadata": {},
   "outputs": [],
   "source": [
    "df_species = df_nodes[df_nodes['node_type'] == 3]\n",
    "#df_species"
   ]
  },
  {
   "cell_type": "code",
   "execution_count": null,
   "id": "1c054e60",
   "metadata": {},
   "outputs": [],
   "source": [
    "def convert_string_to_float(df):\n",
    "    return df['node_attributes'].apply(lambda x: np.fromstring(x, dtype=float, sep=',' ))"
   ]
  },
  {
   "cell_type": "code",
   "execution_count": null,
   "id": "d8dd1779",
   "metadata": {},
   "outputs": [],
   "source": [
    "def convert_to_tensor(df):\n",
    "    return torch.tensor(df).to(dtype=torch.float32)"
   ]
  },
  {
   "cell_type": "code",
   "execution_count": null,
   "id": "de3ac821-c913-4d85-84f5-72a5079b4860",
   "metadata": {},
   "outputs": [],
   "source": [
    "disease= convert_string_to_float(df_disease)\n",
    "#print(disease)\n",
    "x_disease = convert_to_tensor(disease)\n",
    "#x_disease"
   ]
  },
  {
   "cell_type": "code",
   "execution_count": null,
   "id": "2b5a371e-7ee1-4a93-b7c0-7ad9b58ee85c",
   "metadata": {},
   "outputs": [],
   "source": [
    "y_disease = torch.tensor(np.array(df_disease['node_label']), dtype=torch.long)\n",
    "#y_disease"
   ]
  },
  {
   "cell_type": "code",
   "execution_count": null,
   "id": "bc3a3478-4a1b-4360-9f74-b791a69aa990",
   "metadata": {},
   "outputs": [],
   "source": [
    "gene = convert_string_to_float(df_gene)\n",
    "gene = gene.reset_index(drop=True)\n",
    "x_gene = convert_to_tensor(gene)\n",
    "#x_gene"
   ]
  },
  {
   "cell_type": "code",
   "execution_count": null,
   "id": "e2eb161c-e490-4251-af7c-1c5e872517b6",
   "metadata": {},
   "outputs": [],
   "source": [
    "chemical = convert_string_to_float(df_chemical)\n",
    "chemical = chemical.reset_index(drop=True)\n",
    "x_chemical = convert_to_tensor(chemical)\n",
    "#x_chemical"
   ]
  },
  {
   "cell_type": "code",
   "execution_count": null,
   "id": "51fc6a64-45fb-4430-aea3-7b89d3ae45b0",
   "metadata": {},
   "outputs": [],
   "source": [
    "species = convert_string_to_float(df_species)\n",
    "species = species.reset_index(drop=True)\n",
    "x_species = convert_to_tensor(species)\n",
    "#x_species"
   ]
  },
  {
   "cell_type": "markdown",
   "id": "4fe605d8",
   "metadata": {},
   "source": [
    "Create Hetero Data"
   ]
  },
  {
   "cell_type": "code",
   "execution_count": null,
   "id": "50d6c965-73e1-4975-9055-a537bee9d488",
   "metadata": {},
   "outputs": [],
   "source": [
    "data = HeteroData({'disease':{'x': x_disease, 'y':y_disease},'gene':{'x': x_gene},\n",
    "                          'chemical':{'x': x_chemical},'species':{'x': x_species}})"
   ]
  },
  {
   "cell_type": "code",
   "execution_count": null,
   "id": "566cf0a8-6a0c-4fc7-9b67-711686a61087",
   "metadata": {},
   "outputs": [],
   "source": [
    "df_edges = pd.read_table(('link_pubmed.dat'),names=['source', 'target', 'link_type', 'link_weight'])\n",
    "#df_edges"
   ]
  },
  {
   "cell_type": "code",
   "execution_count": null,
   "id": "5d8c6fc0-5c65-455c-bbde-466d1cc52a19",
   "metadata": {},
   "outputs": [],
   "source": [
    "#Delete unlabeled nodes from edge list\n",
    "df_type1= df_nodes[df_nodes['node_type'] == 1]\n",
    "\n",
    "new_list = list(set(list(df_type1['node_id'])).difference(list(df_disease['node_id'])))\n",
    "\n",
    "df_edges = df_edges[~df_edges['source'].isin(new_list)]\n",
    "df_edges = df_edges[~df_edges['target'].isin(new_list)]\n",
    "\n",
    "df_edges = df_edges.reset_index(drop=True)"
   ]
  },
  {
   "cell_type": "code",
   "execution_count": null,
   "id": "fe032641-aea9-4540-8d17-fcfc3c9df728",
   "metadata": {},
   "outputs": [],
   "source": [
    "#Get lists of edges\n",
    "batchsize = 500\n",
    "gene_to_gene = []\n",
    "gene_to_disease = []\n",
    "disease_to_disease = []\n",
    "chemical_to_gene = []\n",
    "chemical_to_disease = []\n",
    "chemical_to_chemical = []\n",
    "chemical_to_species = []\n",
    "species_to_gene = []\n",
    "species_to_disease = []\n",
    "species_to_species = []\n",
    "remaining_edges = []\n",
    "\n",
    "\n",
    "for i in range(0, len(df_edges), batchsize):\n",
    "    batch = df_edges[i:i+batchsize]\n",
    "    #print(batch)\n",
    "\n",
    "    if (batch.loc[i, \"source\"] in list(df_gene['node_id'])) and (batch.loc[i, \"target\"] in list(df_gene['node_id'])):\n",
    "            gene_to_gene.append((batch.loc[i, \"source\"],batch.loc[i, \"target\"]))\n",
    "            \n",
    "    elif (batch.loc[i, \"source\"] in list(df_gene['node_id'])) and (batch.loc[i, \"target\"] in list(df_disease['node_id'])):\n",
    "            gene_to_disease.append((batch.loc[i, \"source\"],batch.loc[i, \"target\"]))\n",
    "            \n",
    "    elif (batch.loc[i, \"source\"] in list(df_disease['node_id'])) and (batch.loc[i, \"target\"] in list(df_disease['node_id'])):\n",
    "            disease_to_disease.append((batch.loc[i, \"source\"],batch.loc[i, \"target\"]))\n",
    "            \n",
    "    elif (batch.loc[i, \"source\"] in list(df_chemical['node_id'])) and (batch.loc[i, \"target\"] in list(df_gene['node_id'])):\n",
    "            chemical_to_gene.append((batch.loc[i, \"source\"],batch.loc[i, \"target\"]))\n",
    "            \n",
    "    elif (batch.loc[i, \"source\"] in list(df_chemical['node_id'])) and (batch.loc[i, \"target\"] in list(df_disease['node_id'])):\n",
    "            chemical_to_disease.append((batch.loc[i, \"source\"],batch.loc[i, \"target\"]))\n",
    "            \n",
    "    elif (batch.loc[i, \"source\"] in list(df_chemical['node_id'])) and (batch.loc[i, \"target\"] in list(df_chemical['node_id'])):\n",
    "            chemical_to_chemical.append((batch.loc[i, \"source\"],batch.loc[i, \"target\"]))\n",
    "            \n",
    "    elif (batch.loc[i, \"source\"] in list(df_chemical['node_id'])) and (batch.loc[i, \"target\"] in list(df_species['node_id'])):\n",
    "            chemical_to_species.append((batch.loc[i, \"source\"],batch.loc[i, \"target\"]))\n",
    "            \n",
    "    elif (batch.loc[i, \"source\"] in list(df_species['node_id'])) and (batch.loc[i, \"target\"] in list(df_gene['node_id'])):\n",
    "            species_to_gene.append((batch.loc[i, \"source\"],batch.loc[i, \"target\"]))\n",
    "            \n",
    "    elif (batch.loc[i, \"source\"] in list(df_species['node_id'])) and (batch.loc[i, \"target\"] in list(df_disease['node_id'])):\n",
    "            species_to_disease.append((batch.loc[i, \"source\"],batch.loc[i, \"target\"]))\n",
    "            \n",
    "    elif (batch.loc[i, \"source\"] in list(df_species['node_id'])) and (batch.loc[i, \"target\"] in list(df_species['node_id'])):\n",
    "            species_to_species.append((batch.loc[i, \"source\"],batch.loc[i, \"target\"]))\n",
    "    else:\n",
    "        remaining_edges.append((batch.loc[i, \"source\"],batch.loc[i, \"target\"]))"
   ]
  },
  {
   "cell_type": "code",
   "execution_count": null,
   "id": "70130e09-2a4c-416f-8384-e9e764b9c00a",
   "metadata": {},
   "outputs": [],
   "source": [
    "def preprocess_edges(edgelist,node_list):\n",
    "    res = [[node_list[i] for i, j in edgelist],[node_list[j] for i, j in edgelist]] \n",
    "    node_from = torch.tensor(res[0])\n",
    "    node_to = torch.tensor(res[1])\n",
    "    edges = torch.concat((node_from,node_to)).reshape(-1,len(node_from))\n",
    "    return edges"
   ]
  },
  {
   "cell_type": "code",
   "execution_count": null,
   "id": "01fc48e2-1ce7-4623-8780-6d4eb53eae13",
   "metadata": {},
   "outputs": [],
   "source": [
    "def remap_indices(node_list):\n",
    "    val_list = [*range(0, len(node_list), 1)]\n",
    "    return dict(zip(node_list,val_list))"
   ]
  },
  {
   "cell_type": "code",
   "execution_count": null,
   "id": "2a192152-fbee-4002-858f-e29c9e4e7b51",
   "metadata": {},
   "outputs": [],
   "source": [
    " #Re-map indices to correct range\n",
    "gene_nodes_mapping = remap_indices(list(df_gene[\"node_id\"]))\n",
    "disease_nodes_mapping = remap_indices(list(df_disease[\"node_id\"]))\n",
    "chemical_nodes_mapping = remap_indices(list(df_chemical[\"node_id\"]))\n",
    "species_nodes_mapping = remap_indices(list(df_species[\"node_id\"]))"
   ]
  },
  {
   "cell_type": "code",
   "execution_count": null,
   "id": "2eea58a0-1b65-4264-aa7b-450f94517a80",
   "metadata": {},
   "outputs": [],
   "source": [
    "node_list = {}\n",
    "for d in [gene_nodes_mapping, disease_nodes_mapping, chemical_nodes_mapping,species_nodes_mapping]:\n",
    "    node_list.update(d)"
   ]
  },
  {
   "cell_type": "code",
   "execution_count": null,
   "id": "cc2e5d04-b787-4b75-b672-49e85999d663",
   "metadata": {},
   "outputs": [],
   "source": [
    "#Prepare edge tensor for hetero data\n",
    "if gene_to_gene:\n",
    "    edge_index_gene_gene = preprocess_edges(gene_to_gene,node_list)\n",
    "    data['gene','to','gene'].edge_index = edge_index_gene_gene\n",
    "if gene_to_disease:\n",
    "    edge_index_gene_disease = preprocess_edges(gene_to_disease,node_list)\n",
    "    data['gene','to','disease'].edge_index = edge_index_gene_disease\n",
    "if disease_to_disease:\n",
    "    edge_index_disease_disease = preprocess_edges(disease_to_disease,node_list)\n",
    "    data['disease','to','disease'].edge_index = edge_index_disease_disease\n",
    "if chemical_to_gene:\n",
    "    edge_index_chemical_gene = preprocess_edges(chemical_to_gene,node_list)\n",
    "    data['chemical','to','gene'].edge_index = edge_index_chemical_gene\n",
    "if chemical_to_disease:\n",
    "    edge_index_chemical_disease = preprocess_edges(chemical_to_disease,node_list)\n",
    "    data['chemical','to','disease'].edge_index = edge_index_chemical_disease\n",
    "if chemical_to_chemical:\n",
    "    edge_index_chemical_chemical = preprocess_edges(chemical_to_chemical,node_list)\n",
    "    data['chemical','to','chemical'].edge_index = edge_index_chemical_chemical\n",
    "if chemical_to_species:\n",
    "    edge_index_chemical_species = preprocess_edges(chemical_to_species,node_list)\n",
    "    data['chemical','to','species'].edge_index = edge_index_chemical_species\n",
    "if species_to_gene:\n",
    "    edge_index_species_gene = preprocess_edges(species_to_gene,node_list)\n",
    "    data['species','to','gene'].edge_index = edge_index_species_gene\n",
    "if species_to_disease:\n",
    "    edge_index_species_disease = preprocess_edges(species_to_disease,node_list)\n",
    "    data['species','to','disease'].edge_index = species_to_disease\n",
    "if species_to_species:\n",
    "    edge_index_species_species = preprocess_edges(species_to_species,node_list)\n",
    "    data['species','to','species'].edge_index = edge_index_species_species"
   ]
  },
  {
   "cell_type": "code",
   "execution_count": null,
   "id": "03e5c442-a9e4-4f22-9711-a573397eea9d",
   "metadata": {},
   "outputs": [],
   "source": [
    "transform = T.RandomNodeSplit(split='train_rest', num_val=0.15, num_test=0.15)\n",
    "data = transform(data)"
   ]
  },
  {
   "cell_type": "code",
   "execution_count": null,
   "id": "8c556d2b-744e-483c-a408-e356cc2d1373",
   "metadata": {},
   "outputs": [],
   "source": [
    "#Hetero Data\n",
    "print(data)"
   ]
  },
  {
   "cell_type": "markdown",
   "id": "5ed37993",
   "metadata": {},
   "source": [
    "Training using SAGEConv"
   ]
  },
  {
   "cell_type": "code",
   "execution_count": null,
   "id": "6481b8fe",
   "metadata": {},
   "outputs": [],
   "source": [
    "class HeteroGNN(torch.nn.Module):\n",
    "    def __init__(self, metadata, hidden_channels, out_channels, num_layers):\n",
    "        super().__init__()\n",
    "\n",
    "        self.convs = torch.nn.ModuleList()\n",
    "        for _ in range(num_layers):\n",
    "            conv = HeteroConv({\n",
    "                edge_type: SAGEConv((-1, -1), hidden_channels)\n",
    "                for edge_type in metadata[1]\n",
    "            })\n",
    "            self.convs.append(conv)\n",
    "\n",
    "        self.lin = Linear(hidden_channels, out_channels)\n",
    "\n",
    "    def forward(self, x_dict, edge_index_dict):\n",
    "        for conv in self.convs:\n",
    "            x_dict = conv(x_dict, edge_index_dict)\n",
    "            x_dict = {key: F.leaky_relu(x) for key, x in x_dict.items()}\n",
    "        return self.lin(x_dict['disease'])\n",
    "\n",
    "\n",
    "model = HeteroGNN(data.metadata(), hidden_channels=256, out_channels=8,\n",
    "                  num_layers=4)\n",
    "#device = torch.device('cuda' if torch.cuda.is_available() else 'cpu')\n",
    "device = 'cpu'\n",
    "data, model = data.to(device), model.to(device)\n",
    "\n",
    "with torch.no_grad():  # Initialize lazy modules.\n",
    "    out = model(data.x_dict, data.edge_index_dict)\n",
    "\n",
    "optimizer = torch.optim.Adam(model.parameters(), lr=0.005, weight_decay=0.001)\n",
    "\n",
    "\n",
    "def train():\n",
    "    model.train()\n",
    "    optimizer.zero_grad()\n",
    "    out = model(data.x_dict, data.edge_index_dict)\n",
    "    mask = data['disease'].train_mask\n",
    "    loss = F.cross_entropy(out[mask], data['disease'].y[mask])\n",
    "    loss.backward()\n",
    "    optimizer.step()\n",
    "    return float(loss)\n",
    "\n",
    "\n",
    "@torch.no_grad()\n",
    "def test():\n",
    "    model.eval()\n",
    "    pred = model(data.x_dict, data.edge_index_dict).argmax(dim=-1)\n",
    "\n",
    "    accs = []\n",
    "    for split in ['train_mask', 'val_mask', 'test_mask']:\n",
    "        mask = data['disease'][split]\n",
    "        acc = (pred[mask] == data['disease'].y[mask]).sum() / mask.sum()\n",
    "        accs.append(float(acc))\n",
    "    return accs\n",
    "\n",
    "\n",
    "for epoch in range(1, 101):\n",
    "    loss = train()\n",
    "    train_acc, val_acc, test_acc = test()\n",
    "    if epoch%10==0:\n",
    "        print(f'Epoch: {epoch:03d}, Loss: {loss:.4f}, Train: {train_acc:.4f}, '\n",
    "          f'Val: {val_acc:.4f}, Test: {test_acc:.4f}')"
   ]
  },
  {
   "cell_type": "code",
   "execution_count": null,
   "id": "0fbcc69b",
   "metadata": {},
   "outputs": [],
   "source": []
  },
  {
   "cell_type": "code",
   "execution_count": null,
   "id": "8090cd49",
   "metadata": {},
   "outputs": [],
   "source": []
  },
  {
   "cell_type": "code",
   "execution_count": null,
   "id": "d71f0b5e",
   "metadata": {},
   "outputs": [],
   "source": []
  }
 ],
 "metadata": {
  "kernelspec": {
   "display_name": "Python 3 (ipykernel)",
   "language": "python",
   "name": "python3"
  },
  "language_info": {
   "codemirror_mode": {
    "name": "ipython",
    "version": 3
   },
   "file_extension": ".py",
   "mimetype": "text/x-python",
   "name": "python",
   "nbconvert_exporter": "python",
   "pygments_lexer": "ipython3",
   "version": "3.10.12"
  }
 },
 "nbformat": 4,
 "nbformat_minor": 5
}
