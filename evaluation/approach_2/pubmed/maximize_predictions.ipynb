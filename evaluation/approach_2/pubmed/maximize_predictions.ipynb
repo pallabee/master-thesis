{
 "cells": [
  {
   "cell_type": "code",
   "execution_count": 1,
   "id": "2e9b7a34",
   "metadata": {},
   "outputs": [],
   "source": [
    "# This code works in Python 3.10.6\n",
    "import os\n",
    "import matplotlib.pyplot as plt\n",
    "import numpy as np\n",
    "import pandas as pd\n",
    "import networkx as nx\n",
    "import dgl\n",
    "import random\n",
    "import torch\n",
    "from torch import optim\n",
    "from torch_geometric.data import HeteroData\n",
    "import torch_geometric.transforms as T\n",
    "import torch.nn.functional as F\n",
    "from torch_geometric.nn import HeteroConv, Linear, SAGEConv\n",
    "import torch_geometric.utils.convert\n",
    "import seaborn as sns\n",
    "import glob\n",
    "import warnings\n",
    "warnings.filterwarnings('ignore')"
   ]
  },
  {
   "cell_type": "markdown",
   "id": "cc369605-8d6a-4d9b-b2c1-f7e6716ada51",
   "metadata": {},
   "source": [
    "Create Metagraph"
   ]
  },
  {
   "cell_type": "code",
   "execution_count": 2,
   "id": "02d64069",
   "metadata": {},
   "outputs": [
    {
     "name": "stdout",
     "output_type": "stream",
     "text": [
      "importing Jupyter notebook from pubmed_dataset.ipynb\n",
      "HeteroData(\n",
      "  disease={\n",
      "    x=[454, 200],\n",
      "    y=[454],\n",
      "  },\n",
      "  gene={ x=[13561, 200] },\n",
      "  chemical={ x=[26522, 200] },\n",
      "  species={ x=[2863, 200] },\n",
      "  (gene, to, gene)={ edge_index=[2, 40] },\n",
      "  (gene, to, disease)={ edge_index=[2, 1] },\n",
      "  (chemical, to, gene)={ edge_index=[2, 70] },\n",
      "  (chemical, to, chemical)={ edge_index=[2, 108] },\n",
      "  (chemical, to, species)={ edge_index=[2, 18] },\n",
      "  (species, to, gene)={ edge_index=[2, 6] }\n",
      ")\n"
     ]
    }
   ],
   "source": [
    "import import_ipynb\n",
    "#PubMed dataset with all features\n",
    "import pubmed_dataset"
   ]
  },
  {
   "cell_type": "code",
   "execution_count": 3,
   "id": "3c983cac-7ba9-408f-a598-647469114ab5",
   "metadata": {},
   "outputs": [],
   "source": [
    "import import_ipynb\n",
    "import pubmed_dataset"
   ]
  },
  {
   "cell_type": "code",
   "execution_count": 4,
   "id": "db89666b",
   "metadata": {},
   "outputs": [],
   "source": [
    "data = pubmed_dataset.data"
   ]
  },
  {
   "cell_type": "code",
   "execution_count": 5,
   "id": "c6643179-f805-4730-9f8b-ea91f1f83725",
   "metadata": {},
   "outputs": [],
   "source": [
    "dataset = data.clone()\n",
    "# Node features are removed as a temporary fix to the errors in conversion of \n",
    "#Pytorch Geometric HeteroData to DGL graph. Node features are not important for creating metagraph.\n",
    "dataset['disease'].x = dataset['disease'].x[:405, :]\n",
    "dataset['disease'].y = dataset['disease'].y[:405]\n",
    "dataset['gene'].x = dataset['gene'].x[:13499, :]\n",
    "dataset['chemical'].x = dataset['chemical'].x[:26406, :]\n",
    "dataset['species'].x = dataset['species'].x[:2741, :]"
   ]
  },
  {
   "cell_type": "code",
   "execution_count": 6,
   "id": "5e5781b0-6c22-4cbc-a443-418083cd877a",
   "metadata": {},
   "outputs": [],
   "source": [
    "#Create metagraph\n",
    "g = torch_geometric.utils.convert.to_dgl(dataset)\n",
    "meta_g= g.metagraph()"
   ]
  },
  {
   "cell_type": "markdown",
   "id": "3fa7aec1-389e-405f-8bfa-72f394f51263",
   "metadata": {},
   "source": [
    "Train PubMed"
   ]
  },
  {
   "cell_type": "code",
   "execution_count": 7,
   "id": "fefd1c8d-2a8f-4cfc-b4df-6c9ae8ed7941",
   "metadata": {},
   "outputs": [
    {
     "data": {
      "text/plain": [
       "HeteroData(\n",
       "  disease={\n",
       "    x=[454, 200],\n",
       "    y=[454],\n",
       "    train_mask=[454],\n",
       "    val_mask=[454],\n",
       "    test_mask=[454],\n",
       "  },\n",
       "  gene={ x=[13561, 200] },\n",
       "  chemical={ x=[26522, 200] },\n",
       "  species={ x=[2863, 200] },\n",
       "  (gene, to, gene)={ edge_index=[2, 40] },\n",
       "  (gene, to, disease)={ edge_index=[2, 1] },\n",
       "  (chemical, to, gene)={ edge_index=[2, 70] },\n",
       "  (chemical, to, chemical)={ edge_index=[2, 108] },\n",
       "  (chemical, to, species)={ edge_index=[2, 18] },\n",
       "  (species, to, gene)={ edge_index=[2, 6] }\n",
       ")"
      ]
     },
     "execution_count": 7,
     "metadata": {},
     "output_type": "execute_result"
    }
   ],
   "source": [
    "transform = T.RandomNodeSplit(split='train_rest', num_val=0.15, num_test=0.15)\n",
    "data = transform(data)\n",
    "data"
   ]
  },
  {
   "cell_type": "code",
   "execution_count": 8,
   "id": "22950b69",
   "metadata": {},
   "outputs": [
    {
     "name": "stdout",
     "output_type": "stream",
     "text": [
      "Epoch: 010, Loss: 0.9531, Train: 0.7075, Val: 0.4559, Test: 0.4412\n",
      "Epoch: 020, Loss: 0.2244, Train: 0.9277, Val: 0.5735, Test: 0.5588\n",
      "Epoch: 030, Loss: 0.0514, Train: 0.9308, Val: 0.5294, Test: 0.5441\n",
      "Epoch: 040, Loss: 0.0474, Train: 0.9937, Val: 0.5000, Test: 0.5294\n",
      "Epoch: 050, Loss: 0.0118, Train: 1.0000, Val: 0.5147, Test: 0.5147\n",
      "Epoch: 060, Loss: 0.0042, Train: 1.0000, Val: 0.4853, Test: 0.5294\n",
      "Epoch: 070, Loss: 0.0030, Train: 1.0000, Val: 0.4559, Test: 0.5294\n",
      "Epoch: 080, Loss: 0.0036, Train: 1.0000, Val: 0.4559, Test: 0.5294\n",
      "Epoch: 090, Loss: 0.0048, Train: 1.0000, Val: 0.4412, Test: 0.4853\n",
      "Epoch: 100, Loss: 0.0059, Train: 1.0000, Val: 0.4559, Test: 0.4853\n"
     ]
    }
   ],
   "source": [
    "class HeteroGNN(torch.nn.Module):\n",
    "    def __init__(self, metadata, hidden_channels, out_channels, num_layers):\n",
    "        super().__init__()\n",
    "\n",
    "        self.convs = torch.nn.ModuleList()\n",
    "        for _ in range(num_layers):\n",
    "            conv = HeteroConv({\n",
    "                edge_type: SAGEConv((-1, -1), hidden_channels)\n",
    "                for edge_type in metadata[1]\n",
    "            })\n",
    "            self.convs.append(conv)\n",
    "\n",
    "        self.lin = Linear(hidden_channels, out_channels)\n",
    "\n",
    "    def forward(self, x_dict, edge_index_dict):\n",
    "        for conv in self.convs:\n",
    "            x_dict = conv(x_dict, edge_index_dict)\n",
    "            x_dict = {key: F.leaky_relu(x) for key, x in x_dict.items()}\n",
    "        return self.lin(x_dict['disease'])\n",
    "\n",
    "\n",
    "model = HeteroGNN(data.metadata(), hidden_channels=256, out_channels=8,\n",
    "                  num_layers=4)\n",
    "#device = torch.device('cuda' if torch.cuda.is_available() else 'cpu')\n",
    "device = 'cpu'\n",
    "data, model = data.to(device), model.to(device)\n",
    "\n",
    "with torch.no_grad():  # Initialize lazy modules.\n",
    "    out = model(data.x_dict, data.edge_index_dict)\n",
    "\n",
    "optimizer = torch.optim.Adam(model.parameters(), lr=0.005, weight_decay=0.001)\n",
    "\n",
    "\n",
    "def train():\n",
    "    model.train()\n",
    "    optimizer.zero_grad()\n",
    "    out = model(data.x_dict, data.edge_index_dict)\n",
    "    mask = data['disease'].train_mask\n",
    "    loss = F.cross_entropy(out[mask], data['disease'].y[mask])\n",
    "    loss.backward()\n",
    "    optimizer.step()\n",
    "    return float(loss)\n",
    "\n",
    "\n",
    "@torch.no_grad()\n",
    "def test():\n",
    "    model.eval()\n",
    "    pred = model(data.x_dict, data.edge_index_dict).argmax(dim=-1)\n",
    "\n",
    "    accs = []\n",
    "    for split in ['train_mask', 'val_mask', 'test_mask']:\n",
    "        mask = data['disease'][split]\n",
    "        acc = (pred[mask] == data['disease'].y[mask]).sum() / mask.sum()\n",
    "        accs.append(float(acc))\n",
    "    return accs\n",
    "\n",
    "\n",
    "for epoch in range(1, 101):\n",
    "    loss = train()\n",
    "    train_acc, val_acc, test_acc = test()\n",
    "    if epoch%10==0:\n",
    "        print(f'Epoch: {epoch:03d}, Loss: {loss:.4f}, Train: {train_acc:.4f}, '\n",
    "          f'Val: {val_acc:.4f}, Test: {test_acc:.4f}')"
   ]
  },
  {
   "cell_type": "code",
   "execution_count": 9,
   "id": "decaaee1",
   "metadata": {},
   "outputs": [],
   "source": [
    "def remap_indices(node_list):\n",
    "    val_list = [*range(0, len(node_list), 1)]\n",
    "    return dict(zip(node_list,val_list))  "
   ]
  },
  {
   "cell_type": "code",
   "execution_count": 10,
   "id": "b8f89891",
   "metadata": {},
   "outputs": [],
   "source": [
    "def preprocess_edges(edgelist,node_list):\n",
    "    res = [[node_list[i] for i, j in edgelist],[node_list[j] for i, j in edgelist]] \n",
    "    node_from = torch.tensor(res[0])\n",
    "    node_to = torch.tensor(res[1])\n",
    "    edges = torch.concat((node_from,node_to)).reshape(-1,len(node_from))\n",
    "    return edges"
   ]
  },
  {
   "cell_type": "code",
   "execution_count": 11,
   "id": "c2f41976-2dc8-40b9-b882-52e2acd49d0a",
   "metadata": {},
   "outputs": [],
   "source": [
    "def get_node_type(node_type):\n",
    "    if node_type == 1:\n",
    "        return 'disease'\n",
    "    elif node_type == 0:\n",
    "        return 'gene'\n",
    "    elif node_type == 2:\n",
    "        return 'chemical'\n",
    "    elif node_type == 3:\n",
    "        return 'species'"
   ]
  },
  {
   "cell_type": "code",
   "execution_count": 12,
   "id": "4050f97a",
   "metadata": {},
   "outputs": [],
   "source": [
    "all_edges = {}"
   ]
  },
  {
   "cell_type": "code",
   "execution_count": 13,
   "id": "82c1890a-913f-42f9-866b-63d869cc46a3",
   "metadata": {},
   "outputs": [
    {
     "data": {
      "text/plain": [
       "[('chemical', 'chemical'),\n",
       " ('chemical', 'gene'),\n",
       " ('chemical', 'species'),\n",
       " ('gene', 'disease'),\n",
       " ('gene', 'gene'),\n",
       " ('species', 'gene')]"
      ]
     },
     "execution_count": 13,
     "metadata": {},
     "output_type": "execute_result"
    }
   ],
   "source": [
    "#List of edges in metagraph of PubMed\n",
    "list(meta_g.edges())"
   ]
  },
  {
   "cell_type": "code",
   "execution_count": 14,
   "id": "58d39856",
   "metadata": {},
   "outputs": [],
   "source": [
    "def create_dataset(nodes,edges,disease_df,gene_df,chemical_df,species_df,node_id,df_graph):\n",
    "    disease = np.asarray(disease_df.drop(columns=['class']))\n",
    "    gene = np.asarray(gene_df)\n",
    "    chemical = np.asarray(chemical_df)\n",
    "    species = np.asarray(species_df)\n",
    "    \n",
    "\n",
    "    x_disease = torch.tensor(disease).to(dtype=torch.float32)\n",
    "    y_disease = torch.tensor(np.array(disease_df[\"class\"]), dtype=torch.long)\n",
    "    x_gene = torch.tensor(gene).to(dtype=torch.float32)\n",
    "    x_chemical = torch.tensor(chemical).to(dtype=torch.float32)\n",
    "    x_species = torch.tensor(species).to(dtype=torch.float32)\n",
    "    \n",
    "    #Edges\n",
    "    source,dest =list(map(list, zip(*edges)))\n",
    "\n",
    "    chemical_to_chemical = []\n",
    "    chemical_to_gene = []\n",
    "    chemical_to_species = []\n",
    "    gene_to_disease = []\n",
    "    gene_to_gene = []\n",
    "    species_to_gene = []\n",
    "    remaining_edges = []\n",
    "\n",
    "    class_dict = {'Gene':0, 'Disease':1, 'Chemical':2,'Species':3}\n",
    "\n",
    "    for i in range(len(edges)):\n",
    "        if (df_graph.loc[df_graph['nodeId'] == source[i], 'class'].values[0]== class_dict['Chemical']) and \\\n",
    "            (df_graph.loc[df_graph['nodeId'] == dest[i], 'class'].values[0] == class_dict['Chemical']):\n",
    "                chemical_to_chemical.append((int(source[i]),int(dest[i])))\n",
    "            \n",
    "        elif (df_graph.loc[df_graph['nodeId'] == source[i], 'class'].values[0] == class_dict['Chemical']) and \\\n",
    "            (df_graph.loc[df_graph['nodeId'] == dest[i], 'class'].values[0] == class_dict['Gene']):\n",
    "                chemical_to_gene.append((int(source[i]),int(dest[i])))\n",
    "            \n",
    "        elif (df_graph.loc[df_graph['nodeId'] == source[i], 'class'].values[0] == class_dict['Chemical']) and \\\n",
    "            (df_graph.loc[df_graph['nodeId'] == dest[i], 'class'].values[0] == class_dict['Species']):\n",
    "                chemical_to_species.append((int(source[i]),int(dest[i])))\n",
    "\n",
    "        elif (df_graph.loc[df_graph['nodeId'] == source[i], 'class'].values[0] == class_dict['Gene']) and \\\n",
    "            (df_graph.loc[df_graph['nodeId'] == dest[i], 'class'].values[0] == class_dict['Disease']):\n",
    "                gene_to_disease.append((int(source[i]),int(dest[i])))\n",
    "\n",
    "        elif (df_graph.loc[df_graph['nodeId'] == source[i], 'class'].values[0] == class_dict['Gene']) and \\\n",
    "            (df_graph.loc[df_graph['nodeId'] == dest[i], 'class'].values[0] == class_dict['Gene']):\n",
    "                gene_to_gene.append((int(source[i]),int(dest[i])))\n",
    "\n",
    "        elif (df_graph.loc[df_graph['nodeId'] == source[i], 'class'].values[0] == class_dict['Species']) and \\\n",
    "            (df_graph.loc[df_graph['nodeId'] == dest[i], 'class'].values[0] == class_dict['Gene']):\n",
    "                species_to_gene.append((int(source[i]),int(dest[i])))\n",
    "\n",
    "        else:\n",
    "            #The edges not present in the metagraph  \n",
    "            source_node_type = get_node_type(df_graph.loc[df_graph['nodeId'] == source[i], 'class'].values[0])\n",
    "            dest_node_type = get_node_type(df_graph.loc[df_graph['nodeId'] == dest[i], 'class'].values[0])\n",
    "            remaining_edges.append((source_node_type,dest_node_type))\n",
    "            #remaining_edges.append((int(source[i]),int(dest[i])))\n",
    "            \n",
    "    all_edges[node_id] = [*chemical_to_chemical,*chemical_to_gene,*chemical_to_species,\n",
    "                          *gene_to_disease,*gene_to_gene,*species_to_gene]\n",
    "            \n",
    "    disease = list(df_graph[df_graph['class'] == 1]['nodeId'])\n",
    "    disease = [int(i) for i in disease]\n",
    "    disease_nodes_mapping = remap_indices(disease)\n",
    "    \n",
    "    gene = list(df_graph[df_graph['class'] == 0]['nodeId'])\n",
    "    gene = [int(i) for i in gene]\n",
    "    gene_nodes_mapping = remap_indices(gene)\n",
    "    \n",
    "    chemical = list(df_graph[df_graph['class'] == 2]['nodeId'])\n",
    "    chemical = [int(i) for i in chemical]\n",
    "    chemical_nodes_mapping = remap_indices(chemical)\n",
    "    \n",
    "    species = list(df_graph[df_graph['class'] == 3]['nodeId'])\n",
    "    species = [int(i) for i in species]\n",
    "    species_nodes_mapping = remap_indices(species)\n",
    "\n",
    "\n",
    "    node_list = {}\n",
    "    for d in [disease_nodes_mapping, gene_nodes_mapping, chemical_nodes_mapping,species_nodes_mapping]:\n",
    "        node_list.update(d)            \n",
    "\n",
    "    #Create Hetero Data      \n",
    "    small_graph = HeteroData({'disease':{'x': x_disease, 'y':y_disease}, 'gene':{'x': x_gene},\n",
    "                              'chemical':{'x': x_chemical}, 'species':{'x': x_species}})\n",
    "\n",
    "    if chemical_to_chemical:\n",
    "        edge_index_chemical_chemical = preprocess_edges(chemical_to_chemical,node_list)\n",
    "        small_graph['chemical','to','chemical'].edge_index = edge_index_chemical_chemical\n",
    "    if chemical_to_gene:\n",
    "        edge_index_chemical_gene = preprocess_edges(chemical_to_gene,node_list)\n",
    "        small_graph['chemical','to','gene'].edge_index = edge_index_chemical_gene\n",
    "    if chemical_to_species:\n",
    "        edge_index_chemical_species = preprocess_edges(chemical_to_species,node_list)\n",
    "        small_graph['chemical','to','species'].edge_index = edge_index_chemical_species\n",
    "    if gene_to_disease:\n",
    "        edge_index_gene_disease = preprocess_edges(gene_to_disease,node_list)\n",
    "        small_graph['gene','to','disease'].edge_index = edge_index_gene_disease\n",
    "    if gene_to_gene:\n",
    "        edge_index_gene_gene = preprocess_edges(gene_to_gene,node_list)\n",
    "        small_graph['gene','to','gene'].edge_index = edge_index_gene_gene\n",
    "    if species_to_gene:\n",
    "        edge_index_species_gene = preprocess_edges(species_to_gene,node_list)\n",
    "        small_graph['species','to','gene'].edge_index = edge_index_species_gene\n",
    "\n",
    "    transform = T.Constant(node_types='conference')\n",
    "    small_graph = transform(small_graph)\n",
    "    \n",
    "    #Removing isolated nodes\n",
    "    transform = T.Compose([T.remove_isolated_nodes.RemoveIsolatedNodes()])\n",
    "    small_graph = transform(small_graph)\n",
    "\n",
    "    #Adding test mask for prediction\n",
    "    transform = T.RandomNodeSplit(split='train_rest', num_val=0.0, num_test=1.0)\n",
    "    small_graph = transform(small_graph)\n",
    "            \n",
    "    return small_graph, remaining_edges"
   ]
  },
  {
   "cell_type": "code",
   "execution_count": 15,
   "id": "973e475f",
   "metadata": {},
   "outputs": [],
   "source": [
    "def evaluate_gnn(small_graph):\n",
    "    with torch.no_grad():\n",
    "        model.eval()\n",
    "        #The pred is not used for accuracy, the softmax is used\n",
    "        pred = model(small_graph.x_dict, small_graph.edge_index_dict).argmax(dim=-1)\n",
    "        \n",
    "        #Getting class prediction probabilities from the softmax layer\n",
    "        softmax = model(small_graph.x_dict, small_graph.edge_index_dict).softmax(dim=-1)\n",
    "        \n",
    "        mask = small_graph['disease'].test_mask\n",
    "        correct = (pred[mask] == small_graph['disease'].y[mask])\n",
    "               \n",
    "        print(small_graph)\n",
    "        print('Prediction:',pred[mask])\n",
    "        print('Ground Truth:',small_graph['disease'].y[mask])\n",
    "        print(correct)\n",
    "        print(softmax)\n",
    "        \n",
    "        correct_indices = [i for i, x in enumerate(correct.tolist()) if x]\n",
    "        print('correct indices',correct_indices)\n",
    "        \n",
    "        #Taking softmax values of the nodes for which prediction is correct\n",
    "        softmax_pred_list = [softmax.tolist()[i] for i in correct_indices]\n",
    "        #print(softmax_pred_list)\n",
    "        print('------------------------------------------------------------------')\n",
    "        \n",
    "        return softmax_pred_list, correct_indices"
   ]
  },
  {
   "cell_type": "code",
   "execution_count": 16,
   "id": "7e90bc75",
   "metadata": {},
   "outputs": [],
   "source": [
    "def get_real_graph(size):\n",
    "    real_graph = nx.Graph()\n",
    "    if(size <= 5):\n",
    "        real_graph = nx.read_gexf(real_graph_path+'real_G5.gexf')\n",
    "    elif(size <= 10):\n",
    "        real_graph = nx.read_gexf(real_graph_path+'real_G10.gexf')\n",
    "    elif(size <= 15):\n",
    "        real_graph = nx.read_gexf(real_graph_path+'real_G15.gexf')\n",
    "    elif(size <= 20):\n",
    "        real_graph = nx.read_gexf(real_graph_path+'real_G20.gexf')\n",
    "    elif(size <= 25):\n",
    "        real_graph = nx.read_gexf(real_graph_path+'real_G25.gexf')\n",
    "    elif(size <= 30):\n",
    "        real_graph = nx.read_gexf(real_graph_path+'real_G30.gexf')\n",
    "    elif(size <= 35):\n",
    "        real_graph = nx.read_gexf(real_graph_path+'real_G35.gexf')\n",
    "\n",
    "\n",
    "    return real_graph"
   ]
  },
  {
   "cell_type": "code",
   "execution_count": 17,
   "id": "c6180c2f-ffc1-471e-9621-1cb7f308d106",
   "metadata": {},
   "outputs": [
    {
     "name": "stdout",
     "output_type": "stream",
     "text": [
      "Original no of graphs: 1184\n"
     ]
    }
   ],
   "source": [
    "print('Original no of graphs:',len([name for name in glob.glob('../syn_vae/pubmed/*')]))"
   ]
  },
  {
   "cell_type": "code",
   "execution_count": 18,
   "id": "7ccf4e52",
   "metadata": {},
   "outputs": [
    {
     "name": "stdout",
     "output_type": "stream",
     "text": [
      "../syn_vae/pubmed/sync446174233453/sync446174233453_G27.gexf\n",
      "node count 18\n",
      "edge count 21\n",
      "Original edge_count 32\n",
      "Removed edge_count 11\n",
      "Removed edges [('chemical', 'disease'), ('chemical', 'disease'), ('chemical', 'disease'), ('disease', 'disease'), ('disease', 'disease'), ('species', 'disease'), ('disease', 'species'), ('disease', 'gene'), ('disease', 'gene'), ('disease', 'gene'), ('gene', 'chemical')]\n",
      "HeteroData(\n",
      "  disease={\n",
      "    x=[3, 200],\n",
      "    y=[3],\n",
      "    train_mask=[3],\n",
      "    val_mask=[3],\n",
      "    test_mask=[3],\n",
      "  },\n",
      "  gene={ x=[9, 200] },\n",
      "  chemical={ x=[3, 200] },\n",
      "  species={ x=[3, 200] },\n",
      "  (chemical, to, chemical)={ edge_index=[2, 2] },\n",
      "  (chemical, to, gene)={ edge_index=[2, 3] },\n",
      "  (chemical, to, species)={ edge_index=[2, 2] },\n",
      "  (gene, to, disease)={ edge_index=[2, 3] },\n",
      "  (gene, to, gene)={ edge_index=[2, 8] },\n",
      "  (species, to, gene)={ edge_index=[2, 3] }\n",
      ")\n",
      "Prediction: tensor([5, 1, 3])\n",
      "Ground Truth: tensor([6, 6, 6])\n",
      "tensor([False, False, False])\n",
      "tensor([[2.6121e-06, 9.6057e-07, 1.2449e-08, 2.9593e-04, 8.0659e-07, 9.6419e-01,\n",
      "         5.0915e-07, 3.5509e-02],\n",
      "        [3.5129e-04, 4.8595e-01, 8.7641e-05, 3.8930e-01, 1.9781e-03, 8.2924e-02,\n",
      "         1.7251e-03, 3.7687e-02],\n",
      "        [2.6325e-05, 7.6276e-02, 1.1615e-04, 9.0827e-01, 5.3827e-04, 1.4751e-02,\n",
      "         1.2729e-06, 2.0211e-05]])\n",
      "correct indices []\n",
      "------------------------------------------------------------------\n",
      "../syn_vae/pubmed/sync719797233518/sync719797233518_G27.gexf\n",
      "node count 18\n",
      "edge count 19\n",
      "Original edge_count 31\n",
      "Removed edge_count 12\n",
      "Removed edges [('chemical', 'disease'), ('gene', 'chemical'), ('species', 'disease'), ('species', 'species'), ('disease', 'chemical'), ('species', 'chemical'), ('species', 'chemical'), ('chemical', 'disease'), ('chemical', 'disease'), ('chemical', 'disease'), ('gene', 'chemical'), ('gene', 'chemical')]\n",
      "HeteroData(\n",
      "  disease={\n",
      "    x=[2, 200],\n",
      "    y=[2],\n",
      "    train_mask=[2],\n",
      "    val_mask=[2],\n",
      "    test_mask=[2],\n",
      "  },\n",
      "  gene={ x=[7, 200] },\n",
      "  chemical={ x=[5, 200] },\n",
      "  species={ x=[4, 200] },\n",
      "  (chemical, to, chemical)={ edge_index=[2, 4] },\n",
      "  (chemical, to, gene)={ edge_index=[2, 3] },\n",
      "  (chemical, to, species)={ edge_index=[2, 4] },\n",
      "  (gene, to, disease)={ edge_index=[2, 2] },\n",
      "  (gene, to, gene)={ edge_index=[2, 4] },\n",
      "  (species, to, gene)={ edge_index=[2, 2] }\n",
      ")\n",
      "Prediction: tensor([6, 4])\n",
      "Ground Truth: tensor([6, 6])\n",
      "tensor([ True, False])\n",
      "tensor([[8.7534e-04, 1.2586e-02, 1.9514e-06, 3.2553e-05, 1.7986e-03, 8.1841e-05,\n",
      "         8.7782e-01, 1.0680e-01],\n",
      "        [9.6668e-02, 2.8039e-01, 1.1513e-01, 8.6223e-02, 4.1755e-01, 7.7918e-04,\n",
      "         3.2302e-03, 3.9373e-05]])\n",
      "correct indices [0]\n",
      "------------------------------------------------------------------\n",
      "../syn_vae/pubmed/sync47727233508/sync47727233508_G26.gexf\n",
      "node count 15\n",
      "edge count 14\n",
      "Original edge_count 29\n",
      "Removed edge_count 15\n",
      "Removed edges [('chemical', 'disease'), ('chemical', 'disease'), ('species', 'species'), ('gene', 'species'), ('gene', 'species'), ('gene', 'species'), ('disease', 'chemical'), ('species', 'species'), ('species', 'species'), ('species', 'species'), ('species', 'species'), ('species', 'disease'), ('gene', 'species'), ('gene', 'species'), ('disease', 'gene')]\n",
      "HeteroData(\n",
      "  disease={\n",
      "    x=[1, 200],\n",
      "    y=[1],\n",
      "    train_mask=[1],\n",
      "    val_mask=[1],\n",
      "    test_mask=[1],\n",
      "  },\n",
      "  gene={ x=[8, 200] },\n",
      "  chemical={ x=[2, 200] },\n",
      "  species={ x=[4, 200] },\n",
      "  (chemical, to, chemical)={ edge_index=[2, 1] },\n",
      "  (chemical, to, gene)={ edge_index=[2, 3] },\n",
      "  (chemical, to, species)={ edge_index=[2, 3] },\n",
      "  (gene, to, disease)={ edge_index=[2, 1] },\n",
      "  (species, to, gene)={ edge_index=[2, 6] }\n",
      ")\n",
      "Prediction: tensor([5])\n",
      "Ground Truth: tensor([6])\n",
      "tensor([False])\n",
      "tensor([[5.9666e-06, 1.6696e-04, 1.0177e-05, 4.6824e-02, 2.6133e-05, 9.5101e-01,\n",
      "         1.4982e-06, 1.9515e-03]])\n",
      "correct indices []\n",
      "------------------------------------------------------------------\n",
      "../syn_vae/pubmed/sync893086233433/sync893086233433_G27.gexf\n",
      "node count 18\n",
      "edge count 17\n",
      "Original edge_count 31\n",
      "Removed edge_count 14\n",
      "Removed edges [('chemical', 'disease'), ('chemical', 'disease'), ('chemical', 'disease'), ('disease', 'disease'), ('disease', 'disease'), ('gene', 'chemical'), ('gene', 'chemical'), ('disease', 'species'), ('chemical', 'disease'), ('chemical', 'disease'), ('disease', 'gene'), ('chemical', 'disease'), ('disease', 'disease'), ('disease', 'gene')]\n",
      "HeteroData(\n",
      "  disease={\n",
      "    x=[2, 200],\n",
      "    y=[2],\n",
      "    train_mask=[2],\n",
      "    val_mask=[2],\n",
      "    test_mask=[2],\n",
      "  },\n",
      "  gene={ x=[7, 200] },\n",
      "  chemical={ x=[6, 200] },\n",
      "  species={ x=[3, 200] },\n",
      "  (chemical, to, chemical)={ edge_index=[2, 5] },\n",
      "  (chemical, to, gene)={ edge_index=[2, 5] },\n",
      "  (chemical, to, species)={ edge_index=[2, 2] },\n",
      "  (gene, to, disease)={ edge_index=[2, 2] },\n",
      "  (gene, to, gene)={ edge_index=[2, 2] },\n",
      "  (species, to, gene)={ edge_index=[2, 1] }\n",
      ")\n",
      "Prediction: tensor([5, 0])\n",
      "Ground Truth: tensor([6, 6])\n",
      "tensor([False, False])\n",
      "tensor([[1.0525e-05, 6.2185e-04, 2.5321e-04, 9.8080e-02, 1.4151e-03, 8.9801e-01,\n",
      "         2.7358e-05, 1.5871e-03],\n",
      "        [8.0694e-01, 2.7817e-04, 9.2768e-03, 6.8135e-03, 2.7945e-03, 1.6111e-01,\n",
      "         6.4138e-04, 1.2144e-02]])\n",
      "correct indices []\n",
      "------------------------------------------------------------------\n",
      "../syn_vae/pubmed/sync253081233446/sync253081233446_G29.gexf\n",
      "node count 16\n",
      "edge count 15\n",
      "Original edge_count 32\n",
      "Removed edge_count 17\n",
      "Removed edges [('chemical', 'disease'), ('chemical', 'disease'), ('disease', 'chemical'), ('disease', 'species'), ('gene', 'species'), ('gene', 'species'), ('gene', 'species'), ('gene', 'species'), ('disease', 'species'), ('disease', 'chemical'), ('species', 'disease'), ('species', 'disease'), ('species', 'chemical'), ('species', 'chemical'), ('gene', 'species'), ('gene', 'species'), ('species', 'disease')]\n",
      "HeteroData(\n",
      "  disease={\n",
      "    x=[1, 200],\n",
      "    y=[1],\n",
      "    train_mask=[1],\n",
      "    val_mask=[1],\n",
      "    test_mask=[1],\n",
      "  },\n",
      "  gene={ x=[10, 200] },\n",
      "  chemical={ x=[3, 200] },\n",
      "  species={ x=[2, 200] },\n",
      "  (chemical, to, chemical)={ edge_index=[2, 1] },\n",
      "  (chemical, to, gene)={ edge_index=[2, 5] },\n",
      "  (chemical, to, species)={ edge_index=[2, 1] },\n",
      "  (gene, to, disease)={ edge_index=[2, 1] },\n",
      "  (gene, to, gene)={ edge_index=[2, 3] },\n",
      "  (species, to, gene)={ edge_index=[2, 4] }\n",
      ")\n",
      "Prediction: tensor([2])\n",
      "Ground Truth: tensor([6])\n",
      "tensor([False])\n",
      "tensor([[1.5274e-01, 4.2584e-03, 6.4025e-01, 1.3544e-01, 9.7845e-03, 5.6205e-02,\n",
      "         6.0913e-04, 7.0257e-04]])\n",
      "correct indices []\n",
      "------------------------------------------------------------------\n",
      "../syn_vae/pubmed/sync469946233449/sync469946233449_G26.gexf\n",
      "node count 11\n",
      "edge count 11\n",
      "Original edge_count 30\n",
      "Removed edge_count 19\n",
      "Removed edges [('chemical', 'disease'), ('chemical', 'disease'), ('chemical', 'disease'), ('gene', 'species'), ('disease', 'gene'), ('disease', 'gene'), ('disease', 'chemical'), ('disease', 'gene'), ('disease', 'chemical'), ('gene', 'chemical'), ('disease', 'gene'), ('species', 'species'), ('species', 'disease'), ('species', 'species'), ('species', 'disease'), ('species', 'disease'), ('gene', 'chemical'), ('gene', 'species'), ('disease', 'disease')]\n",
      "HeteroData(\n",
      "  disease={\n",
      "    x=[1, 200],\n",
      "    y=[1],\n",
      "    train_mask=[1],\n",
      "    val_mask=[1],\n",
      "    test_mask=[1],\n",
      "  },\n",
      "  gene={ x=[6, 200] },\n",
      "  chemical={ x=[3, 200] },\n",
      "  species={ x=[1, 200] },\n",
      "  (chemical, to, chemical)={ edge_index=[2, 2] },\n",
      "  (chemical, to, gene)={ edge_index=[2, 4] },\n",
      "  (chemical, to, species)={ edge_index=[2, 1] },\n",
      "  (gene, to, disease)={ edge_index=[2, 1] },\n",
      "  (gene, to, gene)={ edge_index=[2, 2] },\n",
      "  (species, to, gene)={ edge_index=[2, 1] }\n",
      ")\n",
      "Prediction: tensor([1])\n",
      "Ground Truth: tensor([6])\n",
      "tensor([False])\n",
      "tensor([[9.3024e-05, 9.5611e-01, 2.1983e-05, 4.1439e-02, 8.8410e-04, 3.1278e-04,\n",
      "         6.2484e-04, 5.1740e-04]])\n",
      "correct indices []\n",
      "------------------------------------------------------------------\n",
      "../syn_vae/pubmed/sync660022233518/sync660022233518_G27.gexf\n",
      "node count 18\n",
      "edge count 18\n",
      "Original edge_count 31\n",
      "Removed edge_count 13\n",
      "Removed edges [('chemical', 'disease'), ('species', 'chemical'), ('disease', 'chemical'), ('disease', 'gene'), ('disease', 'disease'), ('disease', 'species'), ('disease', 'gene'), ('gene', 'chemical'), ('gene', 'chemical'), ('chemical', 'disease'), ('disease', 'gene'), ('disease', 'disease'), ('disease', 'gene')]\n",
      "HeteroData(\n",
      "  disease={\n",
      "    x=[3, 200],\n",
      "    y=[3],\n",
      "    train_mask=[3],\n",
      "    val_mask=[3],\n",
      "    test_mask=[3],\n",
      "  },\n",
      "  gene={ x=[11, 200] },\n",
      "  chemical={ x=[2, 200] },\n",
      "  species={ x=[2, 200] },\n",
      "  (chemical, to, chemical)={ edge_index=[2, 1] },\n",
      "  (chemical, to, gene)={ edge_index=[2, 3] },\n",
      "  (chemical, to, species)={ edge_index=[2, 2] },\n",
      "  (gene, to, disease)={ edge_index=[2, 3] },\n",
      "  (gene, to, gene)={ edge_index=[2, 7] },\n",
      "  (species, to, gene)={ edge_index=[2, 2] }\n",
      ")\n",
      "Prediction: tensor([5, 2, 1])\n",
      "Ground Truth: tensor([6, 6, 6])\n",
      "tensor([False, False, False])\n",
      "tensor([[7.4866e-05, 2.9891e-05, 3.9700e-05, 1.1570e-02, 5.8499e-05, 9.8421e-01,\n",
      "         4.1729e-06, 4.0095e-03],\n",
      "        [2.2193e-02, 1.5972e-04, 7.7997e-01, 2.1033e-02, 1.0110e-01, 7.4862e-02,\n",
      "         5.5806e-04, 1.2557e-04],\n",
      "        [8.8886e-03, 8.6324e-01, 8.0455e-05, 2.4551e-02, 1.0321e-01, 2.1045e-05,\n",
      "         9.7182e-06, 2.3921e-07]])\n",
      "correct indices []\n",
      "------------------------------------------------------------------\n",
      "../syn_vae/pubmed/sync501969233514/sync501969233514_G24.gexf\n",
      "node count 14\n",
      "edge count 13\n",
      "Original edge_count 30\n",
      "Removed edge_count 17\n",
      "Removed edges [('chemical', 'disease'), ('species', 'disease'), ('species', 'chemical'), ('species', 'disease'), ('species', 'chemical'), ('gene', 'chemical'), ('gene', 'chemical'), ('disease', 'chemical'), ('disease', 'chemical'), ('chemical', 'disease'), ('chemical', 'disease'), ('chemical', 'disease'), ('gene', 'species'), ('disease', 'chemical'), ('chemical', 'disease'), ('chemical', 'disease'), ('disease', 'disease')]\n",
      "HeteroData(\n",
      "  disease={\n",
      "    x=[1, 200],\n",
      "    y=[1],\n",
      "    train_mask=[1],\n",
      "    val_mask=[1],\n",
      "    test_mask=[1],\n",
      "  },\n",
      "  gene={ x=[7, 200] },\n",
      "  chemical={ x=[4, 200] },\n",
      "  species={ x=[2, 200] },\n",
      "  (chemical, to, chemical)={ edge_index=[2, 3] },\n",
      "  (chemical, to, gene)={ edge_index=[2, 5] },\n",
      "  (chemical, to, species)={ edge_index=[2, 2] },\n",
      "  (gene, to, disease)={ edge_index=[2, 1] },\n",
      "  (species, to, gene)={ edge_index=[2, 2] }\n",
      ")\n",
      "Prediction: tensor([5])\n",
      "Ground Truth: tensor([6])\n",
      "tensor([False])\n",
      "tensor([[3.5951e-02, 2.4063e-03, 1.9411e-03, 6.9511e-02, 2.4882e-03, 8.3813e-01,\n",
      "         4.9110e-04, 4.9080e-02]])\n",
      "correct indices []\n",
      "------------------------------------------------------------------\n",
      "../syn_vae/pubmed/sync257421233434/sync257421233434_G25.gexf\n",
      "node count 16\n",
      "edge count 15\n",
      "Original edge_count 29\n",
      "Removed edge_count 14\n",
      "Removed edges [('chemical', 'disease'), ('chemical', 'disease'), ('gene', 'chemical'), ('chemical', 'disease'), ('species', 'disease'), ('gene', 'chemical'), ('gene', 'chemical'), ('chemical', 'disease'), ('species', 'disease'), ('disease', 'gene'), ('disease', 'chemical'), ('disease', 'species'), ('species', 'species'), ('species', 'chemical')]\n",
      "HeteroData(\n",
      "  disease={\n",
      "    x=[2, 200],\n",
      "    y=[2],\n",
      "    train_mask=[2],\n",
      "    val_mask=[2],\n",
      "    test_mask=[2],\n",
      "  },\n",
      "  gene={ x=[7, 200] },\n",
      "  chemical={ x=[5, 200] },\n",
      "  species={ x=[2, 200] },\n",
      "  (chemical, to, chemical)={ edge_index=[2, 4] },\n",
      "  (chemical, to, gene)={ edge_index=[2, 5] },\n",
      "  (chemical, to, species)={ edge_index=[2, 2] },\n",
      "  (gene, to, disease)={ edge_index=[2, 2] },\n",
      "  (gene, to, gene)={ edge_index=[2, 1] },\n",
      "  (species, to, gene)={ edge_index=[2, 1] }\n",
      ")\n",
      "Prediction: tensor([3, 3])\n",
      "Ground Truth: tensor([6, 6])\n",
      "tensor([False, False])\n",
      "tensor([[4.6627e-05, 1.9948e-01, 2.6699e-03, 7.6697e-01, 3.0342e-02, 4.9200e-04,\n",
      "         1.6430e-06, 1.5297e-07],\n",
      "        [2.9268e-03, 4.7003e-01, 2.6893e-03, 4.8957e-01, 1.1690e-02, 1.9615e-02,\n",
      "         1.2603e-03, 2.2168e-03]])\n",
      "correct indices []\n",
      "------------------------------------------------------------------\n",
      "../syn_vae/pubmed/sync357257233514/sync357257233514_G27.gexf\n",
      "node count 14\n",
      "edge count 14\n",
      "Original edge_count 31\n",
      "Removed edge_count 17\n",
      "Removed edges [('chemical', 'disease'), ('chemical', 'disease'), ('chemical', 'disease'), ('disease', 'species'), ('disease', 'gene'), ('disease', 'gene'), ('gene', 'species'), ('gene', 'species'), ('gene', 'chemical'), ('gene', 'species'), ('disease', 'gene'), ('chemical', 'disease'), ('species', 'chemical'), ('species', 'species'), ('disease', 'chemical'), ('disease', 'species'), ('disease', 'chemical')]\n",
      "HeteroData(\n",
      "  disease={\n",
      "    x=[2, 200],\n",
      "    y=[2],\n",
      "    train_mask=[2],\n",
      "    val_mask=[2],\n",
      "    test_mask=[2],\n",
      "  },\n",
      "  gene={ x=[8, 200] },\n",
      "  chemical={ x=[3, 200] },\n",
      "  species={ x=[1, 200] },\n",
      "  (chemical, to, chemical)={ edge_index=[2, 1] },\n",
      "  (chemical, to, gene)={ edge_index=[2, 5] },\n",
      "  (chemical, to, species)={ edge_index=[2, 2] },\n",
      "  (gene, to, disease)={ edge_index=[2, 3] },\n",
      "  (gene, to, gene)={ edge_index=[2, 1] },\n",
      "  (species, to, gene)={ edge_index=[2, 2] }\n",
      ")\n",
      "Prediction: tensor([1, 0])\n",
      "Ground Truth: tensor([6, 6])\n",
      "tensor([False, False])\n",
      "tensor([[4.2138e-04, 5.8662e-01, 2.7135e-03, 4.0716e-01, 2.5533e-03, 4.7224e-04,\n",
      "         4.9324e-05, 1.2908e-05],\n",
      "        [4.7481e-01, 8.8294e-03, 2.9696e-01, 1.2329e-01, 4.3178e-02, 5.1659e-02,\n",
      "         6.8612e-04, 5.8007e-04]])\n",
      "correct indices []\n",
      "------------------------------------------------------------------\n"
     ]
    }
   ],
   "source": [
    "softmax_dict = {}\n",
    "nodefeature_dict = {}\n",
    "graph_dict = {}\n",
    "original_edge_count = []\n",
    "removed_edge_count = []\n",
    "removed_edges_list = []\n",
    "rootdir = '../syn_vae/pubmed/'\n",
    "\n",
    "real_graph_path = '../real_graphs/pubmed/'\n",
    "dir_list = []\n",
    "for subdir, dirs,files in os.walk(rootdir):\n",
    "    \n",
    "    if files:\n",
    "        graph_path = os.path.join(subdir, files[0])\n",
    "        class_path = os.path.join(subdir, files[1])       \n",
    "        feature_path = os.path.join(subdir, files[2])\n",
    "\n",
    "        graph = nx.read_gexf(graph_path)\n",
    "        filename = os.path.basename(graph_path)\n",
    "        graph_id= filename.split('.')[0]\n",
    "            #print(graph_id)\n",
    "\n",
    "        nodeId_list = []\n",
    "\n",
    "        for key, value in graph.nodes(data=True):\n",
    "            nodeId_list.append(key)\n",
    "            edges = [e for e in graph.edges]\n",
    "\n",
    "        node_type_list = torch.load(class_path).detach().numpy()\n",
    "\n",
    "        df_graph = pd.DataFrame()\n",
    "        df_graph[\"nodeId\"] = nodeId_list\n",
    "        df_graph[\"class\"] = node_type_list\n",
    "\n",
    "\n",
    "        df_feature = pd.DataFrame(torch.load(feature_path).detach().numpy())        \n",
    "        df_feature[\"class\"] = node_type_list\n",
    "    \n",
    "        real_graph = get_real_graph(len(nodeId_list))\n",
    "\n",
    "        node_label_list = []\n",
    "\n",
    "        if not (nx.get_node_attributes(real_graph, \"class\") is None):\n",
    "            node_class = nx.get_node_attributes(real_graph, \"class\")\n",
    "            node_label_list.append(node_class.get('1'))\n",
    "\n",
    "        disease_node_features = df_feature[df_feature['class'] == 1].drop(['class'], axis = 1)\n",
    "\n",
    "        if not (None in node_label_list):\n",
    "                \n",
    "            labels = []\n",
    "            unique_labels = list(set(node_label_list))\n",
    "                \n",
    "            for i in range(0,len(disease_node_features)):\n",
    "                labels.append(random.choice(unique_labels))\n",
    "\n",
    "            disease_node_features['class']= labels\n",
    "\n",
    "            gene_node_features = df_feature[df_feature['class'] == 0].drop(['class'], axis = 1)\n",
    "            chemical_node_features = df_feature[df_feature['class'] == 2].drop(['class'], axis = 1)\n",
    "            species_node_features = df_feature[df_feature['class'] == 3].drop(['class'], axis = 1)\n",
    "\n",
    "\n",
    "\n",
    "            small_graph_data, removed_edges = create_dataset(nodeId_list,edges,\n",
    "                                      disease_node_features,gene_node_features,\n",
    "                                      chemical_node_features,species_node_features,graph_id,df_graph)\n",
    "\n",
    "            edge_list = all_edges[graph_id]\n",
    "            graph = nx.Graph(edge_list)\n",
    "            if not nx.is_empty(graph) and nx.is_connected(graph):\n",
    "\n",
    "\n",
    "                if (small_graph_data['disease'].x.nelement()!=0) and \\\n",
    "                (small_graph_data['chemical','to','chemical']) and \\\n",
    "                (small_graph_data['chemical','to','species']):\n",
    "                    print(graph_path)\n",
    "                    print('node count',small_graph_data.num_nodes)\n",
    "                    print('edge count',small_graph_data.num_edges)\n",
    "        \n",
    "                    original_edge_count.append(len(edges))\n",
    "                    removed_edge_count.append(len(removed_edges))\n",
    "                    removed_edges_list.append(set(removed_edges))\n",
    "                    print('Original edge_count',len(edges))\n",
    "                    print('Removed edge_count',len(removed_edges))\n",
    "                    print('Removed edges',removed_edges)\n",
    "                    \n",
    "                    softmax, correct_indices = evaluate_gnn(small_graph_data)\n",
    "                    softmax_dict[graph_id] = softmax\n",
    "                    nodefeature_dict[graph_id]={'gene':small_graph_data['gene'].x,\n",
    "                                                 'disease':small_graph_data['disease'].x[correct_indices],\n",
    "                                                 'chemical':small_graph_data['chemical'].x,\n",
    "                                                  'species':small_graph_data['species'].x}\n",
    "                    graph_dict[graph_id]=df_graph\n",
    "\n",
    "        \n",
    "        "
   ]
  },
  {
   "cell_type": "code",
   "execution_count": 19,
   "id": "63fa5721",
   "metadata": {},
   "outputs": [
    {
     "name": "stdout",
     "output_type": "stream",
     "text": [
      "No. of graphs evaluated:  10\n"
     ]
    }
   ],
   "source": [
    "print(\"No. of graphs evaluated: \",len(softmax_dict))"
   ]
  },
  {
   "cell_type": "code",
   "execution_count": 46,
   "id": "900c1c2e-baed-4fb3-8f76-4c1a867ce628",
   "metadata": {},
   "outputs": [
    {
     "name": "stdout",
     "output_type": "stream",
     "text": [
      "Average number of original edges 31\n"
     ]
    }
   ],
   "source": [
    "print('Average number of original edges',round(np.mean(original_edge_count)))"
   ]
  },
  {
   "cell_type": "code",
   "execution_count": 47,
   "id": "1b3e6f4e-6705-4e87-95ad-8cea96d4f5b4",
   "metadata": {},
   "outputs": [
    {
     "name": "stdout",
     "output_type": "stream",
     "text": [
      "Average number of edges removed 15\n"
     ]
    }
   ],
   "source": [
    "print('Average number of edges removed',round(np.mean(removed_edge_count)))"
   ]
  },
  {
   "cell_type": "code",
   "execution_count": 20,
   "id": "cfbaf181",
   "metadata": {},
   "outputs": [],
   "source": [
    "#Getting the list of predictions for each class\n",
    "prob_class6_dict = {}\n",
    "for nodeid in softmax_dict:\n",
    "    list6= []\n",
    "    if len(softmax_dict[nodeid]) > 0:\n",
    "        list6= []\n",
    "\n",
    "        for prob in softmax_dict[nodeid]:        \n",
    "            list6.append(prob[6])\n",
    "\n",
    "\n",
    "     #Taking max probability of all nodes of each class in a graph\n",
    "\n",
    "    if len(list6) != 0:\n",
    "        prob_class6_dict[nodeid]=max(list6)\n"
   ]
  },
  {
   "cell_type": "code",
   "execution_count": 21,
   "id": "8ec88a5c",
   "metadata": {},
   "outputs": [
    {
     "name": "stdout",
     "output_type": "stream",
     "text": [
      "sync719797233518_G27\n"
     ]
    }
   ],
   "source": [
    "max_pred6 = max(prob_class6_dict.values())\n",
    "class6_graphid = max(prob_class6_dict, key=prob_class6_dict.get)\n",
    "print(class6_graphid)"
   ]
  },
  {
   "cell_type": "code",
   "execution_count": 22,
   "id": "6eda8ada",
   "metadata": {},
   "outputs": [],
   "source": [
    "def plot_graph(graphid, max_pred,nodetype,edges,graph):\n",
    "\n",
    "    classes = []\n",
    "    G = nx.Graph(edges)\n",
    "    df_graph = graph_dict[graphid]\n",
    "    for g in G.nodes():\n",
    "        #print(g)\n",
    "        #print(df_graph.loc[g]['class'])\n",
    "        if df_graph.loc[df_graph['nodeId'] == str(g), 'class'].values[0] == 0:\n",
    "            classes.append(0)\n",
    "        if df_graph.loc[df_graph['nodeId'] == str(g), 'class'].values[0] == 1:\n",
    "            classes.append(1)\n",
    "        if df_graph.loc[df_graph['nodeId'] == str(g), 'class'].values[0]== 2:\n",
    "            classes.append(2)\n",
    "        if df_graph.loc[df_graph['nodeId'] == str(g), 'class'].values[0] == 3:\n",
    "            classes.append(3)\n",
    "   \n",
    "    \n",
    "    color_class_map = {0: 'blue', 1: 'red', 2: 'darkgreen', 3: 'orange'}\n",
    "    \n",
    "    nx.set_node_attributes(G, dict(zip(G.nodes(), classes)), 'class')\n",
    "    \n",
    "    print('Number of nodes: ',G.number_of_nodes())\n",
    "    print('graph id: ',graphid)\n",
    "    print(f'Max pred probability for class {nodetype} is {max_pred}')\n",
    "\n",
    "    nx.draw(G, \n",
    "    with_labels=False, node_color=[color_class_map[node[1]['class']] \n",
    "                        for node in G.nodes(data=True)], \n",
    "            node_size=100,\n",
    "        font_color='black')\n",
    "    plt.show()"
   ]
  },
  {
   "cell_type": "markdown",
   "id": "50a4c86e",
   "metadata": {},
   "source": [
    "Plotting explanation graph with node features for each class of Disease node\n",
    "\n",
    "Node colors:\n",
    "\n",
    "Gene - Blue\n",
    "\n",
    "Disease - Red\n",
    "\n",
    "Chemical - Darkgreen\n",
    "\n",
    "Species - Orange"
   ]
  },
  {
   "cell_type": "code",
   "execution_count": 51,
   "id": "64c1bde9",
   "metadata": {},
   "outputs": [
    {
     "name": "stdout",
     "output_type": "stream",
     "text": [
      "Number of nodes:  18\n",
      "graph id:  sync719797233518_G27\n",
      "Max pred probability for class 6 is 0.8778218626976013\n"
     ]
    },
    {
     "data": {
      "image/png": "[encoded data removed]",
      "text/plain": [
       "<Figure size 640x480 with 1 Axes>"
      ]
     },
     "metadata": {},
     "output_type": "display_data"
    }
   ],
   "source": [
    "explanation_graph6 = plot_graph(class6_graphid, max_pred6, 6, all_edges[class6_graphid],graph_dict[class6_graphid])"
   ]
  },
  {
   "cell_type": "code",
   "execution_count": 49,
   "id": "8b0b3c8e",
   "metadata": {},
   "outputs": [],
   "source": [
    "def print_stat_cont_features(df):\n",
    "    #print('summary',df.describe())\n",
    "    print('mean',df.stack().mean())\n",
    "    print('std dev',df.stack().std())"
   ]
  },
  {
   "cell_type": "code",
   "execution_count": 28,
   "id": "0374bd4a-c27c-42ac-a24c-60cc300d8fff",
   "metadata": {},
   "outputs": [],
   "source": [
    "def index_2d(prob_list, v):\n",
    "    for i, x in enumerate(prob_list):\n",
    "        if v in x:\n",
    "            return (i, x.index(v))"
   ]
  },
  {
   "cell_type": "code",
   "execution_count": 29,
   "id": "bd3a8ddf",
   "metadata": {},
   "outputs": [],
   "source": [
    "def plot_node_feat(imp_feat):\n",
    "\n",
    "    sns.distplot(imp_feat,color= 'orange',hist= False)\n",
    "    plt.xticks(fontsize=20)\n",
    "    plt.yticks(fontsize=20)\n",
    "    plt.xlabel('Feature values',fontsize=20)\n",
    "    plt.ylabel('Density',fontsize=20)\n",
    "\n",
    "    plt.show() "
   ]
  },
  {
   "cell_type": "code",
   "execution_count": 42,
   "id": "d46fd750-ce06-4853-94e0-c645fcbc4606",
   "metadata": {},
   "outputs": [
    {
     "data": {
      "text/plain": [
       "Text(0, 0.5, 'Density')"
      ]
     },
     "execution_count": 42,
     "metadata": {},
     "output_type": "execute_result"
    },
    {
     "data": {
      "image/png": "[encoded data removed]",
      "text/plain": [
       "<Figure size 730x480 with 1 Axes>"
      ]
     },
     "metadata": {},
     "output_type": "display_data"
    }
   ],
   "source": [
    "ind = index_2d(softmax_dict[class6_graphid], max_pred6)[0]\n",
    "disease6_df = pd.DataFrame(nodefeature_dict[class6_graphid]['disease'].numpy()[ind])\n",
    "#plot_node_feat(disease6_df)\n",
    "fig, ax = plt.subplots(figsize=(7.3,4.8))\n",
    "#ax.set_aspect('equal', 'datalim')\n",
    "sns.distplot(disease6_df,color= 'orange',hist= False)\n",
    "plt.xticks(fontsize=20)\n",
    "plt.yticks(fontsize=20)\n",
    "plt.xlabel('Feature values',fontsize=20)\n",
    "plt.ylabel('Density',fontsize=20)"
   ]
  },
  {
   "cell_type": "code",
   "execution_count": 39,
   "id": "ecd15c9d-8cbf-4862-8d4c-5d54c6d58607",
   "metadata": {},
   "outputs": [
    {
     "name": "stdout",
     "output_type": "stream",
     "text": [
      "mean 0.0010154528\n",
      "std dev 0.10325434\n"
     ]
    }
   ],
   "source": [
    "print_stat_cont_features(disease6_df)"
   ]
  },
  {
   "cell_type": "code",
   "execution_count": 32,
   "id": "d47899a0",
   "metadata": {},
   "outputs": [
    {
     "name": "stdout",
     "output_type": "stream",
     "text": [
      "mean 0.00088273856\n",
      "std dev 0.10234854\n"
     ]
    }
   ],
   "source": [
    "gene6_df = pd.DataFrame(nodefeature_dict[class6_graphid]['gene'].numpy())\n",
    "print_stat_cont_features(gene6_df)"
   ]
  },
  {
   "cell_type": "code",
   "execution_count": 38,
   "id": "f5dba6c7",
   "metadata": {},
   "outputs": [
    {
     "data": {
      "text/plain": [
       "Text(0, 0.5, 'Density')"
      ]
     },
     "execution_count": 38,
     "metadata": {},
     "output_type": "execute_result"
    },
    {
     "data": {
      "image/png": "[encoded data removed]",
      "text/plain": [
       "<Figure size 730x480 with 1 Axes>"
      ]
     },
     "metadata": {},
     "output_type": "display_data"
    }
   ],
   "source": [
    "#plot_node_feat(gene6_df)\n",
    "fig, ax = plt.subplots(figsize=(7.3,4.8))\n",
    "#ax.set_aspect('equal', 'datalim')\n",
    "sns.distplot(gene6_df,color= 'orange',hist= False)\n",
    "plt.xticks(fontsize=20)\n",
    "plt.yticks(fontsize=20)\n",
    "plt.xlabel('Feature values',fontsize=20)\n",
    "plt.ylabel('Density',fontsize=20)"
   ]
  },
  {
   "cell_type": "code",
   "execution_count": 40,
   "id": "f53d838e",
   "metadata": {},
   "outputs": [
    {
     "name": "stdout",
     "output_type": "stream",
     "text": [
      "mean 0.0037535753\n",
      "std dev 0.10455123\n"
     ]
    }
   ],
   "source": [
    "chemical6_df = pd.DataFrame(nodefeature_dict[class6_graphid]['chemical'].numpy())\n",
    "print_stat_cont_features(chemical6_df)"
   ]
  },
  {
   "cell_type": "code",
   "execution_count": 43,
   "id": "d5668701",
   "metadata": {},
   "outputs": [
    {
     "data": {
      "text/plain": [
       "Text(0, 0.5, 'Density')"
      ]
     },
     "execution_count": 43,
     "metadata": {},
     "output_type": "execute_result"
    },
    {
     "data": {
      "image/png": "[encoded data removed]",
      "text/plain": [
       "<Figure size 730x480 with 1 Axes>"
      ]
     },
     "metadata": {},
     "output_type": "display_data"
    }
   ],
   "source": [
    "#plot_node_feat(chemical6_df)\n",
    "fig, ax = plt.subplots(figsize=(7.3,4.8))\n",
    "#ax.set_aspect('equal', 'datalim')\n",
    "sns.distplot(chemical6_df,color= 'orange',hist= False)\n",
    "plt.xticks(fontsize=20)\n",
    "plt.yticks(fontsize=20)\n",
    "plt.xlabel('Feature values',fontsize=20)\n",
    "plt.ylabel('Density',fontsize=20)"
   ]
  },
  {
   "cell_type": "code",
   "execution_count": 44,
   "id": "9c672dee",
   "metadata": {},
   "outputs": [
    {
     "name": "stdout",
     "output_type": "stream",
     "text": [
      "mean 0.0011008003\n",
      "std dev 0.10600657\n"
     ]
    }
   ],
   "source": [
    "species6_df = pd.DataFrame(nodefeature_dict[class6_graphid]['species'].numpy())\n",
    "print_stat_cont_features(species6_df)"
   ]
  },
  {
   "cell_type": "code",
   "execution_count": 52,
   "id": "26ed9873",
   "metadata": {},
   "outputs": [
    {
     "data": {
      "text/plain": [
       "Text(0, 0.5, 'Density')"
      ]
     },
     "execution_count": 52,
     "metadata": {},
     "output_type": "execute_result"
    },
    {
     "data": {
      "image/png": "[encoded data removed]",
      "text/plain": [
       "<Figure size 730x480 with 1 Axes>"
      ]
     },
     "metadata": {},
     "output_type": "display_data"
    }
   ],
   "source": [
    "#plot_node_feat(species6_df)\n",
    "fig, ax = plt.subplots(figsize=(7.3,4.8))\n",
    "#ax.set_aspect('equal', 'datalim')\n",
    "sns.distplot(species6_df,color= 'orange',hist= False)\n",
    "plt.xticks(fontsize=20)\n",
    "plt.yticks(fontsize=20)\n",
    "plt.xlabel('Feature values',fontsize=20)\n",
    "plt.ylabel('Density',fontsize=20)"
   ]
  },
  {
   "cell_type": "code",
   "execution_count": null,
   "id": "6a945ed4",
   "metadata": {},
   "outputs": [],
   "source": []
  }
 ],
 "metadata": {
  "kernelspec": {
   "display_name": "Python 3 (ipykernel)",
   "language": "python",
   "name": "python3"
  },
  "language_info": {
   "codemirror_mode": {
    "name": "ipython",
    "version": 3
   },
   "file_extension": ".py",
   "mimetype": "text/x-python",
   "name": "python",
   "nbconvert_exporter": "python",
   "pygments_lexer": "ipython3",
   "version": "3.10.6"
  }
 },
 "nbformat": 4,
 "nbformat_minor": 5
}
