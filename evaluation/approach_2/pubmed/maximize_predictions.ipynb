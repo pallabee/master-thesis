{
 "cells": [
  {
   "cell_type": "code",
   "execution_count": 1,
   "id": "2e9b7a34",
   "metadata": {},
   "outputs": [],
   "source": [
    "# This code works in Python 3.10.6\n",
    "import os\n",
    "import matplotlib.pyplot as plt\n",
    "import numpy as np\n",
    "import pandas as pd\n",
    "import networkx as nx\n",
    "import dgl\n",
    "import random\n",
    "import torch\n",
    "from torch import optim\n",
    "from torch_geometric.data import HeteroData\n",
    "import torch_geometric.transforms as T\n",
    "import torch.nn.functional as F\n",
    "from torch_geometric.nn import HeteroConv, Linear, SAGEConv\n",
    "import torch_geometric.utils.convert\n",
    "import seaborn as sns\n",
    "import glob\n",
    "import warnings\n",
    "warnings.filterwarnings('ignore')"
   ]
  },
  {
   "cell_type": "markdown",
   "id": "cc369605-8d6a-4d9b-b2c1-f7e6716ada51",
   "metadata": {},
   "source": [
    "Create Metagraph"
   ]
  },
  {
   "cell_type": "code",
   "execution_count": 2,
   "id": "3c983cac-7ba9-408f-a598-647469114ab5",
   "metadata": {},
   "outputs": [
    {
     "name": "stdout",
     "output_type": "stream",
     "text": [
      "importing Jupyter notebook from pubmed_dataset.ipynb\n",
      "HeteroData(\n",
      "  disease={\n",
      "    x=[454, 200],\n",
      "    y=[454],\n",
      "  },\n",
      "  gene={ x=[13561, 200] },\n",
      "  chemical={ x=[26522, 200] },\n",
      "  species={ x=[2863, 200] },\n",
      "  (gene, to, gene)={ edge_index=[2, 40] },\n",
      "  (gene, to, disease)={ edge_index=[2, 1] },\n",
      "  (chemical, to, gene)={ edge_index=[2, 70] },\n",
      "  (chemical, to, chemical)={ edge_index=[2, 108] },\n",
      "  (chemical, to, species)={ edge_index=[2, 18] },\n",
      "  (species, to, gene)={ edge_index=[2, 6] }\n",
      ")\n"
     ]
    }
   ],
   "source": [
    "import import_ipynb\n",
    "import pubmed_dataset"
   ]
  },
  {
   "cell_type": "code",
   "execution_count": 3,
   "id": "db89666b",
   "metadata": {},
   "outputs": [],
   "source": [
    "data = pubmed_dataset.data"
   ]
  },
  {
   "cell_type": "code",
   "execution_count": 4,
   "id": "c6643179-f805-4730-9f8b-ea91f1f83725",
   "metadata": {},
   "outputs": [],
   "source": [
    "dataset = data.clone()\n",
    "# Node features are removed as a temporary fix to the errors in conversion of \n",
    "#Pytorch Geometric HeteroData to DGL graph. Node features are not important for creating metagraph.\n",
    "dataset['disease'].x = dataset['disease'].x[:405, :]\n",
    "dataset['disease'].y = dataset['disease'].y[:405]\n",
    "dataset['gene'].x = dataset['gene'].x[:13499, :]\n",
    "dataset['chemical'].x = dataset['chemical'].x[:26406, :]\n",
    "dataset['species'].x = dataset['species'].x[:2741, :]"
   ]
  },
  {
   "cell_type": "code",
   "execution_count": 5,
   "id": "5e5781b0-6c22-4cbc-a443-418083cd877a",
   "metadata": {},
   "outputs": [],
   "source": [
    "#Create metagraph\n",
    "g = torch_geometric.utils.convert.to_dgl(dataset)\n",
    "meta_g= g.metagraph()"
   ]
  },
  {
   "cell_type": "markdown",
   "id": "3fa7aec1-389e-405f-8bfa-72f394f51263",
   "metadata": {},
   "source": [
    "Train PubMed"
   ]
  },
  {
   "cell_type": "code",
   "execution_count": 6,
   "id": "fefd1c8d-2a8f-4cfc-b4df-6c9ae8ed7941",
   "metadata": {},
   "outputs": [
    {
     "data": {
      "text/plain": [
       "HeteroData(\n",
       "  disease={\n",
       "    x=[454, 200],\n",
       "    y=[454],\n",
       "    train_mask=[454],\n",
       "    val_mask=[454],\n",
       "    test_mask=[454],\n",
       "  },\n",
       "  gene={ x=[13561, 200] },\n",
       "  chemical={ x=[26522, 200] },\n",
       "  species={ x=[2863, 200] },\n",
       "  (gene, to, gene)={ edge_index=[2, 40] },\n",
       "  (gene, to, disease)={ edge_index=[2, 1] },\n",
       "  (chemical, to, gene)={ edge_index=[2, 70] },\n",
       "  (chemical, to, chemical)={ edge_index=[2, 108] },\n",
       "  (chemical, to, species)={ edge_index=[2, 18] },\n",
       "  (species, to, gene)={ edge_index=[2, 6] }\n",
       ")"
      ]
     },
     "execution_count": 6,
     "metadata": {},
     "output_type": "execute_result"
    }
   ],
   "source": [
    "transform = T.RandomNodeSplit(split='train_rest', num_val=0.15, num_test=0.15)\n",
    "data = transform(data)\n",
    "data"
   ]
  },
  {
   "cell_type": "code",
   "execution_count": 7,
   "id": "22950b69",
   "metadata": {},
   "outputs": [
    {
     "name": "stdout",
     "output_type": "stream",
     "text": [
      "Epoch: 010, Loss: 1.0870, Train: 0.6792, Val: 0.4706, Test: 0.4118\n",
      "Epoch: 020, Loss: 0.3741, Train: 0.8868, Val: 0.5000, Test: 0.5294\n",
      "Epoch: 030, Loss: 0.0560, Train: 0.9874, Val: 0.5294, Test: 0.5000\n",
      "Epoch: 040, Loss: 0.0204, Train: 0.9623, Val: 0.5147, Test: 0.4706\n",
      "Epoch: 050, Loss: 0.1486, Train: 0.9717, Val: 0.5000, Test: 0.5000\n",
      "Epoch: 060, Loss: 0.0279, Train: 1.0000, Val: 0.5147, Test: 0.4853\n",
      "Epoch: 070, Loss: 0.0084, Train: 1.0000, Val: 0.5588, Test: 0.5441\n",
      "Epoch: 080, Loss: 0.0033, Train: 1.0000, Val: 0.5294, Test: 0.5294\n",
      "Epoch: 090, Loss: 0.0029, Train: 1.0000, Val: 0.5294, Test: 0.5294\n",
      "Epoch: 100, Loss: 0.0035, Train: 1.0000, Val: 0.5294, Test: 0.5441\n"
     ]
    }
   ],
   "source": [
    "class HeteroGNN(torch.nn.Module):\n",
    "    def __init__(self, metadata, hidden_channels, out_channels, num_layers):\n",
    "        super().__init__()\n",
    "\n",
    "        self.convs = torch.nn.ModuleList()\n",
    "        for _ in range(num_layers):\n",
    "            conv = HeteroConv({\n",
    "                edge_type: SAGEConv((-1, -1), hidden_channels)\n",
    "                for edge_type in metadata[1]\n",
    "            })\n",
    "            self.convs.append(conv)\n",
    "\n",
    "        self.lin = Linear(hidden_channels, out_channels)\n",
    "\n",
    "    def forward(self, x_dict, edge_index_dict):\n",
    "        for conv in self.convs:\n",
    "            x_dict = conv(x_dict, edge_index_dict)\n",
    "            x_dict = {key: F.leaky_relu(x) for key, x in x_dict.items()}\n",
    "        return self.lin(x_dict['disease'])\n",
    "\n",
    "\n",
    "model = HeteroGNN(data.metadata(), hidden_channels=256, out_channels=8,\n",
    "                  num_layers=4)\n",
    "#device = torch.device('cuda' if torch.cuda.is_available() else 'cpu')\n",
    "device = 'cpu'\n",
    "data, model = data.to(device), model.to(device)\n",
    "\n",
    "with torch.no_grad():  # Initialize lazy modules.\n",
    "    out = model(data.x_dict, data.edge_index_dict)\n",
    "\n",
    "optimizer = torch.optim.Adam(model.parameters(), lr=0.005, weight_decay=0.001)\n",
    "\n",
    "\n",
    "def train():\n",
    "    model.train()\n",
    "    optimizer.zero_grad()\n",
    "    out = model(data.x_dict, data.edge_index_dict)\n",
    "    mask = data['disease'].train_mask\n",
    "    loss = F.cross_entropy(out[mask], data['disease'].y[mask])\n",
    "    loss.backward()\n",
    "    optimizer.step()\n",
    "    return float(loss)\n",
    "\n",
    "\n",
    "@torch.no_grad()\n",
    "def test():\n",
    "    model.eval()\n",
    "    pred = model(data.x_dict, data.edge_index_dict).argmax(dim=-1)\n",
    "\n",
    "    accs = []\n",
    "    for split in ['train_mask', 'val_mask', 'test_mask']:\n",
    "        mask = data['disease'][split]\n",
    "        acc = (pred[mask] == data['disease'].y[mask]).sum() / mask.sum()\n",
    "        accs.append(float(acc))\n",
    "    return accs\n",
    "\n",
    "\n",
    "for epoch in range(1, 101):\n",
    "    loss = train()\n",
    "    train_acc, val_acc, test_acc = test()\n",
    "    if epoch%10==0:\n",
    "        print(f'Epoch: {epoch:03d}, Loss: {loss:.4f}, Train: {train_acc:.4f}, '\n",
    "          f'Val: {val_acc:.4f}, Test: {test_acc:.4f}')"
   ]
  },
  {
   "cell_type": "code",
   "execution_count": 8,
   "id": "decaaee1",
   "metadata": {},
   "outputs": [],
   "source": [
    "def remap_indices(node_list):\n",
    "    val_list = [*range(0, len(node_list), 1)]\n",
    "    return dict(zip(node_list,val_list))  "
   ]
  },
  {
   "cell_type": "code",
   "execution_count": 9,
   "id": "b8f89891",
   "metadata": {},
   "outputs": [],
   "source": [
    "def preprocess_edges(edgelist,node_list):\n",
    "    res = [[node_list[i] for i, j in edgelist],[node_list[j] for i, j in edgelist]] \n",
    "    node_from = torch.tensor(res[0])\n",
    "    node_to = torch.tensor(res[1])\n",
    "    edges = torch.concat((node_from,node_to)).reshape(-1,len(node_from))\n",
    "    return edges"
   ]
  },
  {
   "cell_type": "code",
   "execution_count": 10,
   "id": "c2f41976-2dc8-40b9-b882-52e2acd49d0a",
   "metadata": {},
   "outputs": [],
   "source": [
    "def get_node_type(node_type):\n",
    "    if node_type == 1:\n",
    "        return 'disease'\n",
    "    elif node_type == 0:\n",
    "        return 'gene'\n",
    "    elif node_type == 2:\n",
    "        return 'chemical'\n",
    "    elif node_type == 3:\n",
    "        return 'species'"
   ]
  },
  {
   "cell_type": "code",
   "execution_count": 11,
   "id": "4050f97a",
   "metadata": {},
   "outputs": [],
   "source": [
    "all_edges = {}"
   ]
  },
  {
   "cell_type": "code",
   "execution_count": 12,
   "id": "82c1890a-913f-42f9-866b-63d869cc46a3",
   "metadata": {},
   "outputs": [
    {
     "data": {
      "text/plain": [
       "[('chemical', 'chemical'),\n",
       " ('chemical', 'gene'),\n",
       " ('chemical', 'species'),\n",
       " ('gene', 'disease'),\n",
       " ('gene', 'gene'),\n",
       " ('species', 'gene')]"
      ]
     },
     "execution_count": 12,
     "metadata": {},
     "output_type": "execute_result"
    }
   ],
   "source": [
    "#List of edges in metagraph of PubMed\n",
    "list(meta_g.edges())"
   ]
  },
  {
   "cell_type": "code",
   "execution_count": 13,
   "id": "58d39856",
   "metadata": {},
   "outputs": [],
   "source": [
    "def create_dataset(nodes,edges,disease_df,gene_df,chemical_df,species_df,node_id,df_graph):\n",
    "    disease = np.asarray(disease_df.drop(columns=['class']))\n",
    "    gene = np.asarray(gene_df)\n",
    "    chemical = np.asarray(chemical_df)\n",
    "    species = np.asarray(species_df)\n",
    "    \n",
    "\n",
    "    x_disease = torch.tensor(disease).to(dtype=torch.float32)\n",
    "    y_disease = torch.tensor(np.array(disease_df[\"class\"]), dtype=torch.long)\n",
    "    x_gene = torch.tensor(gene).to(dtype=torch.float32)\n",
    "    x_chemical = torch.tensor(chemical).to(dtype=torch.float32)\n",
    "    x_species = torch.tensor(species).to(dtype=torch.float32)\n",
    "    \n",
    "    #Edges\n",
    "    source,dest =list(map(list, zip(*edges)))\n",
    "\n",
    "    gene_to_gene = []\n",
    "    gene_to_disease = []\n",
    "    disease_to_disease = []\n",
    "    chemical_to_gene = []\n",
    "    chemical_to_disease = []\n",
    "    chemical_to_chemical = []\n",
    "    chemical_to_species = []\n",
    "    species_to_gene = []\n",
    "    species_to_disease = []\n",
    "    species_to_species = []\n",
    "    remaining_edges = []\n",
    "\n",
    "    class_dict = {'Gene':0, 'Disease':1, 'Chemical':2,'Species':3}\n",
    "\n",
    "    for i in range(len(edges)):\n",
    "        if (df_graph.loc[df_graph['nodeId'] == source[i], 'class'].values[0] == class_dict['Gene']) and \\\n",
    "        (df_graph.loc[df_graph['nodeId'] == dest[i], 'class'].values[0] == class_dict['Gene']):\n",
    "                gene_to_gene.append((int(source[i]),int(dest[i])))\n",
    "\n",
    "        elif (df_graph.loc[df_graph['nodeId'] == source[i], 'class'].values[0] == class_dict['Gene']) and \\\n",
    "            (df_graph.loc[df_graph['nodeId'] == dest[i], 'class'].values[0] == class_dict['Disease']):\n",
    "                gene_to_disease.append((int(source[i]),int(dest[i])))\n",
    "\n",
    "        elif (df_graph.loc[df_graph['nodeId'] == source[i], 'class'].values[0] == class_dict['Disease']) and \\\n",
    "            (df_graph.loc[df_graph['nodeId'] == dest[i], 'class'].values[0] == class_dict['Disease']):\n",
    "                disease_to_disease.append((int(source[i]),int(dest[i])))\n",
    "\n",
    "        elif (df_graph.loc[df_graph['nodeId'] == source[i], 'class'].values[0] == class_dict['Chemical']) and \\\n",
    "            (df_graph.loc[df_graph['nodeId'] == dest[i], 'class'].values[0] == class_dict['Gene']):\n",
    "                chemical_to_gene.append((int(source[i]),int(dest[i])))\n",
    "\n",
    "        elif (df_graph.loc[df_graph['nodeId'] == source[i], 'class'].values[0] == class_dict['Chemical']) and \\\n",
    "            (df_graph.loc[df_graph['nodeId'] == dest[i], 'class'].values[0] == class_dict['Disease']):\n",
    "                chemical_to_disease.append((int(source[i]),int(dest[i])))\n",
    "\n",
    "        elif (df_graph.loc[df_graph['nodeId'] == source[i], 'class'].values[0]== class_dict['Chemical']) and \\\n",
    "            (df_graph.loc[df_graph['nodeId'] == dest[i], 'class'].values[0] == class_dict['Chemical']):\n",
    "                chemical_to_chemical.append((int(source[i]),int(dest[i])))\n",
    "                \n",
    "        elif (df_graph.loc[df_graph['nodeId'] == source[i], 'class'].values[0] == class_dict['Chemical']) and \\\n",
    "            (df_graph.loc[df_graph['nodeId'] == dest[i], 'class'].values[0] == class_dict['Species']):\n",
    "                chemical_to_species.append((int(source[i]),int(dest[i])))\n",
    "\n",
    "        elif (df_graph.loc[df_graph['nodeId'] == source[i], 'class'].values[0] == class_dict['Species']) and \\\n",
    "            (df_graph.loc[df_graph['nodeId'] == dest[i], 'class'].values[0] == class_dict['Gene']):\n",
    "                species_to_gene.append((int(source[i]),int(dest[i])))\n",
    "\n",
    "        elif (df_graph.loc[df_graph['nodeId'] == source[i], 'class'].values[0] == class_dict['Species']) and \\\n",
    "            (df_graph.loc[df_graph['nodeId'] == dest[i], 'class'].values[0] == class_dict['Disease']):\n",
    "                species_to_disease.append((int(source[i]),int(dest[i])))\n",
    "\n",
    "        elif (df_graph.loc[df_graph['nodeId'] == source[i], 'class'].values[0]== class_dict['Species']) and \\\n",
    "            (df_graph.loc[df_graph['nodeId'] == dest[i], 'class'].values[0] == class_dict['Species']):\n",
    "                species_to_species.append((int(source[i]),int(dest[i])))\n",
    "\n",
    "        else:\n",
    "            #The edges not present in the metagraph  \n",
    "            source_node_type = get_node_type(df_graph.loc[df_graph['nodeId'] == source[i], 'class'].values[0])\n",
    "            dest_node_type = get_node_type(df_graph.loc[df_graph['nodeId'] == dest[i], 'class'].values[0])\n",
    "            remaining_edges.append((source_node_type,dest_node_type))\n",
    "            #remaining_edges.append((int(source[i]),int(dest[i])))\n",
    "            \n",
    "    all_edges[node_id] = [*gene_to_gene,*gene_to_disease,*disease_to_disease,*chemical_to_gene,\n",
    "                          *chemical_to_disease,*chemical_to_chemical,*chemical_to_species, *species_to_gene, \n",
    "                          *species_to_disease, *species_to_species]\n",
    "            \n",
    "    disease = list(df_graph[df_graph['class'] == 1]['nodeId'])\n",
    "    disease = [int(i) for i in disease]\n",
    "    disease_nodes_mapping = remap_indices(disease)\n",
    "    \n",
    "    gene = list(df_graph[df_graph['class'] == 0]['nodeId'])\n",
    "    gene = [int(i) for i in gene]\n",
    "    gene_nodes_mapping = remap_indices(gene)\n",
    "    \n",
    "    chemical = list(df_graph[df_graph['class'] == 2]['nodeId'])\n",
    "    chemical = [int(i) for i in chemical]\n",
    "    chemical_nodes_mapping = remap_indices(chemical)\n",
    "    \n",
    "    species = list(df_graph[df_graph['class'] == 3]['nodeId'])\n",
    "    species = [int(i) for i in species]\n",
    "    species_nodes_mapping = remap_indices(species)\n",
    "\n",
    "\n",
    "    node_list = {}\n",
    "    for d in [disease_nodes_mapping, gene_nodes_mapping, chemical_nodes_mapping,species_nodes_mapping]:\n",
    "        node_list.update(d)            \n",
    "\n",
    "    #Create Hetero Data      \n",
    "    small_graph = HeteroData({'disease':{'x': x_disease, 'y':y_disease}, 'gene':{'x': x_gene},\n",
    "                              'chemical':{'x': x_chemical}, 'species':{'x': x_species}})\n",
    "\n",
    "    if gene_to_gene:\n",
    "        edge_index_gene_gene = preprocess_edges(gene_to_gene,node_list)\n",
    "        small_graph['gene','to','gene'].edge_index = edge_index_gene_gene\n",
    "    if gene_to_disease:\n",
    "        edge_index_gene_disease = preprocess_edges(gene_to_disease,node_list)\n",
    "        small_graph['gene','to','disease'].edge_index = edge_index_gene_disease\n",
    "    if disease_to_disease:\n",
    "        edge_index_disease_disease = preprocess_edges(disease_to_disease,node_list)\n",
    "        small_graph['disease','to','disease'].edge_index = edge_index_disease_disease\n",
    "    if chemical_to_gene:\n",
    "        edge_index_chemical_gene = preprocess_edges(chemical_to_gene,node_list)\n",
    "        small_graph['chemical','to','gene'].edge_index = edge_index_chemical_gene\n",
    "    if chemical_to_disease:\n",
    "        edge_index_chemical_disease = preprocess_edges(chemical_to_disease,node_list)\n",
    "        small_graph['chemical','to','disease'].edge_index = edge_index_chemical_disease\n",
    "    if chemical_to_chemical:\n",
    "        edge_index_chemical_chemical = preprocess_edges(chemical_to_chemical,node_list)\n",
    "        small_graph['chemical','to','chemical'].edge_index = edge_index_chemical_chemical\n",
    "    if chemical_to_species:\n",
    "        edge_index_chemical_species = preprocess_edges(chemical_to_species,node_list)\n",
    "        small_graph['chemical','to','species'].edge_index = edge_index_chemical_species\n",
    "    if species_to_gene:\n",
    "        edge_index_species_gene = preprocess_edges(species_to_gene,node_list)\n",
    "        small_graph['species','to','gene'].edge_index = edge_index_species_gene\n",
    "    if species_to_disease:\n",
    "        edge_index_species_disease = preprocess_edges(species_to_disease,node_list)\n",
    "        small_graph['species','to','disease'].edge_index = edge_index_species_disease\n",
    "    if species_to_species:\n",
    "        edge_index_species_species = preprocess_edges(species_to_species,node_list)\n",
    "        small_graph['species','to','species'].edge_index = edge_index_species_species\n",
    "\n",
    "    transform = T.Constant(node_types='conference')\n",
    "    small_graph = transform(small_graph)\n",
    "    \n",
    "    #Removing isolated nodes\n",
    "    transform = T.Compose([T.remove_isolated_nodes.RemoveIsolatedNodes()])\n",
    "    small_graph = transform(small_graph)\n",
    "\n",
    "    #Adding test mask for prediction\n",
    "    transform = T.RandomNodeSplit(split='train_rest', num_val=0.0, num_test=1.0)\n",
    "    small_graph = transform(small_graph)\n",
    "            \n",
    "    return small_graph, remaining_edges"
   ]
  },
  {
   "cell_type": "code",
   "execution_count": 14,
   "id": "973e475f",
   "metadata": {},
   "outputs": [],
   "source": [
    "def evaluate_gnn(small_graph):\n",
    "    with torch.no_grad():\n",
    "        model.eval()\n",
    "        #The pred is not used for accuracy, the softmax is used\n",
    "        pred = model(small_graph.x_dict, small_graph.edge_index_dict).argmax(dim=-1)\n",
    "        \n",
    "        #Getting class prediction probabilities from the softmax layer\n",
    "        softmax = model(small_graph.x_dict, small_graph.edge_index_dict).softmax(dim=-1)\n",
    "        \n",
    "        mask = small_graph['disease'].test_mask\n",
    "        correct = (pred[mask] == small_graph['disease'].y[mask])\n",
    "               \n",
    "        print(small_graph)\n",
    "        print('Prediction:',pred[mask])\n",
    "        print('Ground Truth:',small_graph['disease'].y[mask])\n",
    "        print(correct)\n",
    "        print(softmax)\n",
    "        \n",
    "        correct_indices = [i for i, x in enumerate(correct.tolist()) if x]\n",
    "        print('correct indices',correct_indices)\n",
    "        \n",
    "        #Taking softmax values of the nodes for which prediction is correct\n",
    "        softmax_pred_list = [softmax.tolist()[i] for i in correct_indices]\n",
    "        #print(softmax_pred_list)\n",
    "        print('------------------------------------------------------------------')\n",
    "        \n",
    "        return softmax_pred_list, correct_indices"
   ]
  },
  {
   "cell_type": "code",
   "execution_count": 15,
   "id": "7e90bc75",
   "metadata": {},
   "outputs": [],
   "source": [
    "def get_real_graph(size):\n",
    "    real_graph = nx.Graph()\n",
    "    if(size <= 5):\n",
    "        real_graph = nx.read_gexf(real_graph_path+'real_G5.gexf')\n",
    "    elif(size <= 10):\n",
    "        real_graph = nx.read_gexf(real_graph_path+'real_G10.gexf')\n",
    "    elif(size <= 15):\n",
    "        real_graph = nx.read_gexf(real_graph_path+'real_G15.gexf')\n",
    "    elif(size <= 20):\n",
    "        real_graph = nx.read_gexf(real_graph_path+'real_G20.gexf')\n",
    "    elif(size <= 25):\n",
    "        real_graph = nx.read_gexf(real_graph_path+'real_G25.gexf')\n",
    "    elif(size <= 30):\n",
    "        real_graph = nx.read_gexf(real_graph_path+'real_G30.gexf')\n",
    "    elif(size <= 35):\n",
    "        real_graph = nx.read_gexf(real_graph_path+'real_G35.gexf')\n",
    "\n",
    "\n",
    "    return real_graph"
   ]
  },
  {
   "cell_type": "code",
   "execution_count": 16,
   "id": "c6180c2f-ffc1-471e-9621-1cb7f308d106",
   "metadata": {},
   "outputs": [
    {
     "name": "stdout",
     "output_type": "stream",
     "text": [
      "Original no of graphs: 1184\n"
     ]
    }
   ],
   "source": [
    "print('Original no of graphs:',len([name for name in glob.glob('../syn_vae/pubmed/*')]))"
   ]
  },
  {
   "cell_type": "code",
   "execution_count": 17,
   "id": "7ccf4e52",
   "metadata": {},
   "outputs": [
    {
     "name": "stdout",
     "output_type": "stream",
     "text": [
      "../syn_vae/pubmed/sync357257233514/sync357257233514_G27.gexf\n",
      "node count 19\n",
      "edge count 19\n",
      "Original edge_count 31\n",
      "Removed edge_count 12\n",
      "Removed edges [('disease', 'species'), ('disease', 'gene'), ('disease', 'gene'), ('gene', 'species'), ('gene', 'species'), ('gene', 'chemical'), ('gene', 'species'), ('disease', 'gene'), ('species', 'chemical'), ('disease', 'chemical'), ('disease', 'species'), ('disease', 'chemical')]\n",
      "HeteroData(\n",
      "  disease={\n",
      "    x=[6, 200],\n",
      "    y=[6],\n",
      "    train_mask=[6],\n",
      "    val_mask=[6],\n",
      "    test_mask=[6],\n",
      "  },\n",
      "  gene={ x=[8, 200] },\n",
      "  chemical={ x=[3, 200] },\n",
      "  species={ x=[2, 200] },\n",
      "  (gene, to, gene)={ edge_index=[2, 1] },\n",
      "  (gene, to, disease)={ edge_index=[2, 3] },\n",
      "  (chemical, to, gene)={ edge_index=[2, 5] },\n",
      "  (chemical, to, disease)={ edge_index=[2, 4] },\n",
      "  (chemical, to, chemical)={ edge_index=[2, 1] },\n",
      "  (chemical, to, species)={ edge_index=[2, 2] },\n",
      "  (species, to, gene)={ edge_index=[2, 2] },\n",
      "  (species, to, species)={ edge_index=[2, 1] }\n",
      ")\n",
      "Prediction: tensor([3, 1, 5, 1, 1, 0])\n",
      "Ground Truth: tensor([6, 6, 6, 6, 6, 6])\n",
      "tensor([False, False, False, False, False, False])\n",
      "tensor([[8.6373e-03, 2.5919e-01, 5.4106e-03, 6.1266e-01, 1.1672e-02, 9.6607e-02,\n",
      "         5.6835e-03, 1.4307e-04],\n",
      "        [1.9566e-04, 8.7287e-01, 2.2984e-03, 1.2041e-01, 8.9218e-04, 1.7820e-03,\n",
      "         1.5488e-03, 3.6910e-06],\n",
      "        [2.0972e-01, 6.8387e-05, 6.0206e-05, 7.2091e-03, 1.0071e-05, 7.8255e-01,\n",
      "         1.5940e-04, 2.2302e-04],\n",
      "        [1.1821e-03, 8.9106e-01, 6.4772e-02, 2.0695e-02, 7.6052e-03, 6.9407e-04,\n",
      "         1.3908e-02, 8.4779e-05],\n",
      "        [2.9191e-04, 5.4458e-01, 2.2846e-04, 4.2420e-01, 3.3544e-04, 2.9251e-02,\n",
      "         1.1139e-03, 1.1080e-06],\n",
      "        [3.5464e-01, 5.4449e-03, 5.9943e-02, 1.0489e-02, 5.7341e-02, 1.0965e-01,\n",
      "         9.1013e-02, 3.1147e-01]])\n",
      "correct indices []\n",
      "------------------------------------------------------------------\n",
      "../syn_vae/pubmed/sync446174233453/sync446174233453_G27.gexf\n",
      "node count 23\n",
      "edge count 27\n",
      "Original edge_count 32\n",
      "Removed edge_count 5\n",
      "Removed edges [('disease', 'species'), ('disease', 'gene'), ('disease', 'gene'), ('disease', 'gene'), ('gene', 'chemical')]\n",
      "HeteroData(\n",
      "  disease={\n",
      "    x=[8, 200],\n",
      "    y=[8],\n",
      "    train_mask=[8],\n",
      "    val_mask=[8],\n",
      "    test_mask=[8],\n",
      "  },\n",
      "  gene={ x=[9, 200] },\n",
      "  chemical={ x=[3, 200] },\n",
      "  species={ x=[3, 200] },\n",
      "  (gene, to, gene)={ edge_index=[2, 8] },\n",
      "  (gene, to, disease)={ edge_index=[2, 3] },\n",
      "  (disease, to, disease)={ edge_index=[2, 2] },\n",
      "  (chemical, to, gene)={ edge_index=[2, 3] },\n",
      "  (chemical, to, disease)={ edge_index=[2, 3] },\n",
      "  (chemical, to, chemical)={ edge_index=[2, 2] },\n",
      "  (chemical, to, species)={ edge_index=[2, 2] },\n",
      "  (species, to, gene)={ edge_index=[2, 3] },\n",
      "  (species, to, disease)={ edge_index=[2, 1] }\n",
      ")\n",
      "Prediction: tensor([2, 0, 7, 0, 1, 5, 1, 5])\n",
      "Ground Truth: tensor([6, 6, 6, 6, 6, 6, 6, 6])\n",
      "tensor([False, False, False, False, False, False, False, False])\n",
      "tensor([[3.0912e-03, 3.3428e-02, 9.2922e-01, 2.5072e-02, 2.6210e-03, 4.7141e-04,\n",
      "         5.9898e-03, 1.1102e-04],\n",
      "        [9.6596e-01, 3.1480e-03, 9.8086e-03, 1.4689e-03, 9.9354e-03, 6.7560e-03,\n",
      "         1.0559e-03, 1.8663e-03],\n",
      "        [2.4252e-04, 1.4668e-07, 9.3446e-08, 5.0556e-07, 4.6271e-06, 2.2426e-01,\n",
      "         1.7106e-03, 7.7378e-01],\n",
      "        [9.9985e-01, 3.3756e-05, 7.8442e-05, 2.8759e-07, 1.9208e-05, 1.4424e-05,\n",
      "         1.9486e-06, 7.0227e-07],\n",
      "        [2.2705e-03, 8.2302e-01, 1.2639e-03, 1.4647e-01, 1.4069e-03, 2.4654e-02,\n",
      "         9.0972e-04, 6.8789e-06],\n",
      "        [1.3789e-02, 4.4929e-03, 6.4988e-03, 1.0883e-01, 9.6619e-03, 4.6688e-01,\n",
      "         2.6577e-01, 1.2407e-01],\n",
      "        [1.7151e-02, 5.5815e-01, 8.7940e-03, 1.0417e-01, 1.2234e-02, 1.4019e-01,\n",
      "         4.8694e-02, 1.1061e-01],\n",
      "        [3.3425e-03, 2.7848e-01, 8.6867e-04, 7.0810e-02, 1.0058e-02, 5.1528e-01,\n",
      "         1.1700e-01, 4.1654e-03]])\n",
      "correct indices []\n",
      "------------------------------------------------------------------\n",
      "../syn_vae/pubmed/sync469946233449/sync469946233449_G26.gexf\n",
      "node count 19\n",
      "edge count 20\n",
      "Original edge_count 30\n",
      "Removed edge_count 10\n",
      "Removed edges [('gene', 'species'), ('disease', 'gene'), ('disease', 'gene'), ('disease', 'chemical'), ('disease', 'gene'), ('disease', 'chemical'), ('gene', 'chemical'), ('disease', 'gene'), ('gene', 'chemical'), ('gene', 'species')]\n",
      "HeteroData(\n",
      "  disease={\n",
      "    x=[7, 200],\n",
      "    y=[7],\n",
      "    train_mask=[7],\n",
      "    val_mask=[7],\n",
      "    test_mask=[7],\n",
      "  },\n",
      "  gene={ x=[6, 200] },\n",
      "  chemical={ x=[3, 200] },\n",
      "  species={ x=[3, 200] },\n",
      "  (gene, to, gene)={ edge_index=[2, 2] },\n",
      "  (gene, to, disease)={ edge_index=[2, 1] },\n",
      "  (disease, to, disease)={ edge_index=[2, 1] },\n",
      "  (chemical, to, gene)={ edge_index=[2, 4] },\n",
      "  (chemical, to, disease)={ edge_index=[2, 3] },\n",
      "  (chemical, to, chemical)={ edge_index=[2, 2] },\n",
      "  (chemical, to, species)={ edge_index=[2, 1] },\n",
      "  (species, to, gene)={ edge_index=[2, 1] },\n",
      "  (species, to, disease)={ edge_index=[2, 3] },\n",
      "  (species, to, species)={ edge_index=[2, 2] }\n",
      ")\n",
      "Prediction: tensor([5, 0, 5, 2, 5, 1, 6])\n",
      "Ground Truth: tensor([6, 6, 6, 6, 6, 6, 6])\n",
      "tensor([False, False, False, False, False, False,  True])\n",
      "tensor([[4.3445e-03, 9.0084e-03, 2.6380e-04, 2.2607e-01, 6.2067e-04, 7.5687e-01,\n",
      "         2.7597e-03, 6.1680e-05],\n",
      "        [9.9995e-01, 4.1450e-06, 4.1343e-06, 4.4353e-08, 2.3656e-05, 1.7856e-05,\n",
      "         1.0881e-06, 2.6091e-06],\n",
      "        [2.5348e-03, 1.6287e-05, 5.0488e-07, 2.3900e-03, 1.7464e-06, 9.9502e-01,\n",
      "         2.3182e-05, 1.0547e-05],\n",
      "        [2.9756e-02, 2.3590e-01, 6.6349e-01, 5.1972e-02, 1.0541e-02, 1.4110e-03,\n",
      "         6.6669e-03, 2.6246e-04],\n",
      "        [8.9848e-04, 5.4854e-06, 2.3215e-06, 1.9803e-05, 4.5037e-05, 8.6744e-01,\n",
      "         8.7530e-03, 1.2284e-01],\n",
      "        [6.4044e-03, 8.9098e-01, 1.2155e-02, 2.0296e-02, 3.6978e-02, 6.9676e-03,\n",
      "         1.8137e-02, 8.0789e-03],\n",
      "        [4.3736e-03, 3.4043e-02, 8.6043e-03, 3.8970e-02, 2.9255e-02, 6.6674e-02,\n",
      "         8.1215e-01, 5.9268e-03]])\n",
      "correct indices [6]\n",
      "------------------------------------------------------------------\n",
      "../syn_vae/pubmed/sync660022233518/sync660022233518_G27.gexf\n",
      "node count 21\n",
      "edge count 22\n",
      "Original edge_count 31\n",
      "Removed edge_count 9\n",
      "Removed edges [('species', 'chemical'), ('disease', 'chemical'), ('disease', 'gene'), ('disease', 'species'), ('disease', 'gene'), ('gene', 'chemical'), ('gene', 'chemical'), ('disease', 'gene'), ('disease', 'gene')]\n",
      "HeteroData(\n",
      "  disease={\n",
      "    x=[5, 200],\n",
      "    y=[5],\n",
      "    train_mask=[5],\n",
      "    val_mask=[5],\n",
      "    test_mask=[5],\n",
      "  },\n",
      "  gene={ x=[11, 200] },\n",
      "  chemical={ x=[3, 200] },\n",
      "  species={ x=[2, 200] },\n",
      "  (gene, to, gene)={ edge_index=[2, 7] },\n",
      "  (gene, to, disease)={ edge_index=[2, 3] },\n",
      "  (disease, to, disease)={ edge_index=[2, 2] },\n",
      "  (chemical, to, gene)={ edge_index=[2, 3] },\n",
      "  (chemical, to, disease)={ edge_index=[2, 2] },\n",
      "  (chemical, to, chemical)={ edge_index=[2, 1] },\n",
      "  (chemical, to, species)={ edge_index=[2, 2] },\n",
      "  (species, to, gene)={ edge_index=[2, 2] }\n",
      ")\n",
      "Prediction: tensor([5, 6, 6, 4, 1])\n",
      "Ground Truth: tensor([6, 6, 6, 6, 6])\n",
      "tensor([False,  True,  True, False, False])\n",
      "tensor([[1.9448e-04, 2.9113e-05, 1.1893e-07, 3.7712e-04, 9.2816e-07, 9.9927e-01,\n",
      "         1.2760e-04, 1.1305e-06],\n",
      "        [1.0177e-04, 6.5665e-04, 3.7815e-04, 5.1512e-03, 3.5225e-04, 9.1489e-02,\n",
      "         6.3161e-01, 2.7026e-01],\n",
      "        [3.0622e-05, 9.1255e-06, 1.2621e-05, 2.9529e-06, 5.3394e-04, 3.5298e-03,\n",
      "         6.3737e-01, 3.5851e-01],\n",
      "        [6.8141e-02, 1.1594e-02, 1.1352e-03, 1.4799e-03, 8.8510e-01, 1.4158e-02,\n",
      "         8.8040e-03, 9.5855e-03],\n",
      "        [1.4817e-01, 8.1079e-01, 2.6123e-03, 7.5132e-03, 1.6695e-02, 1.2047e-02,\n",
      "         2.0799e-03, 8.7527e-05]])\n",
      "correct indices [1, 2]\n",
      "------------------------------------------------------------------\n",
      "../syn_vae/pubmed/sync719797233518/sync719797233518_G27.gexf\n",
      "node count 23\n",
      "edge count 25\n",
      "Original edge_count 31\n",
      "Removed edge_count 6\n",
      "Removed edges [('gene', 'chemical'), ('disease', 'chemical'), ('species', 'chemical'), ('species', 'chemical'), ('gene', 'chemical'), ('gene', 'chemical')]\n",
      "HeteroData(\n",
      "  disease={\n",
      "    x=[6, 200],\n",
      "    y=[6],\n",
      "    train_mask=[6],\n",
      "    val_mask=[6],\n",
      "    test_mask=[6],\n",
      "  },\n",
      "  gene={ x=[7, 200] },\n",
      "  chemical={ x=[5, 200] },\n",
      "  species={ x=[5, 200] },\n",
      "  (gene, to, gene)={ edge_index=[2, 4] },\n",
      "  (gene, to, disease)={ edge_index=[2, 2] },\n",
      "  (chemical, to, gene)={ edge_index=[2, 3] },\n",
      "  (chemical, to, disease)={ edge_index=[2, 4] },\n",
      "  (chemical, to, chemical)={ edge_index=[2, 4] },\n",
      "  (chemical, to, species)={ edge_index=[2, 4] },\n",
      "  (species, to, gene)={ edge_index=[2, 2] },\n",
      "  (species, to, disease)={ edge_index=[2, 1] },\n",
      "  (species, to, species)={ edge_index=[2, 1] }\n",
      ")\n",
      "Prediction: tensor([6, 5, 2, 5, 1, 6])\n",
      "Ground Truth: tensor([6, 6, 6, 6, 6, 6])\n",
      "tensor([ True, False, False, False, False,  True])\n",
      "tensor([[1.0831e-02, 2.4989e-01, 4.3874e-03, 5.9910e-02, 1.7058e-01, 1.5304e-01,\n",
      "         3.3356e-01, 1.7809e-02],\n",
      "        [5.7172e-04, 2.2213e-04, 1.2245e-04, 7.8907e-03, 4.1664e-04, 9.4702e-01,\n",
      "         3.3895e-02, 9.8611e-03],\n",
      "        [2.9674e-02, 2.6610e-02, 4.5195e-01, 7.9726e-02, 7.7473e-02, 2.1572e-02,\n",
      "         2.7963e-01, 3.3368e-02],\n",
      "        [1.3758e-02, 4.9213e-02, 2.3982e-02, 3.1613e-01, 9.3754e-03, 3.5567e-01,\n",
      "         1.8264e-01, 4.9228e-02],\n",
      "        [8.0974e-04, 8.7802e-01, 1.4640e-02, 2.7289e-02, 6.8023e-02, 1.0460e-03,\n",
      "         7.9802e-03, 2.1963e-03],\n",
      "        [1.6444e-03, 7.4573e-03, 1.8005e-03, 2.3422e-03, 3.6063e-01, 9.5862e-03,\n",
      "         5.9457e-01, 2.1970e-02]])\n",
      "correct indices [0, 5]\n",
      "------------------------------------------------------------------\n",
      "../syn_vae/pubmed/sync893086233433/sync893086233433_G27.gexf\n",
      "node count 24\n",
      "edge count 26\n",
      "Original edge_count 31\n",
      "Removed edge_count 5\n",
      "Removed edges [('gene', 'chemical'), ('gene', 'chemical'), ('disease', 'species'), ('disease', 'gene'), ('disease', 'gene')]\n",
      "HeteroData(\n",
      "  disease={\n",
      "    x=[8, 200],\n",
      "    y=[8],\n",
      "    train_mask=[8],\n",
      "    val_mask=[8],\n",
      "    test_mask=[8],\n",
      "  },\n",
      "  gene={ x=[7, 200] },\n",
      "  chemical={ x=[6, 200] },\n",
      "  species={ x=[3, 200] },\n",
      "  (gene, to, gene)={ edge_index=[2, 2] },\n",
      "  (gene, to, disease)={ edge_index=[2, 2] },\n",
      "  (disease, to, disease)={ edge_index=[2, 3] },\n",
      "  (chemical, to, gene)={ edge_index=[2, 5] },\n",
      "  (chemical, to, disease)={ edge_index=[2, 6] },\n",
      "  (chemical, to, chemical)={ edge_index=[2, 5] },\n",
      "  (chemical, to, species)={ edge_index=[2, 2] },\n",
      "  (species, to, gene)={ edge_index=[2, 1] }\n",
      ")\n",
      "Prediction: tensor([0, 1, 5, 1, 1, 6, 5, 1])\n",
      "Ground Truth: tensor([6, 6, 6, 6, 6, 6, 6, 6])\n",
      "tensor([False, False, False, False, False,  True, False, False])\n",
      "tensor([[6.0607e-01, 2.0054e-01, 2.3114e-02, 1.7928e-02, 2.4271e-02, 1.1450e-01,\n",
      "         1.1809e-02, 1.7656e-03],\n",
      "        [8.9054e-03, 5.5498e-01, 2.3479e-03, 2.2419e-01, 1.6615e-02, 1.7343e-01,\n",
      "         1.8293e-02, 1.2368e-03],\n",
      "        [3.7717e-01, 2.3139e-05, 9.1817e-06, 1.0306e-04, 2.3713e-05, 6.2064e-01,\n",
      "         4.0623e-04, 1.6280e-03],\n",
      "        [1.6904e-02, 4.8327e-01, 4.6234e-01, 2.4737e-02, 7.5362e-03, 1.1436e-03,\n",
      "         3.9381e-03, 1.3642e-04],\n",
      "        [3.4899e-03, 9.6099e-01, 3.0099e-02, 2.0833e-03, 2.0323e-03, 1.6353e-04,\n",
      "         1.1273e-03, 1.0635e-05],\n",
      "        [3.7601e-05, 2.1737e-04, 3.6025e-04, 1.5286e-04, 6.3562e-04, 2.7111e-03,\n",
      "         9.9420e-01, 1.6894e-03],\n",
      "        [1.5125e-02, 1.3130e-04, 2.4117e-05, 4.6439e-04, 4.8540e-04, 9.6975e-01,\n",
      "         2.8164e-03, 1.1206e-02],\n",
      "        [7.6389e-05, 9.8815e-01, 3.1245e-04, 1.6597e-03, 9.1438e-03, 1.4064e-04,\n",
      "         4.9617e-04, 1.8287e-05]])\n",
      "correct indices [5]\n",
      "------------------------------------------------------------------\n"
     ]
    }
   ],
   "source": [
    "softmax_dict = {}\n",
    "nodefeature_dict = {}\n",
    "graph_dict = {}\n",
    "original_edge_count = []\n",
    "removed_edge_count = []\n",
    "removed_edges_list = []\n",
    "rootdir = '../syn_vae/pubmed/'\n",
    "\n",
    "real_graph_path = '../real_graphs/pubmed/'\n",
    "dir_list = []\n",
    "for subdir, dirs,files in os.walk(rootdir):\n",
    "    \n",
    "    if files:\n",
    "        graph_path = os.path.join(subdir, files[0])\n",
    "        class_path = os.path.join(subdir, files[1])       \n",
    "        feature_path = os.path.join(subdir, files[2])\n",
    "\n",
    "        graph = nx.read_gexf(graph_path)\n",
    "        filename = os.path.basename(graph_path)\n",
    "        graph_id= filename.split('.')[0]\n",
    "            #print(graph_id)\n",
    "\n",
    "        nodeId_list = []\n",
    "\n",
    "        for key, value in graph.nodes(data=True):\n",
    "            nodeId_list.append(key)\n",
    "            edges = [e for e in graph.edges]\n",
    "\n",
    "        node_type_list = torch.load(class_path).detach().numpy()\n",
    "\n",
    "        df_graph = pd.DataFrame()\n",
    "        df_graph[\"nodeId\"] = nodeId_list\n",
    "        df_graph[\"class\"] = node_type_list\n",
    "\n",
    "\n",
    "        df_feature = pd.DataFrame(torch.load(feature_path).detach().numpy())        \n",
    "        df_feature[\"class\"] = node_type_list\n",
    "    \n",
    "        real_graph = get_real_graph(len(nodeId_list))\n",
    "\n",
    "        node_label_list = []\n",
    "\n",
    "        if not (nx.get_node_attributes(real_graph, \"class\") is None):\n",
    "            node_class = nx.get_node_attributes(real_graph, \"class\")\n",
    "            node_label_list.append(node_class.get('1'))\n",
    "\n",
    "        disease_node_features = df_feature[df_feature['class'] == 1].drop(['class'], axis = 1)\n",
    "\n",
    "        if not (None in node_label_list):\n",
    "                \n",
    "            labels = []\n",
    "            unique_labels = list(set(node_label_list))\n",
    "                \n",
    "            for i in range(0,len(disease_node_features)):\n",
    "                labels.append(random.choice(unique_labels))\n",
    "\n",
    "            disease_node_features['class']= labels\n",
    "\n",
    "            gene_node_features = df_feature[df_feature['class'] == 0].drop(['class'], axis = 1)\n",
    "            chemical_node_features = df_feature[df_feature['class'] == 2].drop(['class'], axis = 1)\n",
    "            species_node_features = df_feature[df_feature['class'] == 3].drop(['class'], axis = 1)\n",
    "\n",
    "\n",
    "\n",
    "            small_graph_data, removed_edges = create_dataset(nodeId_list,edges,\n",
    "                                      disease_node_features,gene_node_features,\n",
    "                                      chemical_node_features,species_node_features,graph_id,df_graph)\n",
    "\n",
    "            edge_list = all_edges[graph_id]\n",
    "            graph = nx.Graph(edge_list)\n",
    "            if not nx.is_empty(graph) and nx.is_connected(graph):\n",
    "\n",
    "\n",
    "                if (small_graph_data['disease'].x.nelement()!=0) and \\\n",
    "                (small_graph_data['chemical','to','chemical']) and \\\n",
    "                (small_graph_data['chemical','to','gene']) and \\\n",
    "                (small_graph_data['chemical','to','species']) and \\\n",
    "                (small_graph_data['gene','to','disease']) and \\\n",
    "                (small_graph_data['gene','to','gene']):\n",
    "                    print(graph_path)\n",
    "                    print('node count',small_graph_data.num_nodes)\n",
    "                    print('edge count',small_graph_data.num_edges)\n",
    "        \n",
    "                    original_edge_count.append(len(edges))\n",
    "                    removed_edge_count.append(len(removed_edges))\n",
    "                    removed_edges_list.append(set(removed_edges))\n",
    "                    print('Original edge_count',len(edges))\n",
    "                    print('Removed edge_count',len(removed_edges))\n",
    "                    print('Removed edges',removed_edges)\n",
    "                    \n",
    "                    softmax, correct_indices = evaluate_gnn(small_graph_data)\n",
    "                    softmax_dict[graph_id] = softmax\n",
    "                    nodefeature_dict[graph_id]={'gene':small_graph_data['gene'].x,\n",
    "                                                 'disease':small_graph_data['disease'].x[correct_indices],\n",
    "                                                 'chemical':small_graph_data['chemical'].x,\n",
    "                                                  'species':small_graph_data['species'].x}\n",
    "                    graph_dict[graph_id]=df_graph\n",
    "\n",
    "        \n",
    "        "
   ]
  },
  {
   "cell_type": "code",
   "execution_count": 18,
   "id": "63fa5721",
   "metadata": {},
   "outputs": [
    {
     "name": "stdout",
     "output_type": "stream",
     "text": [
      "No. of graphs evaluated:  6\n"
     ]
    }
   ],
   "source": [
    "print(\"No. of graphs evaluated: \",len(softmax_dict))"
   ]
  },
  {
   "cell_type": "code",
   "execution_count": 19,
   "id": "900c1c2e-baed-4fb3-8f76-4c1a867ce628",
   "metadata": {},
   "outputs": [
    {
     "name": "stdout",
     "output_type": "stream",
     "text": [
      "Average number of original edges 31\n"
     ]
    }
   ],
   "source": [
    "print('Average number of original edges',round(np.mean(original_edge_count)))"
   ]
  },
  {
   "cell_type": "code",
   "execution_count": 20,
   "id": "1b3e6f4e-6705-4e87-95ad-8cea96d4f5b4",
   "metadata": {},
   "outputs": [
    {
     "name": "stdout",
     "output_type": "stream",
     "text": [
      "Average number of edges removed 8\n"
     ]
    }
   ],
   "source": [
    "print('Average number of edges removed',round(np.mean(removed_edge_count)))"
   ]
  },
  {
   "cell_type": "code",
   "execution_count": 21,
   "id": "ed5ecda6-a00e-441b-b744-48bb87b265e4",
   "metadata": {},
   "outputs": [
    {
     "name": "stdout",
     "output_type": "stream",
     "text": [
      "Edges removed {('species', 'chemical'), ('disease', 'chemical'), ('disease', 'species'), ('disease', 'gene'), ('gene', 'species'), ('gene', 'chemical')}\n"
     ]
    }
   ],
   "source": [
    "#The edges that are removed across all graphs\n",
    "print('Edges removed', set.union(*removed_edges_list))"
   ]
  },
  {
   "cell_type": "code",
   "execution_count": 22,
   "id": "cfbaf181",
   "metadata": {},
   "outputs": [],
   "source": [
    "#Getting the list of predictions for each class\n",
    "prob_class6_dict = {}\n",
    "for nodeid in softmax_dict:\n",
    "    list6= []\n",
    "    if len(softmax_dict[nodeid]) > 0:\n",
    "        list6= []\n",
    "\n",
    "        for prob in softmax_dict[nodeid]:        \n",
    "            list6.append(prob[6])\n",
    "\n",
    "\n",
    "     #Taking max probability of all nodes of each class in a graph\n",
    "\n",
    "    if len(list6) != 0:\n",
    "        prob_class6_dict[nodeid]=max(list6)\n"
   ]
  },
  {
   "cell_type": "code",
   "execution_count": 23,
   "id": "8ec88a5c",
   "metadata": {},
   "outputs": [
    {
     "name": "stdout",
     "output_type": "stream",
     "text": [
      "sync893086233433_G27\n"
     ]
    }
   ],
   "source": [
    "if prob_class6_dict:\n",
    "    max_pred6 = max(prob_class6_dict.values())\n",
    "    class6_graphid = max(prob_class6_dict, key=prob_class6_dict.get)\n",
    "    print(class6_graphid)\n",
    "else:\n",
    "    print('No graphs are predicted correctly. Retrain the model.')"
   ]
  },
  {
   "cell_type": "code",
   "execution_count": 24,
   "id": "ddd82fbf-6781-47f5-a5a9-cd18ce7234b4",
   "metadata": {},
   "outputs": [
    {
     "data": {
      "text/plain": [
       "{'sync469946233449_G26': 0.8121525049209595,\n",
       " 'sync660022233518_G27': 0.6373708844184875,\n",
       " 'sync719797233518_G27': 0.5945659875869751,\n",
       " 'sync893086233433_G27': 0.9941957592964172}"
      ]
     },
     "execution_count": 24,
     "metadata": {},
     "output_type": "execute_result"
    }
   ],
   "source": [
    "prob_class6_dict"
   ]
  },
  {
   "cell_type": "code",
   "execution_count": 25,
   "id": "6eda8ada",
   "metadata": {},
   "outputs": [],
   "source": [
    "def plot_graph(graphid, max_pred,nodetype,edges,graph):\n",
    "\n",
    "    classes = []\n",
    "    G = nx.Graph(edges)\n",
    "    df_graph = graph_dict[graphid]\n",
    "    for g in G.nodes():\n",
    "        #print(g)\n",
    "        #print(df_graph.loc[g]['class'])\n",
    "        if df_graph.loc[df_graph['nodeId'] == str(g), 'class'].values[0] == 0:\n",
    "            classes.append(0)\n",
    "        if df_graph.loc[df_graph['nodeId'] == str(g), 'class'].values[0] == 1:\n",
    "            classes.append(1)\n",
    "        if df_graph.loc[df_graph['nodeId'] == str(g), 'class'].values[0]== 2:\n",
    "            classes.append(2)\n",
    "        if df_graph.loc[df_graph['nodeId'] == str(g), 'class'].values[0] == 3:\n",
    "            classes.append(3)\n",
    "   \n",
    "    \n",
    "    color_class_map = {0: 'blue', 1: 'red', 2: 'darkgreen', 3: 'orange'}\n",
    "    \n",
    "    nx.set_node_attributes(G, dict(zip(G.nodes(), classes)), 'class')\n",
    "    \n",
    "    print('Number of nodes: ',G.number_of_nodes())\n",
    "    print('graph id: ',graphid)\n",
    "    print(f'Max pred probability for class {nodetype} is {max_pred}')\n",
    "\n",
    "    nx.draw(G, \n",
    "    with_labels=False, node_color=[color_class_map[node[1]['class']] \n",
    "                        for node in G.nodes(data=True)], \n",
    "            node_size=100,\n",
    "        font_color='black')\n",
    "    plt.show()"
   ]
  },
  {
   "cell_type": "markdown",
   "id": "50a4c86e",
   "metadata": {},
   "source": [
    "Plotting explanation graph with node features for each class of Disease node\n",
    "\n",
    "Node colors:\n",
    "\n",
    "Gene - Blue\n",
    "\n",
    "Disease - Red\n",
    "\n",
    "Chemical - Darkgreen\n",
    "\n",
    "Species - Orange"
   ]
  },
  {
   "cell_type": "code",
   "execution_count": 26,
   "id": "64c1bde9",
   "metadata": {},
   "outputs": [
    {
     "name": "stdout",
     "output_type": "stream",
     "text": [
      "Number of nodes:  24\n",
      "graph id:  sync893086233433_G27\n",
      "Max pred probability for class 6 is 0.9941957592964172\n"
     ]
    },
    {
     "data": {
      "image/png": "[encoded data removed]",
      "text/plain": [
       "<Figure size 640x480 with 1 Axes>"
      ]
     },
     "metadata": {},
     "output_type": "display_data"
    }
   ],
   "source": [
    "explanation_graph6 = plot_graph(class6_graphid, max_pred6, 6, all_edges[class6_graphid],graph_dict[class6_graphid])"
   ]
  },
  {
   "cell_type": "code",
   "execution_count": 27,
   "id": "8b0b3c8e",
   "metadata": {},
   "outputs": [],
   "source": [
    "def print_stat_cont_features(df):\n",
    "    #print('summary',df.describe())\n",
    "    print('mean',df.stack().mean())\n",
    "    print('std dev',df.stack().std())"
   ]
  },
  {
   "cell_type": "code",
   "execution_count": 28,
   "id": "0374bd4a-c27c-42ac-a24c-60cc300d8fff",
   "metadata": {},
   "outputs": [],
   "source": [
    "def index_2d(prob_list, v):\n",
    "    for i, x in enumerate(prob_list):\n",
    "        if v in x:\n",
    "            return (i, x.index(v))"
   ]
  },
  {
   "cell_type": "code",
   "execution_count": 29,
   "id": "bd3a8ddf",
   "metadata": {},
   "outputs": [],
   "source": [
    "def plot_node_feat(imp_feat):\n",
    "\n",
    "    sns.distplot(imp_feat,color= 'orange',hist= False)\n",
    "    plt.xticks(fontsize=20)\n",
    "    plt.yticks(fontsize=20)\n",
    "    plt.xlabel('Feature values',fontsize=20)\n",
    "    plt.ylabel('Density',fontsize=20)\n",
    "\n",
    "    plt.show() "
   ]
  },
  {
   "cell_type": "code",
   "execution_count": 57,
   "id": "d46fd750-ce06-4853-94e0-c645fcbc4606",
   "metadata": {},
   "outputs": [
    {
     "data": {
      "text/plain": [
       "Text(0, 0.5, 'Density')"
      ]
     },
     "execution_count": 57,
     "metadata": {},
     "output_type": "execute_result"
    },
    {
     "data": {
      "image/png": "[encoded data removed]",
      "text/plain": [
       "<Figure size 740x480 with 1 Axes>"
      ]
     },
     "metadata": {},
     "output_type": "display_data"
    }
   ],
   "source": [
    "ind = index_2d(softmax_dict[class6_graphid], max_pred6)[0]\n",
    "disease6_df = pd.DataFrame(nodefeature_dict[class6_graphid]['disease'].numpy()[ind])\n",
    "#plot_node_feat(disease6_df)\n",
    "fig, ax = plt.subplots(figsize=(7.4,4.8))\n",
    "#ax.set_aspect('equal', 'datalim')\n",
    "sns.distplot(disease6_df,color= 'orange',hist= False)\n",
    "plt.xticks(fontsize=20)\n",
    "plt.yticks(fontsize=20)\n",
    "plt.xlabel('Feature values',fontsize=20)\n",
    "plt.ylabel('Density',fontsize=20)"
   ]
  },
  {
   "cell_type": "code",
   "execution_count": 49,
   "id": "ecd15c9d-8cbf-4862-8d4c-5d54c6d58607",
   "metadata": {},
   "outputs": [
    {
     "name": "stdout",
     "output_type": "stream",
     "text": [
      "mean 0.0032523447\n",
      "std dev 0.10367252\n"
     ]
    }
   ],
   "source": [
    "print_stat_cont_features(disease6_df)"
   ]
  },
  {
   "cell_type": "code",
   "execution_count": 50,
   "id": "d47899a0",
   "metadata": {},
   "outputs": [
    {
     "name": "stdout",
     "output_type": "stream",
     "text": [
      "mean 0.0032001908\n",
      "std dev 0.102165826\n"
     ]
    }
   ],
   "source": [
    "gene6_df = pd.DataFrame(nodefeature_dict[class6_graphid]['gene'].numpy())\n",
    "print_stat_cont_features(gene6_df)"
   ]
  },
  {
   "cell_type": "code",
   "execution_count": 56,
   "id": "f5dba6c7",
   "metadata": {},
   "outputs": [
    {
     "data": {
      "text/plain": [
       "Text(0, 0.5, 'Density')"
      ]
     },
     "execution_count": 56,
     "metadata": {},
     "output_type": "execute_result"
    },
    {
     "data": {
      "image/png": "[encoded data removed]",
      "text/plain": [
       "<Figure size 740x480 with 1 Axes>"
      ]
     },
     "metadata": {},
     "output_type": "display_data"
    }
   ],
   "source": [
    "#plot_node_feat(gene6_df)\n",
    "fig, ax = plt.subplots(figsize=(7.4,4.8))\n",
    "#ax.set_aspect('equal', 'datalim')\n",
    "sns.distplot(gene6_df,color= 'orange',hist= False)\n",
    "plt.xticks(fontsize=20)\n",
    "plt.yticks(fontsize=20)\n",
    "plt.xlabel('Feature values',fontsize=20)\n",
    "plt.ylabel('Density',fontsize=20)"
   ]
  },
  {
   "cell_type": "code",
   "execution_count": 34,
   "id": "f53d838e",
   "metadata": {},
   "outputs": [
    {
     "name": "stdout",
     "output_type": "stream",
     "text": [
      "mean 0.0007784468\n",
      "std dev 0.103503324\n"
     ]
    }
   ],
   "source": [
    "chemical6_df = pd.DataFrame(nodefeature_dict[class6_graphid]['chemical'].numpy())\n",
    "print_stat_cont_features(chemical6_df)"
   ]
  },
  {
   "cell_type": "code",
   "execution_count": 55,
   "id": "d5668701",
   "metadata": {},
   "outputs": [
    {
     "data": {
      "text/plain": [
       "Text(0, 0.5, 'Density')"
      ]
     },
     "execution_count": 55,
     "metadata": {},
     "output_type": "execute_result"
    },
    {
     "data": {
      "image/png": "[encoded data removed]",
      "text/plain": [
       "<Figure size 740x480 with 1 Axes>"
      ]
     },
     "metadata": {},
     "output_type": "display_data"
    }
   ],
   "source": [
    "#plot_node_feat(chemical6_df)\n",
    "fig, ax = plt.subplots(figsize=(7.4,4.8))\n",
    "#ax.set_aspect('equal', 'datalim')\n",
    "sns.distplot(chemical6_df,color= 'orange',hist= False)\n",
    "plt.xticks(fontsize=20)\n",
    "plt.yticks(fontsize=20)\n",
    "plt.xlabel('Feature values',fontsize=20)\n",
    "plt.ylabel('Density',fontsize=20)"
   ]
  },
  {
   "cell_type": "code",
   "execution_count": 46,
   "id": "9c672dee",
   "metadata": {},
   "outputs": [
    {
     "name": "stdout",
     "output_type": "stream",
     "text": [
      "mean -0.0030897367\n",
      "std dev 0.09857086\n"
     ]
    }
   ],
   "source": [
    "species6_df = pd.DataFrame(nodefeature_dict[class6_graphid]['species'].numpy())\n",
    "print_stat_cont_features(species6_df)"
   ]
  },
  {
   "cell_type": "code",
   "execution_count": 54,
   "id": "26ed9873",
   "metadata": {},
   "outputs": [
    {
     "data": {
      "text/plain": [
       "Text(0, 0.5, 'Density')"
      ]
     },
     "execution_count": 54,
     "metadata": {},
     "output_type": "execute_result"
    },
    {
     "data": {
      "image/png": "[encoded data removed]",
      "text/plain": [
       "<Figure size 740x480 with 1 Axes>"
      ]
     },
     "metadata": {},
     "output_type": "display_data"
    }
   ],
   "source": [
    "#plot_node_feat(species6_df)\n",
    "fig, ax = plt.subplots(figsize=(7.4,4.8))\n",
    "#ax.set_aspect('equal', 'datalim')\n",
    "sns.distplot(species6_df,color= 'orange',hist= False)\n",
    "plt.xticks(fontsize=20)\n",
    "plt.yticks(fontsize=20)\n",
    "plt.xlabel('Feature values',fontsize=20)\n",
    "plt.ylabel('Density',fontsize=20)"
   ]
  },
  {
   "cell_type": "code",
   "execution_count": null,
   "id": "6a945ed4",
   "metadata": {},
   "outputs": [],
   "source": []
  },
  {
   "cell_type": "code",
   "execution_count": null,
   "id": "d263e97d-2832-472d-87aa-7d0b531890ad",
   "metadata": {},
   "outputs": [],
   "source": []
  }
 ],
 "metadata": {
  "kernelspec": {
   "display_name": "Python 3 (ipykernel)",
   "language": "python",
   "name": "python3"
  },
  "language_info": {
   "codemirror_mode": {
    "name": "ipython",
    "version": 3
   },
   "file_extension": ".py",
   "mimetype": "text/x-python",
   "name": "python",
   "nbconvert_exporter": "python",
   "pygments_lexer": "ipython3",
   "version": "3.10.6"
  }
 },
 "nbformat": 4,
 "nbformat_minor": 5
}
