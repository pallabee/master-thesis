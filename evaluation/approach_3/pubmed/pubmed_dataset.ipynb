{
 "cells": [
  {
   "cell_type": "markdown",
   "id": "120a7f9a",
   "metadata": {},
   "source": [
    "# PubMed"
   ]
  },
  {
   "cell_type": "code",
   "execution_count": 1,
   "id": "4e04e6ca",
   "metadata": {},
   "outputs": [],
   "source": [
    " # This code works in Python 3.10.6\n",
    "import matplotlib.pyplot as plt\n",
    "import numpy as np\n",
    "import pandas as pd\n",
    "import networkx as nx\n",
    "from torch_geometric.datasets.dblp import DBLP\n",
    "import random\n",
    "import torch\n",
    "from torch import optim\n",
    "from torch_geometric.data import HeteroData\n",
    "import torch_geometric.transforms as T\n",
    "import torch.nn.functional as F\n",
    "from torch_geometric.nn import HeteroConv, Linear, SAGEConv\n",
    "import csv\n",
    "\n",
    "import warnings\n",
    "warnings.filterwarnings('ignore')"
   ]
  },
  {
   "cell_type": "markdown",
   "id": "5e592cdc",
   "metadata": {},
   "source": [
    "Load Dataset"
   ]
  },
  {
   "cell_type": "code",
   "execution_count": 2,
   "id": "0d53e12a-6c07-49f8-a3ce-801df2d17bbf",
   "metadata": {},
   "outputs": [],
   "source": [
    "df_nodes = pd.read_table(('node_pubmed.dat'),names=['node_id', 'node_name', 'node_type', 'node_attributes'],quoting=csv.QUOTE_NONE)\n",
    "#df_nodes"
   ]
  },
  {
   "cell_type": "code",
   "execution_count": 3,
   "id": "7eabd684-3d23-4db8-85e0-16e0b58bb5f5",
   "metadata": {},
   "outputs": [],
   "source": [
    "df_labels_train = pd.read_table(('label_pubmed.dat'),names=['node_id', 'node_name', 'node_type', 'node_label'])\n",
    "#df_labels_train"
   ]
  },
  {
   "cell_type": "code",
   "execution_count": 4,
   "id": "7aef2931-2a48-4ab9-8f73-299247a96c66",
   "metadata": {},
   "outputs": [],
   "source": [
    "df_labels_test = pd.read_table(('label_pubmed.dat.test'),names=['node_id', 'node_name', 'node_type', 'node_label'])\n",
    "#df_labels_test"
   ]
  },
  {
   "cell_type": "code",
   "execution_count": 5,
   "id": "b2d5c78c-d737-463f-93a0-d4f8c8903220",
   "metadata": {},
   "outputs": [],
   "source": [
    "df_labels = pd.concat([df_labels_train, df_labels_test],ignore_index=True)\n",
    "#df_labels"
   ]
  },
  {
   "cell_type": "code",
   "execution_count": 6,
   "id": "f87f8c8b-c5a5-4bbe-ad20-d71427732c8c",
   "metadata": {},
   "outputs": [
    {
     "data": {
      "text/html": [
       "<div>\n",
       "<style scoped>\n",
       "    .dataframe tbody tr th:only-of-type {\n",
       "        vertical-align: middle;\n",
       "    }\n",
       "\n",
       "    .dataframe tbody tr th {\n",
       "        vertical-align: top;\n",
       "    }\n",
       "\n",
       "    .dataframe thead th {\n",
       "        text-align: right;\n",
       "    }\n",
       "</style>\n",
       "<table border=\"1\" class=\"dataframe\">\n",
       "  <thead>\n",
       "    <tr style=\"text-align: right;\">\n",
       "      <th></th>\n",
       "      <th>node_id</th>\n",
       "      <th>node_name</th>\n",
       "      <th>node_type</th>\n",
       "      <th>node_attributes</th>\n",
       "    </tr>\n",
       "  </thead>\n",
       "  <tbody>\n",
       "    <tr>\n",
       "      <th>9</th>\n",
       "      <td>9</td>\n",
       "      <td>RVF</td>\n",
       "      <td>1</td>\n",
       "      <td>-1.072947,1.158542,0.498745,-0.085264,0.474166...</td>\n",
       "    </tr>\n",
       "    <tr>\n",
       "      <th>10</th>\n",
       "      <td>10</td>\n",
       "      <td>diarrheal_enterotoxin</td>\n",
       "      <td>1</td>\n",
       "      <td>-0.016865,0.004677,0.066797,-0.062516,-0.0147,...</td>\n",
       "    </tr>\n",
       "    <tr>\n",
       "      <th>13</th>\n",
       "      <td>13</td>\n",
       "      <td>VUSE</td>\n",
       "      <td>1</td>\n",
       "      <td>-0.075162,0.044893,0.004554,-0.070527,-0.00537...</td>\n",
       "    </tr>\n",
       "    <tr>\n",
       "      <th>14</th>\n",
       "      <td>14</td>\n",
       "      <td>cardiac_auscultation</td>\n",
       "      <td>1</td>\n",
       "      <td>0.07281,-0.075333,-0.027466,0.005992,-0.065542...</td>\n",
       "    </tr>\n",
       "    <tr>\n",
       "      <th>15</th>\n",
       "      <td>15</td>\n",
       "      <td>intraoral_squamous_cell_carcinoma</td>\n",
       "      <td>1</td>\n",
       "      <td>0.043272,-0.057455,0.068631,0.059395,-0.065671...</td>\n",
       "    </tr>\n",
       "    <tr>\n",
       "      <th>...</th>\n",
       "      <td>...</td>\n",
       "      <td>...</td>\n",
       "      <td>...</td>\n",
       "      <td>...</td>\n",
       "    </tr>\n",
       "    <tr>\n",
       "      <th>63095</th>\n",
       "      <td>63095</td>\n",
       "      <td>Schistosoma_mansoni_infections</td>\n",
       "      <td>1</td>\n",
       "      <td>-0.013617,-0.046871,0.036176,-0.063161,-0.0984...</td>\n",
       "    </tr>\n",
       "    <tr>\n",
       "      <th>63096</th>\n",
       "      <td>63096</td>\n",
       "      <td>permeability_transition_pore</td>\n",
       "      <td>1</td>\n",
       "      <td>0.027475,0.017549,0.04185,0.013369,-0.092689,-...</td>\n",
       "    </tr>\n",
       "    <tr>\n",
       "      <th>63098</th>\n",
       "      <td>63098</td>\n",
       "      <td>nutrient-deficient</td>\n",
       "      <td>1</td>\n",
       "      <td>0.012721,-0.355395,-0.074993,-0.000885,-0.0688...</td>\n",
       "    </tr>\n",
       "    <tr>\n",
       "      <th>63104</th>\n",
       "      <td>63104</td>\n",
       "      <td>archival_tumor</td>\n",
       "      <td>1</td>\n",
       "      <td>0.066291,0.020142,0.146529,-0.058354,0.11038,0...</td>\n",
       "    </tr>\n",
       "    <tr>\n",
       "      <th>63107</th>\n",
       "      <td>63107</td>\n",
       "      <td>Digital_Health_Literacy</td>\n",
       "      <td>1</td>\n",
       "      <td>-0.01894,-0.061136,0.097672,-0.102349,0.078652...</td>\n",
       "    </tr>\n",
       "  </tbody>\n",
       "</table>\n",
       "<p>20163 rows × 4 columns</p>\n",
       "</div>"
      ],
      "text/plain": [
       "       node_id                          node_name  node_type  \\\n",
       "9            9                                RVF          1   \n",
       "10          10              diarrheal_enterotoxin          1   \n",
       "13          13                               VUSE          1   \n",
       "14          14               cardiac_auscultation          1   \n",
       "15          15  intraoral_squamous_cell_carcinoma          1   \n",
       "...        ...                                ...        ...   \n",
       "63095    63095     Schistosoma_mansoni_infections          1   \n",
       "63096    63096       permeability_transition_pore          1   \n",
       "63098    63098                 nutrient-deficient          1   \n",
       "63104    63104                     archival_tumor          1   \n",
       "63107    63107            Digital_Health_Literacy          1   \n",
       "\n",
       "                                         node_attributes  \n",
       "9      -1.072947,1.158542,0.498745,-0.085264,0.474166...  \n",
       "10     -0.016865,0.004677,0.066797,-0.062516,-0.0147,...  \n",
       "13     -0.075162,0.044893,0.004554,-0.070527,-0.00537...  \n",
       "14     0.07281,-0.075333,-0.027466,0.005992,-0.065542...  \n",
       "15     0.043272,-0.057455,0.068631,0.059395,-0.065671...  \n",
       "...                                                  ...  \n",
       "63095  -0.013617,-0.046871,0.036176,-0.063161,-0.0984...  \n",
       "63096  0.027475,0.017549,0.04185,0.013369,-0.092689,-...  \n",
       "63098  0.012721,-0.355395,-0.074993,-0.000885,-0.0688...  \n",
       "63104  0.066291,0.020142,0.146529,-0.058354,0.11038,0...  \n",
       "63107  -0.01894,-0.061136,0.097672,-0.102349,0.078652...  \n",
       "\n",
       "[20163 rows x 4 columns]"
      ]
     },
     "execution_count": 6,
     "metadata": {},
     "output_type": "execute_result"
    }
   ],
   "source": [
    "df_nodes[df_nodes['node_type'] == 1]"
   ]
  },
  {
   "cell_type": "markdown",
   "id": "f922b1f2-d651-4830-8dfa-a1b8c340a824",
   "metadata": {},
   "source": [
    "TYPE\tMEANING\n",
    "0\t\tGENE\n",
    "1\t\tDISEASE\n",
    "2\t\tCHEMICAL\n",
    "3\t\tSPECIES"
   ]
  },
  {
   "cell_type": "markdown",
   "id": "b11cb92e",
   "metadata": {},
   "source": [
    "Data Preparation"
   ]
  },
  {
   "cell_type": "code",
   "execution_count": 7,
   "id": "1df1472f-078d-4ca5-8049-5d04bdce2d80",
   "metadata": {},
   "outputs": [],
   "source": [
    "#Select the nodes of type 1 which are labeled\n",
    "df_disease=pd.merge(df_nodes, df_labels, on=\"node_id\")[['node_id','node_attributes','node_label']]"
   ]
  },
  {
   "cell_type": "code",
   "execution_count": 8,
   "id": "f25b787a-8b11-4692-9857-b55413847254",
   "metadata": {},
   "outputs": [],
   "source": [
    "#df_disease"
   ]
  },
  {
   "cell_type": "code",
   "execution_count": 9,
   "id": "918697fd-8848-4291-b748-9f6d9f482aaf",
   "metadata": {},
   "outputs": [],
   "source": [
    "df_gene = df_nodes[df_nodes['node_type'] == 0]\n",
    "#df_gene"
   ]
  },
  {
   "cell_type": "code",
   "execution_count": 10,
   "id": "4c8e4237-1f14-4f29-a894-5ecd8b1acb95",
   "metadata": {},
   "outputs": [],
   "source": [
    "df_chemical = df_nodes[df_nodes['node_type'] == 2]\n",
    "#df_chemical"
   ]
  },
  {
   "cell_type": "code",
   "execution_count": 11,
   "id": "4e9f7a9b-a1c6-4f19-a394-accda5826333",
   "metadata": {},
   "outputs": [],
   "source": [
    "df_species = df_nodes[df_nodes['node_type'] == 3]\n",
    "#df_species"
   ]
  },
  {
   "cell_type": "code",
   "execution_count": 12,
   "id": "1c054e60",
   "metadata": {},
   "outputs": [],
   "source": [
    "def convert_string_to_float(df):\n",
    "    return df['node_attributes'].apply(lambda x: np.fromstring(x, dtype=float, sep=',' ))"
   ]
  },
  {
   "cell_type": "code",
   "execution_count": 13,
   "id": "d8dd1779",
   "metadata": {},
   "outputs": [],
   "source": [
    "def convert_to_tensor(df):\n",
    "    return torch.tensor(df).to(dtype=torch.float32)"
   ]
  },
  {
   "cell_type": "code",
   "execution_count": 14,
   "id": "de3ac821-c913-4d85-84f5-72a5079b4860",
   "metadata": {},
   "outputs": [],
   "source": [
    "disease= convert_string_to_float(df_disease)\n",
    "#print(disease)\n",
    "x_disease = convert_to_tensor(disease)\n",
    "#x_disease"
   ]
  },
  {
   "cell_type": "code",
   "execution_count": 15,
   "id": "2b5a371e-7ee1-4a93-b7c0-7ad9b58ee85c",
   "metadata": {},
   "outputs": [],
   "source": [
    "y_disease = torch.tensor(np.array(df_disease['node_label']), dtype=torch.long)\n",
    "#y_disease"
   ]
  },
  {
   "cell_type": "code",
   "execution_count": 16,
   "id": "bc3a3478-4a1b-4360-9f74-b791a69aa990",
   "metadata": {},
   "outputs": [],
   "source": [
    "gene = convert_string_to_float(df_gene)\n",
    "gene = gene.reset_index(drop=True)\n",
    "x_gene = convert_to_tensor(gene)\n",
    "#x_gene"
   ]
  },
  {
   "cell_type": "code",
   "execution_count": 17,
   "id": "e2eb161c-e490-4251-af7c-1c5e872517b6",
   "metadata": {},
   "outputs": [],
   "source": [
    "chemical = convert_string_to_float(df_chemical)\n",
    "chemical = chemical.reset_index(drop=True)\n",
    "x_chemical = convert_to_tensor(chemical)\n",
    "#x_chemical"
   ]
  },
  {
   "cell_type": "code",
   "execution_count": 18,
   "id": "51fc6a64-45fb-4430-aea3-7b89d3ae45b0",
   "metadata": {},
   "outputs": [],
   "source": [
    "species = convert_string_to_float(df_species)\n",
    "species = species.reset_index(drop=True)\n",
    "x_species = convert_to_tensor(species)\n",
    "#x_species"
   ]
  },
  {
   "cell_type": "markdown",
   "id": "4fe605d8",
   "metadata": {},
   "source": [
    "Create Hetero Data"
   ]
  },
  {
   "cell_type": "code",
   "execution_count": 19,
   "id": "50d6c965-73e1-4975-9055-a537bee9d488",
   "metadata": {},
   "outputs": [],
   "source": [
    "data = HeteroData({'disease':{'x': x_disease, 'y':y_disease},'gene':{'x': x_gene},\n",
    "                          'chemical':{'x': x_chemical},'species':{'x': x_species}})"
   ]
  },
  {
   "cell_type": "code",
   "execution_count": 30,
   "id": "566cf0a8-6a0c-4fc7-9b67-711686a61087",
   "metadata": {},
   "outputs": [
    {
     "data": {
      "text/html": [
       "<div>\n",
       "<style scoped>\n",
       "    .dataframe tbody tr th:only-of-type {\n",
       "        vertical-align: middle;\n",
       "    }\n",
       "\n",
       "    .dataframe tbody tr th {\n",
       "        vertical-align: top;\n",
       "    }\n",
       "\n",
       "    .dataframe thead th {\n",
       "        text-align: right;\n",
       "    }\n",
       "</style>\n",
       "<table border=\"1\" class=\"dataframe\">\n",
       "  <thead>\n",
       "    <tr style=\"text-align: right;\">\n",
       "      <th></th>\n",
       "      <th>source</th>\n",
       "      <th>target</th>\n",
       "      <th>link_type</th>\n",
       "      <th>link_weight</th>\n",
       "    </tr>\n",
       "  </thead>\n",
       "  <tbody>\n",
       "    <tr>\n",
       "      <th>0</th>\n",
       "      <td>47789</td>\n",
       "      <td>32267</td>\n",
       "      <td>8</td>\n",
       "      <td>225</td>\n",
       "    </tr>\n",
       "    <tr>\n",
       "      <th>1</th>\n",
       "      <td>14228</td>\n",
       "      <td>31867</td>\n",
       "      <td>3</td>\n",
       "      <td>2</td>\n",
       "    </tr>\n",
       "    <tr>\n",
       "      <th>2</th>\n",
       "      <td>35405</td>\n",
       "      <td>31559</td>\n",
       "      <td>5</td>\n",
       "      <td>2</td>\n",
       "    </tr>\n",
       "    <tr>\n",
       "      <th>3</th>\n",
       "      <td>31559</td>\n",
       "      <td>35405</td>\n",
       "      <td>5</td>\n",
       "      <td>2</td>\n",
       "    </tr>\n",
       "    <tr>\n",
       "      <th>4</th>\n",
       "      <td>885</td>\n",
       "      <td>32267</td>\n",
       "      <td>8</td>\n",
       "      <td>474</td>\n",
       "    </tr>\n",
       "    <tr>\n",
       "      <th>...</th>\n",
       "      <td>...</td>\n",
       "      <td>...</td>\n",
       "      <td>...</td>\n",
       "      <td>...</td>\n",
       "    </tr>\n",
       "    <tr>\n",
       "      <th>236453</th>\n",
       "      <td>4079</td>\n",
       "      <td>62356</td>\n",
       "      <td>2</td>\n",
       "      <td>1</td>\n",
       "    </tr>\n",
       "    <tr>\n",
       "      <th>236454</th>\n",
       "      <td>30859</td>\n",
       "      <td>57440</td>\n",
       "      <td>2</td>\n",
       "      <td>1</td>\n",
       "    </tr>\n",
       "    <tr>\n",
       "      <th>236455</th>\n",
       "      <td>39493</td>\n",
       "      <td>62538</td>\n",
       "      <td>2</td>\n",
       "      <td>1</td>\n",
       "    </tr>\n",
       "    <tr>\n",
       "      <th>236456</th>\n",
       "      <td>39493</td>\n",
       "      <td>32267</td>\n",
       "      <td>2</td>\n",
       "      <td>1</td>\n",
       "    </tr>\n",
       "    <tr>\n",
       "      <th>236457</th>\n",
       "      <td>10739</td>\n",
       "      <td>32267</td>\n",
       "      <td>2</td>\n",
       "      <td>1</td>\n",
       "    </tr>\n",
       "  </tbody>\n",
       "</table>\n",
       "<p>236458 rows × 4 columns</p>\n",
       "</div>"
      ],
      "text/plain": [
       "        source  target  link_type  link_weight\n",
       "0        47789   32267          8          225\n",
       "1        14228   31867          3            2\n",
       "2        35405   31559          5            2\n",
       "3        31559   35405          5            2\n",
       "4          885   32267          8          474\n",
       "...        ...     ...        ...          ...\n",
       "236453    4079   62356          2            1\n",
       "236454   30859   57440          2            1\n",
       "236455   39493   62538          2            1\n",
       "236456   39493   32267          2            1\n",
       "236457   10739   32267          2            1\n",
       "\n",
       "[236458 rows x 4 columns]"
      ]
     },
     "execution_count": 30,
     "metadata": {},
     "output_type": "execute_result"
    }
   ],
   "source": [
    "df_edges = pd.read_table(('link_pubmed.dat'),names=['source', 'target', 'link_type', 'link_weight'])\n",
    "df_edges"
   ]
  },
  {
   "cell_type": "code",
   "execution_count": 21,
   "id": "5d8c6fc0-5c65-455c-bbde-466d1cc52a19",
   "metadata": {},
   "outputs": [],
   "source": [
    "#Delete unlabeled nodes from edge list\n",
    "df_type1= df_nodes[df_nodes['node_type'] == 1]\n",
    "\n",
    "new_list = list(set(list(df_type1['node_id'])).difference(list(df_disease['node_id'])))\n",
    "\n",
    "df_edges = df_edges[~df_edges['source'].isin(new_list)]\n",
    "df_edges = df_edges[~df_edges['target'].isin(new_list)]\n",
    "\n",
    "df_edges = df_edges.reset_index(drop=True)"
   ]
  },
  {
   "cell_type": "code",
   "execution_count": 22,
   "id": "fe032641-aea9-4540-8d17-fcfc3c9df728",
   "metadata": {},
   "outputs": [],
   "source": [
    "#Get lists of edges\n",
    "batchsize = 500\n",
    "gene_to_gene = []\n",
    "gene_to_disease = []\n",
    "disease_to_disease = []\n",
    "chemical_to_gene = []\n",
    "chemical_to_disease = []\n",
    "chemical_to_chemical = []\n",
    "chemical_to_species = []\n",
    "species_to_gene = []\n",
    "species_to_disease = []\n",
    "species_to_species = []\n",
    "remaining_edges = []\n",
    "\n",
    "\n",
    "for i in range(0, len(df_edges), batchsize):\n",
    "    batch = df_edges[i:i+batchsize]\n",
    "    #print(batch)\n",
    "\n",
    "    if (batch.loc[i, \"source\"] in list(df_gene['node_id'])) and (batch.loc[i, \"target\"] in list(df_gene['node_id'])):\n",
    "            gene_to_gene.append((batch.loc[i, \"source\"],batch.loc[i, \"target\"]))\n",
    "            \n",
    "    elif (batch.loc[i, \"source\"] in list(df_gene['node_id'])) and (batch.loc[i, \"target\"] in list(df_disease['node_id'])):\n",
    "            gene_to_disease.append((batch.loc[i, \"source\"],batch.loc[i, \"target\"]))\n",
    "            \n",
    "    elif (batch.loc[i, \"source\"] in list(df_disease['node_id'])) and (batch.loc[i, \"target\"] in list(df_disease['node_id'])):\n",
    "            disease_to_disease.append((batch.loc[i, \"source\"],batch.loc[i, \"target\"]))\n",
    "            \n",
    "    elif (batch.loc[i, \"source\"] in list(df_chemical['node_id'])) and (batch.loc[i, \"target\"] in list(df_gene['node_id'])):\n",
    "            chemical_to_gene.append((batch.loc[i, \"source\"],batch.loc[i, \"target\"]))\n",
    "            \n",
    "    elif (batch.loc[i, \"source\"] in list(df_chemical['node_id'])) and (batch.loc[i, \"target\"] in list(df_disease['node_id'])):\n",
    "            chemical_to_disease.append((batch.loc[i, \"source\"],batch.loc[i, \"target\"]))\n",
    "            \n",
    "    elif (batch.loc[i, \"source\"] in list(df_chemical['node_id'])) and (batch.loc[i, \"target\"] in list(df_chemical['node_id'])):\n",
    "            chemical_to_chemical.append((batch.loc[i, \"source\"],batch.loc[i, \"target\"]))\n",
    "            \n",
    "    elif (batch.loc[i, \"source\"] in list(df_chemical['node_id'])) and (batch.loc[i, \"target\"] in list(df_species['node_id'])):\n",
    "            chemical_to_species.append((batch.loc[i, \"source\"],batch.loc[i, \"target\"]))\n",
    "            \n",
    "    elif (batch.loc[i, \"source\"] in list(df_species['node_id'])) and (batch.loc[i, \"target\"] in list(df_gene['node_id'])):\n",
    "            species_to_gene.append((batch.loc[i, \"source\"],batch.loc[i, \"target\"]))\n",
    "            \n",
    "    elif (batch.loc[i, \"source\"] in list(df_species['node_id'])) and (batch.loc[i, \"target\"] in list(df_disease['node_id'])):\n",
    "            species_to_disease.append((batch.loc[i, \"source\"],batch.loc[i, \"target\"]))\n",
    "            \n",
    "    elif (batch.loc[i, \"source\"] in list(df_species['node_id'])) and (batch.loc[i, \"target\"] in list(df_species['node_id'])):\n",
    "            species_to_species.append((batch.loc[i, \"source\"],batch.loc[i, \"target\"]))\n",
    "    else:\n",
    "        remaining_edges.append((batch.loc[i, \"source\"],batch.loc[i, \"target\"]))"
   ]
  },
  {
   "cell_type": "code",
   "execution_count": 23,
   "id": "70130e09-2a4c-416f-8384-e9e764b9c00a",
   "metadata": {},
   "outputs": [],
   "source": [
    "def preprocess_edges(edgelist,node_list):\n",
    "    res = [[node_list[i] for i, j in edgelist],[node_list[j] for i, j in edgelist]] \n",
    "    node_from = torch.tensor(res[0])\n",
    "    node_to = torch.tensor(res[1])\n",
    "    edges = torch.concat((node_from,node_to)).reshape(-1,len(node_from))\n",
    "    return edges"
   ]
  },
  {
   "cell_type": "code",
   "execution_count": 24,
   "id": "01fc48e2-1ce7-4623-8780-6d4eb53eae13",
   "metadata": {},
   "outputs": [],
   "source": [
    "def remap_indices(node_list):\n",
    "    val_list = [*range(0, len(node_list), 1)]\n",
    "    return dict(zip(node_list,val_list))"
   ]
  },
  {
   "cell_type": "code",
   "execution_count": 25,
   "id": "2a192152-fbee-4002-858f-e29c9e4e7b51",
   "metadata": {},
   "outputs": [],
   "source": [
    " #Re-map indices to correct range\n",
    "gene_nodes_mapping = remap_indices(list(df_gene[\"node_id\"]))\n",
    "disease_nodes_mapping = remap_indices(list(df_disease[\"node_id\"]))\n",
    "chemical_nodes_mapping = remap_indices(list(df_chemical[\"node_id\"]))\n",
    "species_nodes_mapping = remap_indices(list(df_species[\"node_id\"]))"
   ]
  },
  {
   "cell_type": "code",
   "execution_count": 26,
   "id": "2eea58a0-1b65-4264-aa7b-450f94517a80",
   "metadata": {},
   "outputs": [],
   "source": [
    "node_list = {}\n",
    "for d in [gene_nodes_mapping, disease_nodes_mapping, chemical_nodes_mapping,species_nodes_mapping]:\n",
    "    node_list.update(d)"
   ]
  },
  {
   "cell_type": "code",
   "execution_count": 27,
   "id": "cc2e5d04-b787-4b75-b672-49e85999d663",
   "metadata": {},
   "outputs": [],
   "source": [
    "#Prepare edge tensor for hetero data\n",
    "if gene_to_gene:\n",
    "    edge_index_gene_gene = preprocess_edges(gene_to_gene,node_list)\n",
    "    data['gene','to','gene'].edge_index = edge_index_gene_gene\n",
    "if gene_to_disease:\n",
    "    edge_index_gene_disease = preprocess_edges(gene_to_disease,node_list)\n",
    "    data['gene','to','disease'].edge_index = edge_index_gene_disease\n",
    "if disease_to_disease:\n",
    "    edge_index_disease_disease = preprocess_edges(disease_to_disease,node_list)\n",
    "    data['disease','to','disease'].edge_index = edge_index_disease_disease\n",
    "if chemical_to_gene:\n",
    "    edge_index_chemical_gene = preprocess_edges(chemical_to_gene,node_list)\n",
    "    data['chemical','to','gene'].edge_index = edge_index_chemical_gene\n",
    "if chemical_to_disease:\n",
    "    edge_index_chemical_disease = preprocess_edges(chemical_to_disease,node_list)\n",
    "    data['chemical','to','disease'].edge_index = edge_index_chemical_disease\n",
    "if chemical_to_chemical:\n",
    "    edge_index_chemical_chemical = preprocess_edges(chemical_to_chemical,node_list)\n",
    "    data['chemical','to','chemical'].edge_index = edge_index_chemical_chemical\n",
    "if chemical_to_species:\n",
    "    edge_index_chemical_species = preprocess_edges(chemical_to_species,node_list)\n",
    "    data['chemical','to','species'].edge_index = edge_index_chemical_species\n",
    "if species_to_gene:\n",
    "    edge_index_species_gene = preprocess_edges(species_to_gene,node_list)\n",
    "    data['species','to','gene'].edge_index = edge_index_species_gene\n",
    "if species_to_disease:\n",
    "    edge_index_species_disease = preprocess_edges(species_to_disease,node_list)\n",
    "    data['species','to','disease'].edge_index = species_to_disease\n",
    "if species_to_species:\n",
    "    edge_index_species_species = preprocess_edges(species_to_species,node_list)\n",
    "    data['species','to','species'].edge_index = edge_index_species_species"
   ]
  },
  {
   "cell_type": "code",
   "execution_count": 28,
   "id": "03e5c442-a9e4-4f22-9711-a573397eea9d",
   "metadata": {},
   "outputs": [],
   "source": [
    "# transform = T.RandomNodeSplit(split='train_rest', num_val=0.15, num_test=0.15)\n",
    "# data = transform(data)"
   ]
  },
  {
   "cell_type": "code",
   "execution_count": 29,
   "id": "8c556d2b-744e-483c-a408-e356cc2d1373",
   "metadata": {},
   "outputs": [
    {
     "name": "stdout",
     "output_type": "stream",
     "text": [
      "HeteroData(\n",
      "  disease={\n",
      "    x=[454, 200],\n",
      "    y=[454],\n",
      "  },\n",
      "  gene={ x=[13561, 200] },\n",
      "  chemical={ x=[26522, 200] },\n",
      "  species={ x=[2863, 200] },\n",
      "  (gene, to, gene)={ edge_index=[2, 40] },\n",
      "  (gene, to, disease)={ edge_index=[2, 1] },\n",
      "  (chemical, to, gene)={ edge_index=[2, 70] },\n",
      "  (chemical, to, chemical)={ edge_index=[2, 108] },\n",
      "  (chemical, to, species)={ edge_index=[2, 18] },\n",
      "  (species, to, gene)={ edge_index=[2, 6] }\n",
      ")\n"
     ]
    }
   ],
   "source": [
    "#Hetero Data\n",
    "print(data)"
   ]
  },
  {
   "cell_type": "code",
   "execution_count": null,
   "id": "8090cd49",
   "metadata": {},
   "outputs": [],
   "source": []
  },
  {
   "cell_type": "code",
   "execution_count": null,
   "id": "d71f0b5e",
   "metadata": {},
   "outputs": [],
   "source": []
  }
 ],
 "metadata": {
  "kernelspec": {
   "display_name": "Python 3 (ipykernel)",
   "language": "python",
   "name": "python3"
  },
  "language_info": {
   "codemirror_mode": {
    "name": "ipython",
    "version": 3
   },
   "file_extension": ".py",
   "mimetype": "text/x-python",
   "name": "python",
   "nbconvert_exporter": "python",
   "pygments_lexer": "ipython3",
   "version": "3.10.6"
  }
 },
 "nbformat": 4,
 "nbformat_minor": 5
}
